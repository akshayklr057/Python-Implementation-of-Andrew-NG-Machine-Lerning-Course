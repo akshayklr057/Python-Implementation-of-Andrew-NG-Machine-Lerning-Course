{
 "cells": [
  {
   "cell_type": "code",
   "execution_count": 1,
   "metadata": {},
   "outputs": [],
   "source": [
    "%matplotlib inline"
   ]
  },
  {
   "cell_type": "code",
   "execution_count": 39,
   "metadata": {},
   "outputs": [],
   "source": [
    "import pandas as pd\n",
    "import numpy as np\n",
    "import matplotlib.pyplot as plt\n",
    "from scipy.io import loadmat\n",
    "import scipy.optimize as opt\n",
    "import re\n",
    "from nltk.stem import PorterStemmer\n",
    "from nltk.tokenize import word_tokenize\n",
    "from sklearn.svm import SVC"
   ]
  },
  {
   "cell_type": "code",
   "execution_count": 3,
   "metadata": {},
   "outputs": [],
   "source": [
    "def readFile(name):\n",
    "    path = './data/ex6/' + name\n",
    "    try:\n",
    "        fh = open(path, 'r')\n",
    "        mail = fh.read()\n",
    "        fh.close()\n",
    "    except Exception as e:\n",
    "        print(\"Unable to open file\", str(e))\n",
    "    return mail"
   ]
  },
  {
   "cell_type": "code",
   "execution_count": 4,
   "metadata": {},
   "outputs": [],
   "source": [
    "sample_mail = readFile('emailSample1.txt')\n"
   ]
  },
  {
   "cell_type": "code",
   "execution_count": 5,
   "metadata": {},
   "outputs": [
    {
     "data": {
      "text/plain": [
       "['\\n', '\\n', '\\n', '\\n', '\\n', '\\n', '\\n', '\\n', '\\n', '\\n']"
      ]
     },
     "execution_count": 5,
     "metadata": {},
     "output_type": "execute_result"
    }
   ],
   "source": [
    "re.findall('\\n', sample_mail)"
   ]
  },
  {
   "cell_type": "code",
   "execution_count": 6,
   "metadata": {},
   "outputs": [
    {
     "data": {
      "text/plain": [
       "\"> Anyone knows how much it costs to host a web portal ?\\n>\\nWell, it depends on how many visitors you're expecting.\\nThis can be anywhere from less than 10 bucks a month to a couple of $100. \\nYou should checkout http://www.rackspace.com/ or perhaps Amazon EC2 \\nif youre running something big..\\n\\nTo unsubscribe yourself from this mailing list, send an email to:\\ngroupname-unsubscribe@egroups.com\\n\\n\""
      ]
     },
     "execution_count": 6,
     "metadata": {},
     "output_type": "execute_result"
    }
   ],
   "source": [
    "sample_mail"
   ]
  },
  {
   "cell_type": "code",
   "execution_count": 7,
   "metadata": {},
   "outputs": [],
   "source": [
    "def getVocab():\n",
    "    fh_vocab = open('./data/ex6/vocab.txt', 'r')\n",
    "    word_dict = {}\n",
    "    vocab_list = []\n",
    "    line = fh_vocab.readline()\n",
    "    while (line):\n",
    "    #     print(\"line\", line)\n",
    "        line = re.sub('[\\t]', ' ', line)\n",
    "        line = re.sub('[\\n]', '', line)\n",
    "        line = re.sub('[ ]+', ' ', line)\n",
    "        line = line.strip()\n",
    "    #     print(\"Line\", line)\n",
    "        word = line.split()\n",
    "    #     print(\"Word\", word)\n",
    "        \n",
    "        word_dict[word[1]] = int(word[0])\n",
    "#         vocab_list.append(word_dict)\n",
    "        line = fh_vocab.readline()\n",
    "#     return vocab_list\n",
    "    return word_dict"
   ]
  },
  {
   "cell_type": "code",
   "execution_count": 28,
   "metadata": {},
   "outputs": [],
   "source": [
    "def processEmail(mail):\n",
    "    mail = mail.lower()\n",
    "    mail = re.sub('<.*?>', ' ', mail)\n",
    "    mail = re.sub('.*@.+\\.com', 'emailaddr', mail)\n",
    "    mail = re.sub('(http|https):.*\\.com', 'httpaddr', mail)\n",
    "    mail = re.sub('[0-9]+', 'number', mail)\n",
    "    mail = re.sub('\\$+', 'dollar', mail)\n",
    "    mail = re.sub('\\n', ' ', mail)\n",
    "    bad_symbols = re.compile(\"[><\\?/\\\\\\.\\[\\]:,']\")\n",
    "    mail = bad_symbols.sub(' ', mail)\n",
    "    mail = re.sub('[ ]+',' ', mail)\n",
    "    mail = mail.strip()\n",
    "    print(mail)\n",
    "#     print(mail)\n",
    "    vocab_list = getVocab()\n",
    "    ps = PorterStemmer()\n",
    "    tokenized_mail = word_tokenize(mail)\n",
    "    word_indices = []\n",
    "    for word in tokenized_mail:\n",
    "        word = ps.stem(word)\n",
    "#         print(word)\n",
    "        if word in vocab_list.keys():\n",
    "            word_indices.append(vocab_list[word])\n",
    "    \n",
    "    return word_indices\n"
   ]
  },
  {
   "cell_type": "code",
   "execution_count": 29,
   "metadata": {},
   "outputs": [
    {
     "name": "stdout",
     "output_type": "stream",
     "text": [
      "anyone knows how much it costs to host a web portal well it depends on how many visitors you re expecting this can be anywhere from less than number bucks a month to a couple of dollarnumber you should checkout httpaddr or perhaps amazon ecnumber if youre running something big to unsubscribe yourself from this mailing list send an email to emailaddr\n"
     ]
    }
   ],
   "source": [
    "clean_mail_indices = processEmail(sample_mail)"
   ]
  },
  {
   "cell_type": "code",
   "execution_count": 34,
   "metadata": {},
   "outputs": [],
   "source": [
    "def emailFeatures(word_indices):\n",
    "    vocab_dict = getVocab()\n",
    "#     print(vocab_dict)\n",
    "    no_of_features = len(vocab_dict)\n",
    "#     print(no_of_features)\n",
    "    X = [0]*no_of_features\n",
    "#     print(len(X))\n",
    "    for value in vocab_dict.values():\n",
    "#         print(value)\n",
    "#         value = int(value)\n",
    "        if value in word_indices:\n",
    "#             print(index)\n",
    "            X[(value - 1)] = 1\n",
    "    return X"
   ]
  },
  {
   "cell_type": "code",
   "execution_count": 35,
   "metadata": {},
   "outputs": [],
   "source": [
    "feature_vector = emailFeatures(clean_mail_indices)"
   ]
  },
  {
   "cell_type": "code",
   "execution_count": 40,
   "metadata": {},
   "outputs": [],
   "source": [
    "data = loadmat('./data/ex6/spamTrain.mat')"
   ]
  },
  {
   "cell_type": "code",
   "execution_count": 44,
   "metadata": {},
   "outputs": [],
   "source": [
    "X = data['X']\n",
    "y = data['y']"
   ]
  },
  {
   "cell_type": "code",
   "execution_count": 46,
   "metadata": {},
   "outputs": [],
   "source": [
    "def trainModel(C, X, y, kernel, sigma=1):\n",
    "    if kernel == 'linear':\n",
    "        linear_model = SVC(kernel=kernel, C= C)\n",
    "        linear_model.fit(X, y)\n",
    "        return linear_model\n",
    "    else:\n",
    "        gamma = 1/(2*(sigma**2))\n",
    "        model = SVC(kernel=kernel, C = C, gamma=gamma)"
   ]
  },
  {
   "cell_type": "code",
   "execution_count": 48,
   "metadata": {},
   "outputs": [],
   "source": [
    "C = 0.1\n",
    "linear_model = trainModel(C, X, y.flatten(), 'linear') "
   ]
  },
  {
   "cell_type": "code",
   "execution_count": 50,
   "metadata": {},
   "outputs": [],
   "source": [
    "y_pred = linear_model.predict(X)"
   ]
  },
  {
   "cell_type": "code",
   "execution_count": 61,
   "metadata": {},
   "outputs": [],
   "source": [
    "accuracy = np.mean(np.double(y_pred == y.flatten())*100)"
   ]
  },
  {
   "cell_type": "code",
   "execution_count": 52,
   "metadata": {},
   "outputs": [
    {
     "data": {
      "text/plain": [
       "99.825"
      ]
     },
     "execution_count": 52,
     "metadata": {},
     "output_type": "execute_result"
    }
   ],
   "source": [
    "accuracy"
   ]
  },
  {
   "cell_type": "code",
   "execution_count": 53,
   "metadata": {},
   "outputs": [],
   "source": [
    "data_test = loadmat('./data/ex6/spamTest.mat')"
   ]
  },
  {
   "cell_type": "code",
   "execution_count": 58,
   "metadata": {},
   "outputs": [],
   "source": [
    "X_test = data_test['Xtest']\n",
    "y_test = data_test['ytest']"
   ]
  },
  {
   "cell_type": "code",
   "execution_count": 59,
   "metadata": {},
   "outputs": [],
   "source": [
    "y_pred_test = linear_model.predict(X_test)"
   ]
  },
  {
   "cell_type": "code",
   "execution_count": 62,
   "metadata": {},
   "outputs": [],
   "source": [
    "accuracy_test = np.mean(np.double(y_pred_test == y_test.flatten())*100)"
   ]
  },
  {
   "cell_type": "code",
   "execution_count": 63,
   "metadata": {},
   "outputs": [
    {
     "data": {
      "text/plain": [
       "98.9"
      ]
     },
     "execution_count": 63,
     "metadata": {},
     "output_type": "execute_result"
    }
   ],
   "source": [
    "accuracy_test"
   ]
  },
  {
   "cell_type": "code",
   "execution_count": 68,
   "metadata": {},
   "outputs": [
    {
     "data": {
      "text/plain": [
       "array([ 2.73912663,  1.81225137, -1.00010388, ...,  1.56809078,\n",
       "       -1.0001831 , -2.88377927])"
      ]
     },
     "execution_count": 68,
     "metadata": {},
     "output_type": "execute_result"
    }
   ],
   "source": [
    "linear_model.decision_function(X)"
   ]
  },
  {
   "cell_type": "code",
   "execution_count": 82,
   "metadata": {},
   "outputs": [],
   "source": [
    "np.where?"
   ]
  },
  {
   "cell_type": "code",
   "execution_count": 85,
   "metadata": {},
   "outputs": [
    {
     "data": {
      "text/plain": [
       "(array([  58,  334,  474,  689,  702,  727,  807,  813,  889,  971, 1126,\n",
       "        1127, 1128, 1129, 1131, 1132, 1134, 1138, 1140, 1142, 1147, 1193,\n",
       "        1245, 1251, 1253, 1282, 1338, 1478, 1561, 1564, 1598, 1626, 1627,\n",
       "        1748, 1862, 1882], dtype=int64),)"
      ]
     },
     "execution_count": 85,
     "metadata": {},
     "output_type": "execute_result"
    }
   ],
   "source": [
    "np.where((linear_model.coef_[0])==0)"
   ]
  },
  {
   "cell_type": "markdown",
   "metadata": {},
   "source": [
    "Important Concept"
   ]
  },
  {
   "cell_type": "code",
   "execution_count": 123,
   "metadata": {},
   "outputs": [
    {
     "name": "stdout",
     "output_type": "stream",
     "text": [
      "Top predictors of spam: \n",
      "otherwis 0.5006137361746403\n",
      "clearli 0.465916390688888\n",
      "remot 0.42286911706104086\n",
      "gt 0.38362160179406524\n",
      "visa 0.367710398245535\n",
      "base 0.3450640979461706\n",
      "doesn 0.3236320357963838\n",
      "wife 0.2697241060374008\n",
      "previous 0.2672977146177071\n",
      "player 0.2611688867001495\n",
      "mortgag 0.2572981979518164\n",
      "natur 0.2539414551595324\n",
      "ll 0.25346652431419925\n",
      "futur 0.24829699045568662\n",
      "hot 0.24640435783158998\n",
      "Program paused. Press enter to continue.\n"
     ]
    }
   ],
   "source": [
    "from collections import OrderedDict\n",
    "t = sorted(list(enumerate(linear_model.coef_[0])),key=lambda e: e[1], reverse=True)\n",
    "d = OrderedDict(t)\n",
    "# print(d.keys())\n",
    "# print(d.values())\n",
    "idx = list(d.keys())\n",
    "weight = list(d.values())\n",
    "vocabList = getVocab()\n",
    "# print(vocabList)\n",
    "vocabList = {v:k for k,v in vocabList.items()}\n",
    "# vocabList is word:index dictionary list it needs to be changed in index:word dictionary\n",
    "print ('Top predictors of spam: ')\n",
    "for i in range(15):\n",
    "#     print(idx[i])\n",
    "    print (vocabList[idx[i]], weight[i])\n",
    "\n",
    "print ('Program paused. Press enter to continue.')"
   ]
  },
  {
   "cell_type": "code",
   "execution_count": null,
   "metadata": {},
   "outputs": [],
   "source": []
  }
 ],
 "metadata": {
  "kernelspec": {
   "display_name": "Python 3",
   "language": "python",
   "name": "python3"
  },
  "language_info": {
   "codemirror_mode": {
    "name": "ipython",
    "version": 3
   },
   "file_extension": ".py",
   "mimetype": "text/x-python",
   "name": "python",
   "nbconvert_exporter": "python",
   "pygments_lexer": "ipython3",
   "version": "3.7.1"
  }
 },
 "nbformat": 4,
 "nbformat_minor": 2
}
