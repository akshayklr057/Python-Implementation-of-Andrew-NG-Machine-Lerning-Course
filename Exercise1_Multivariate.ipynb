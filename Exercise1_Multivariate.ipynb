{
 "cells": [
  {
   "cell_type": "markdown",
   "metadata": {},
   "source": [
    "We are going to use h(x) = X*theta approach in this notebook"
   ]
  },
  {
   "cell_type": "code",
   "execution_count": 1,
   "metadata": {},
   "outputs": [],
   "source": [
    "%matplotlib inline"
   ]
  },
  {
   "cell_type": "code",
   "execution_count": 2,
   "metadata": {},
   "outputs": [],
   "source": [
    "import pandas as pd\n",
    "import numpy as np\n",
    "import matplotlib.pyplot as plt"
   ]
  },
  {
   "cell_type": "code",
   "execution_count": 3,
   "metadata": {},
   "outputs": [],
   "source": [
    "df = pd.read_csv('data/ex1data2.txt', names = ['X1', 'X2', 'Y'])"
   ]
  },
  {
   "cell_type": "code",
   "execution_count": 4,
   "metadata": {},
   "outputs": [
    {
     "data": {
      "text/html": [
       "<div>\n",
       "<style scoped>\n",
       "    .dataframe tbody tr th:only-of-type {\n",
       "        vertical-align: middle;\n",
       "    }\n",
       "\n",
       "    .dataframe tbody tr th {\n",
       "        vertical-align: top;\n",
       "    }\n",
       "\n",
       "    .dataframe thead th {\n",
       "        text-align: right;\n",
       "    }\n",
       "</style>\n",
       "<table border=\"1\" class=\"dataframe\">\n",
       "  <thead>\n",
       "    <tr style=\"text-align: right;\">\n",
       "      <th></th>\n",
       "      <th>X1</th>\n",
       "      <th>X2</th>\n",
       "      <th>Y</th>\n",
       "    </tr>\n",
       "  </thead>\n",
       "  <tbody>\n",
       "    <tr>\n",
       "      <th>0</th>\n",
       "      <td>2104</td>\n",
       "      <td>3</td>\n",
       "      <td>399900</td>\n",
       "    </tr>\n",
       "    <tr>\n",
       "      <th>1</th>\n",
       "      <td>1600</td>\n",
       "      <td>3</td>\n",
       "      <td>329900</td>\n",
       "    </tr>\n",
       "    <tr>\n",
       "      <th>2</th>\n",
       "      <td>2400</td>\n",
       "      <td>3</td>\n",
       "      <td>369000</td>\n",
       "    </tr>\n",
       "    <tr>\n",
       "      <th>3</th>\n",
       "      <td>1416</td>\n",
       "      <td>2</td>\n",
       "      <td>232000</td>\n",
       "    </tr>\n",
       "    <tr>\n",
       "      <th>4</th>\n",
       "      <td>3000</td>\n",
       "      <td>4</td>\n",
       "      <td>539900</td>\n",
       "    </tr>\n",
       "    <tr>\n",
       "      <th>5</th>\n",
       "      <td>1985</td>\n",
       "      <td>4</td>\n",
       "      <td>299900</td>\n",
       "    </tr>\n",
       "    <tr>\n",
       "      <th>6</th>\n",
       "      <td>1534</td>\n",
       "      <td>3</td>\n",
       "      <td>314900</td>\n",
       "    </tr>\n",
       "    <tr>\n",
       "      <th>7</th>\n",
       "      <td>1427</td>\n",
       "      <td>3</td>\n",
       "      <td>198999</td>\n",
       "    </tr>\n",
       "    <tr>\n",
       "      <th>8</th>\n",
       "      <td>1380</td>\n",
       "      <td>3</td>\n",
       "      <td>212000</td>\n",
       "    </tr>\n",
       "    <tr>\n",
       "      <th>9</th>\n",
       "      <td>1494</td>\n",
       "      <td>3</td>\n",
       "      <td>242500</td>\n",
       "    </tr>\n",
       "    <tr>\n",
       "      <th>10</th>\n",
       "      <td>1940</td>\n",
       "      <td>4</td>\n",
       "      <td>239999</td>\n",
       "    </tr>\n",
       "    <tr>\n",
       "      <th>11</th>\n",
       "      <td>2000</td>\n",
       "      <td>3</td>\n",
       "      <td>347000</td>\n",
       "    </tr>\n",
       "    <tr>\n",
       "      <th>12</th>\n",
       "      <td>1890</td>\n",
       "      <td>3</td>\n",
       "      <td>329999</td>\n",
       "    </tr>\n",
       "    <tr>\n",
       "      <th>13</th>\n",
       "      <td>4478</td>\n",
       "      <td>5</td>\n",
       "      <td>699900</td>\n",
       "    </tr>\n",
       "    <tr>\n",
       "      <th>14</th>\n",
       "      <td>1268</td>\n",
       "      <td>3</td>\n",
       "      <td>259900</td>\n",
       "    </tr>\n",
       "    <tr>\n",
       "      <th>15</th>\n",
       "      <td>2300</td>\n",
       "      <td>4</td>\n",
       "      <td>449900</td>\n",
       "    </tr>\n",
       "    <tr>\n",
       "      <th>16</th>\n",
       "      <td>1320</td>\n",
       "      <td>2</td>\n",
       "      <td>299900</td>\n",
       "    </tr>\n",
       "    <tr>\n",
       "      <th>17</th>\n",
       "      <td>1236</td>\n",
       "      <td>3</td>\n",
       "      <td>199900</td>\n",
       "    </tr>\n",
       "    <tr>\n",
       "      <th>18</th>\n",
       "      <td>2609</td>\n",
       "      <td>4</td>\n",
       "      <td>499998</td>\n",
       "    </tr>\n",
       "    <tr>\n",
       "      <th>19</th>\n",
       "      <td>3031</td>\n",
       "      <td>4</td>\n",
       "      <td>599000</td>\n",
       "    </tr>\n",
       "    <tr>\n",
       "      <th>20</th>\n",
       "      <td>1767</td>\n",
       "      <td>3</td>\n",
       "      <td>252900</td>\n",
       "    </tr>\n",
       "    <tr>\n",
       "      <th>21</th>\n",
       "      <td>1888</td>\n",
       "      <td>2</td>\n",
       "      <td>255000</td>\n",
       "    </tr>\n",
       "    <tr>\n",
       "      <th>22</th>\n",
       "      <td>1604</td>\n",
       "      <td>3</td>\n",
       "      <td>242900</td>\n",
       "    </tr>\n",
       "    <tr>\n",
       "      <th>23</th>\n",
       "      <td>1962</td>\n",
       "      <td>4</td>\n",
       "      <td>259900</td>\n",
       "    </tr>\n",
       "    <tr>\n",
       "      <th>24</th>\n",
       "      <td>3890</td>\n",
       "      <td>3</td>\n",
       "      <td>573900</td>\n",
       "    </tr>\n",
       "    <tr>\n",
       "      <th>25</th>\n",
       "      <td>1100</td>\n",
       "      <td>3</td>\n",
       "      <td>249900</td>\n",
       "    </tr>\n",
       "    <tr>\n",
       "      <th>26</th>\n",
       "      <td>1458</td>\n",
       "      <td>3</td>\n",
       "      <td>464500</td>\n",
       "    </tr>\n",
       "    <tr>\n",
       "      <th>27</th>\n",
       "      <td>2526</td>\n",
       "      <td>3</td>\n",
       "      <td>469000</td>\n",
       "    </tr>\n",
       "    <tr>\n",
       "      <th>28</th>\n",
       "      <td>2200</td>\n",
       "      <td>3</td>\n",
       "      <td>475000</td>\n",
       "    </tr>\n",
       "    <tr>\n",
       "      <th>29</th>\n",
       "      <td>2637</td>\n",
       "      <td>3</td>\n",
       "      <td>299900</td>\n",
       "    </tr>\n",
       "    <tr>\n",
       "      <th>30</th>\n",
       "      <td>1839</td>\n",
       "      <td>2</td>\n",
       "      <td>349900</td>\n",
       "    </tr>\n",
       "    <tr>\n",
       "      <th>31</th>\n",
       "      <td>1000</td>\n",
       "      <td>1</td>\n",
       "      <td>169900</td>\n",
       "    </tr>\n",
       "    <tr>\n",
       "      <th>32</th>\n",
       "      <td>2040</td>\n",
       "      <td>4</td>\n",
       "      <td>314900</td>\n",
       "    </tr>\n",
       "    <tr>\n",
       "      <th>33</th>\n",
       "      <td>3137</td>\n",
       "      <td>3</td>\n",
       "      <td>579900</td>\n",
       "    </tr>\n",
       "    <tr>\n",
       "      <th>34</th>\n",
       "      <td>1811</td>\n",
       "      <td>4</td>\n",
       "      <td>285900</td>\n",
       "    </tr>\n",
       "    <tr>\n",
       "      <th>35</th>\n",
       "      <td>1437</td>\n",
       "      <td>3</td>\n",
       "      <td>249900</td>\n",
       "    </tr>\n",
       "    <tr>\n",
       "      <th>36</th>\n",
       "      <td>1239</td>\n",
       "      <td>3</td>\n",
       "      <td>229900</td>\n",
       "    </tr>\n",
       "    <tr>\n",
       "      <th>37</th>\n",
       "      <td>2132</td>\n",
       "      <td>4</td>\n",
       "      <td>345000</td>\n",
       "    </tr>\n",
       "    <tr>\n",
       "      <th>38</th>\n",
       "      <td>4215</td>\n",
       "      <td>4</td>\n",
       "      <td>549000</td>\n",
       "    </tr>\n",
       "    <tr>\n",
       "      <th>39</th>\n",
       "      <td>2162</td>\n",
       "      <td>4</td>\n",
       "      <td>287000</td>\n",
       "    </tr>\n",
       "    <tr>\n",
       "      <th>40</th>\n",
       "      <td>1664</td>\n",
       "      <td>2</td>\n",
       "      <td>368500</td>\n",
       "    </tr>\n",
       "    <tr>\n",
       "      <th>41</th>\n",
       "      <td>2238</td>\n",
       "      <td>3</td>\n",
       "      <td>329900</td>\n",
       "    </tr>\n",
       "    <tr>\n",
       "      <th>42</th>\n",
       "      <td>2567</td>\n",
       "      <td>4</td>\n",
       "      <td>314000</td>\n",
       "    </tr>\n",
       "    <tr>\n",
       "      <th>43</th>\n",
       "      <td>1200</td>\n",
       "      <td>3</td>\n",
       "      <td>299000</td>\n",
       "    </tr>\n",
       "    <tr>\n",
       "      <th>44</th>\n",
       "      <td>852</td>\n",
       "      <td>2</td>\n",
       "      <td>179900</td>\n",
       "    </tr>\n",
       "    <tr>\n",
       "      <th>45</th>\n",
       "      <td>1852</td>\n",
       "      <td>4</td>\n",
       "      <td>299900</td>\n",
       "    </tr>\n",
       "    <tr>\n",
       "      <th>46</th>\n",
       "      <td>1203</td>\n",
       "      <td>3</td>\n",
       "      <td>239500</td>\n",
       "    </tr>\n",
       "  </tbody>\n",
       "</table>\n",
       "</div>"
      ],
      "text/plain": [
       "      X1  X2       Y\n",
       "0   2104   3  399900\n",
       "1   1600   3  329900\n",
       "2   2400   3  369000\n",
       "3   1416   2  232000\n",
       "4   3000   4  539900\n",
       "5   1985   4  299900\n",
       "6   1534   3  314900\n",
       "7   1427   3  198999\n",
       "8   1380   3  212000\n",
       "9   1494   3  242500\n",
       "10  1940   4  239999\n",
       "11  2000   3  347000\n",
       "12  1890   3  329999\n",
       "13  4478   5  699900\n",
       "14  1268   3  259900\n",
       "15  2300   4  449900\n",
       "16  1320   2  299900\n",
       "17  1236   3  199900\n",
       "18  2609   4  499998\n",
       "19  3031   4  599000\n",
       "20  1767   3  252900\n",
       "21  1888   2  255000\n",
       "22  1604   3  242900\n",
       "23  1962   4  259900\n",
       "24  3890   3  573900\n",
       "25  1100   3  249900\n",
       "26  1458   3  464500\n",
       "27  2526   3  469000\n",
       "28  2200   3  475000\n",
       "29  2637   3  299900\n",
       "30  1839   2  349900\n",
       "31  1000   1  169900\n",
       "32  2040   4  314900\n",
       "33  3137   3  579900\n",
       "34  1811   4  285900\n",
       "35  1437   3  249900\n",
       "36  1239   3  229900\n",
       "37  2132   4  345000\n",
       "38  4215   4  549000\n",
       "39  2162   4  287000\n",
       "40  1664   2  368500\n",
       "41  2238   3  329900\n",
       "42  2567   4  314000\n",
       "43  1200   3  299000\n",
       "44   852   2  179900\n",
       "45  1852   4  299900\n",
       "46  1203   3  239500"
      ]
     },
     "execution_count": 4,
     "metadata": {},
     "output_type": "execute_result"
    }
   ],
   "source": [
    "df"
   ]
  },
  {
   "cell_type": "code",
   "execution_count": 68,
   "metadata": {},
   "outputs": [],
   "source": [
    "X = np.array(df[['X1', 'X2']])\n",
    "Y = np.array(df['Y'])"
   ]
  },
  {
   "cell_type": "code",
   "execution_count": 69,
   "metadata": {},
   "outputs": [
    {
     "name": "stdout",
     "output_type": "stream",
     "text": [
      "Shape of features is (47, 2)\n"
     ]
    }
   ],
   "source": [
    "print(\"Shape of features is {}\".format(X.shape))"
   ]
  },
  {
   "cell_type": "code",
   "execution_count": 18,
   "metadata": {},
   "outputs": [],
   "source": [
    "def featureNormalize(X):\n",
    "    n = X.shape[1] # number of features\n",
    "    m = X.shape[0] # number of examples\n",
    "    mu = np.zeros((1, n))\n",
    "    X_norm = np.zeros(X.shape)\n",
    "    sigma = np.zeros((1,n))\n",
    "    for i in range(n):\n",
    "        mu[0][i] = np.sum(X[:,i])/m   # zero row 1 column\n",
    "        sigma[0][i] = np.sqrt((np.sum(np.square(np.subtract(X[:,i], mu[0][i]))))/(m-1))  # m-1 to match ddof = 1\n",
    "        X_norm[:,i] = (X[:,i] - mu[0][i])/sigma[0][i]\n",
    "#     mu = np.mean(X, axis =0)\n",
    "#     sigma = np.std(X, axis =0, ddof =1)\n",
    "#     X_norm = (X - mu)/sigma\n",
    "    return (X_norm, mu, sigma)"
   ]
  },
  {
   "cell_type": "markdown",
   "metadata": {},
   "source": [
    "Another way is <br>\n",
    "mean = np.mean(X) (need to explore more on this) <br>\n",
    "std = np.std(X)"
   ]
  },
  {
   "cell_type": "code",
   "execution_count": null,
   "metadata": {},
   "outputs": [],
   "source": [
    "# (X[:, 1] - mu[0][1])/sigma[0][1]"
   ]
  },
  {
   "cell_type": "markdown",
   "metadata": {},
   "source": [
    "A wrong implementation of normalising features is np.mean(X) it gives wrong norm as mean and std are calculated on both features combined, but we need each feature to be treated seperately"
   ]
  },
  {
   "cell_type": "code",
   "execution_count": 7,
   "metadata": {},
   "outputs": [],
   "source": [
    "X_norm1 = (X - np.mean(X))/np.std(X)"
   ]
  },
  {
   "cell_type": "code",
   "execution_count": 8,
   "metadata": {},
   "outputs": [
    {
     "data": {
      "text/plain": [
       "1001.9255319148937"
      ]
     },
     "execution_count": 8,
     "metadata": {},
     "output_type": "execute_result"
    }
   ],
   "source": [
    "np.mean(X)"
   ]
  },
  {
   "cell_type": "code",
   "execution_count": 9,
   "metadata": {},
   "outputs": [
    {
     "data": {
      "text/plain": [
       "1143.0528202028345"
      ]
     },
     "execution_count": 9,
     "metadata": {},
     "output_type": "execute_result"
    }
   ],
   "source": [
    "np.std(X)"
   ]
  },
  {
   "cell_type": "code",
   "execution_count": 10,
   "metadata": {},
   "outputs": [
    {
     "data": {
      "text/plain": [
       "array([[ 9.64150080e-01, -8.73910212e-01],\n",
       "       [ 5.23225574e-01, -8.73910212e-01],\n",
       "       [ 1.22310574e+00, -8.73910212e-01],\n",
       "       [ 3.62253135e-01, -8.74785062e-01],\n",
       "       [ 1.74801587e+00, -8.73035361e-01],\n",
       "       [ 8.60042905e-01, -8.73035361e-01],\n",
       "       [ 4.65485460e-01, -8.73910212e-01],\n",
       "       [ 3.71876488e-01, -8.73910212e-01],\n",
       "       [ 3.30758528e-01, -8.73910212e-01],\n",
       "       [ 4.30491452e-01, -8.73910212e-01],\n",
       "       [ 8.20674646e-01, -8.73035361e-01],\n",
       "       [ 8.73165658e-01, -8.73910212e-01],\n",
       "       [ 7.76932135e-01, -8.73910212e-01],\n",
       "       [ 3.04104448e+00, -8.72160511e-01],\n",
       "       [ 2.32775304e-01, -8.73910212e-01],\n",
       "       [ 1.13562072e+00, -8.73035361e-01],\n",
       "       [ 2.78267515e-01, -8.74785062e-01],\n",
       "       [ 2.04780098e-01, -8.73910212e-01],\n",
       "       [ 1.40594944e+00, -8.73035361e-01],\n",
       "       [ 1.77513622e+00, -8.73035361e-01],\n",
       "       [ 6.69325559e-01, -8.73910212e-01],\n",
       "       [ 7.75182435e-01, -8.74785062e-01],\n",
       "       [ 5.26724975e-01, -8.73910212e-01],\n",
       "       [ 8.39921350e-01, -8.73035361e-01],\n",
       "       [ 2.52663256e+00, -8.73910212e-01],\n",
       "       [ 8.58004690e-02, -8.73910212e-01],\n",
       "       [ 3.98996844e-01, -8.73910212e-01],\n",
       "       [ 1.33333687e+00, -8.73910212e-01],\n",
       "       [ 1.04813570e+00, -8.73910212e-01],\n",
       "       [ 1.43044524e+00, -8.73910212e-01],\n",
       "       [ 7.32314774e-01, -8.74785062e-01],\n",
       "       [-1.68455200e-03, -8.75659912e-01],\n",
       "       [ 9.08159667e-01, -8.73035361e-01],\n",
       "       [ 1.86787035e+00, -8.73910212e-01],\n",
       "       [ 7.07818968e-01, -8.73035361e-01],\n",
       "       [ 3.80624990e-01, -8.73910212e-01],\n",
       "       [ 2.07404648e-01, -8.73910212e-01],\n",
       "       [ 9.88645886e-01, -8.73035361e-01],\n",
       "       [ 2.81095887e+00, -8.73035361e-01],\n",
       "       [ 1.01489139e+00, -8.73035361e-01],\n",
       "       [ 5.79215988e-01, -8.74785062e-01],\n",
       "       [ 1.08138001e+00, -8.73910212e-01],\n",
       "       [ 1.36920573e+00, -8.73035361e-01],\n",
       "       [ 1.73285490e-01, -8.73910212e-01],\n",
       "       [-1.31162383e-01, -8.74785062e-01],\n",
       "       [ 7.43687827e-01, -8.73035361e-01],\n",
       "       [ 1.75910041e-01, -8.73910212e-01]])"
      ]
     },
     "execution_count": 10,
     "metadata": {},
     "output_type": "execute_result"
    }
   ],
   "source": [
    "X_norm1"
   ]
  },
  {
   "cell_type": "markdown",
   "metadata": {},
   "source": [
    "np.mean(X) = (np.sum(X[:,0]) + np.sum(X[:,1]))/94\n",
    "That is it takes the sum of all elements of X and gives mean since no axis is defined"
   ]
  },
  {
   "cell_type": "markdown",
   "metadata": {},
   "source": [
    "np.mean(X, axis =0) Gives mean along the column"
   ]
  },
  {
   "cell_type": "code",
   "execution_count": 11,
   "metadata": {},
   "outputs": [],
   "source": [
    "mean = np.zeros((1,2))\n",
    "mean = np.mean(X, axis=0)  # mean along the column of X\n",
    "standard_deviation =  np.std(X, axis =0, ddof =1)  "
   ]
  },
  {
   "cell_type": "markdown",
   "metadata": {},
   "source": [
    "ddof = Delta degree of freedom, it is 0 by default making it 1 matches it's result to Matlab standard deviation <br>\n",
    "<a href= 'https://stackoverflow.com/questions/27600207/why-does-numpy-std-give-a-different-result-to-matlab-std'>Check Here</a>"
   ]
  },
  {
   "cell_type": "code",
   "execution_count": 12,
   "metadata": {},
   "outputs": [
    {
     "data": {
      "text/plain": [
       "array([2000.68085106,    3.17021277])"
      ]
     },
     "execution_count": 12,
     "metadata": {},
     "output_type": "execute_result"
    }
   ],
   "source": [
    "mean"
   ]
  },
  {
   "cell_type": "code",
   "execution_count": 13,
   "metadata": {},
   "outputs": [
    {
     "data": {
      "text/plain": [
       "array([7.94702354e+02, 7.60981887e-01])"
      ]
     },
     "execution_count": 13,
     "metadata": {},
     "output_type": "execute_result"
    }
   ],
   "source": [
    "standard_deviation"
   ]
  },
  {
   "cell_type": "code",
   "execution_count": 16,
   "metadata": {},
   "outputs": [],
   "source": [
    "X_norm2 = (X-mean)/standard_deviation"
   ]
  },
  {
   "cell_type": "code",
   "execution_count": 17,
   "metadata": {},
   "outputs": [
    {
     "data": {
      "text/plain": [
       "array([[ 1.30009869e-01, -2.23675187e-01],\n",
       "       [-5.04189838e-01, -2.23675187e-01],\n",
       "       [ 5.02476364e-01, -2.23675187e-01],\n",
       "       [-7.35723065e-01, -1.53776691e+00],\n",
       "       [ 1.25747602e+00,  1.09041654e+00],\n",
       "       [-1.97317285e-02,  1.09041654e+00],\n",
       "       [-5.87239800e-01, -2.23675187e-01],\n",
       "       [-7.21881404e-01, -2.23675187e-01],\n",
       "       [-7.81023044e-01, -2.23675187e-01],\n",
       "       [-6.37573110e-01, -2.23675187e-01],\n",
       "       [-7.63567023e-02,  1.09041654e+00],\n",
       "       [-8.56737193e-04, -2.23675187e-01],\n",
       "       [-1.39273340e-01, -2.23675187e-01],\n",
       "       [ 3.11729182e+00,  2.40450826e+00],\n",
       "       [-9.21956312e-01, -2.23675187e-01],\n",
       "       [ 3.76643089e-01,  1.09041654e+00],\n",
       "       [-8.56523009e-01, -1.53776691e+00],\n",
       "       [-9.62222960e-01, -2.23675187e-01],\n",
       "       [ 7.65467909e-01,  1.09041654e+00],\n",
       "       [ 1.29648433e+00,  1.09041654e+00],\n",
       "       [-2.94048269e-01, -2.23675187e-01],\n",
       "       [-1.41790005e-01, -1.53776691e+00],\n",
       "       [-4.99156507e-01, -2.23675187e-01],\n",
       "       [-4.86733818e-02,  1.09041654e+00],\n",
       "       [ 2.37739217e+00, -2.23675187e-01],\n",
       "       [-1.13335621e+00, -2.23675187e-01],\n",
       "       [-6.82873089e-01, -2.23675187e-01],\n",
       "       [ 6.61026291e-01, -2.23675187e-01],\n",
       "       [ 2.50809813e-01, -2.23675187e-01],\n",
       "       [ 8.00701226e-01, -2.23675187e-01],\n",
       "       [-2.03448310e-01, -1.53776691e+00],\n",
       "       [-1.25918949e+00, -2.85185864e+00],\n",
       "       [ 4.94765729e-02,  1.09041654e+00],\n",
       "       [ 1.42986760e+00, -2.23675187e-01],\n",
       "       [-2.38681627e-01,  1.09041654e+00],\n",
       "       [-7.09298077e-01, -2.23675187e-01],\n",
       "       [-9.58447962e-01, -2.23675187e-01],\n",
       "       [ 1.65243186e-01,  1.09041654e+00],\n",
       "       [ 2.78635031e+00,  1.09041654e+00],\n",
       "       [ 2.02993169e-01,  1.09041654e+00],\n",
       "       [-4.23656542e-01, -1.53776691e+00],\n",
       "       [ 2.98626458e-01, -2.23675187e-01],\n",
       "       [ 7.12617934e-01,  1.09041654e+00],\n",
       "       [-1.00752294e+00, -2.23675187e-01],\n",
       "       [-1.44542274e+00, -1.53776691e+00],\n",
       "       [-1.87089985e-01,  1.09041654e+00],\n",
       "       [-1.00374794e+00, -2.23675187e-01]])"
      ]
     },
     "execution_count": 17,
     "metadata": {},
     "output_type": "execute_result"
    }
   ],
   "source": [
    "X_norm2"
   ]
  },
  {
   "cell_type": "code",
   "execution_count": 19,
   "metadata": {},
   "outputs": [],
   "source": [
    "X_norm, mu, sigma = featureNormalize(X)"
   ]
  },
  {
   "cell_type": "markdown",
   "metadata": {},
   "source": [
    "X_norm will be same as X_norm2 so it can be replaced in function but not equal to X_norm1(which is incorrect)"
   ]
  },
  {
   "cell_type": "code",
   "execution_count": 24,
   "metadata": {},
   "outputs": [
    {
     "data": {
      "text/plain": [
       "array([[ 1.30009869e-01, -2.23675187e-01],\n",
       "       [-5.04189838e-01, -2.23675187e-01],\n",
       "       [ 5.02476364e-01, -2.23675187e-01],\n",
       "       [-7.35723065e-01, -1.53776691e+00],\n",
       "       [ 1.25747602e+00,  1.09041654e+00],\n",
       "       [-1.97317285e-02,  1.09041654e+00],\n",
       "       [-5.87239800e-01, -2.23675187e-01],\n",
       "       [-7.21881404e-01, -2.23675187e-01],\n",
       "       [-7.81023044e-01, -2.23675187e-01],\n",
       "       [-6.37573110e-01, -2.23675187e-01],\n",
       "       [-7.63567023e-02,  1.09041654e+00],\n",
       "       [-8.56737193e-04, -2.23675187e-01],\n",
       "       [-1.39273340e-01, -2.23675187e-01],\n",
       "       [ 3.11729182e+00,  2.40450826e+00],\n",
       "       [-9.21956312e-01, -2.23675187e-01],\n",
       "       [ 3.76643089e-01,  1.09041654e+00],\n",
       "       [-8.56523009e-01, -1.53776691e+00],\n",
       "       [-9.62222960e-01, -2.23675187e-01],\n",
       "       [ 7.65467909e-01,  1.09041654e+00],\n",
       "       [ 1.29648433e+00,  1.09041654e+00],\n",
       "       [-2.94048269e-01, -2.23675187e-01],\n",
       "       [-1.41790005e-01, -1.53776691e+00],\n",
       "       [-4.99156507e-01, -2.23675187e-01],\n",
       "       [-4.86733818e-02,  1.09041654e+00],\n",
       "       [ 2.37739217e+00, -2.23675187e-01],\n",
       "       [-1.13335621e+00, -2.23675187e-01],\n",
       "       [-6.82873089e-01, -2.23675187e-01],\n",
       "       [ 6.61026291e-01, -2.23675187e-01],\n",
       "       [ 2.50809813e-01, -2.23675187e-01],\n",
       "       [ 8.00701226e-01, -2.23675187e-01],\n",
       "       [-2.03448310e-01, -1.53776691e+00],\n",
       "       [-1.25918949e+00, -2.85185864e+00],\n",
       "       [ 4.94765729e-02,  1.09041654e+00],\n",
       "       [ 1.42986760e+00, -2.23675187e-01],\n",
       "       [-2.38681627e-01,  1.09041654e+00],\n",
       "       [-7.09298077e-01, -2.23675187e-01],\n",
       "       [-9.58447962e-01, -2.23675187e-01],\n",
       "       [ 1.65243186e-01,  1.09041654e+00],\n",
       "       [ 2.78635031e+00,  1.09041654e+00],\n",
       "       [ 2.02993169e-01,  1.09041654e+00],\n",
       "       [-4.23656542e-01, -1.53776691e+00],\n",
       "       [ 2.98626458e-01, -2.23675187e-01],\n",
       "       [ 7.12617934e-01,  1.09041654e+00],\n",
       "       [-1.00752294e+00, -2.23675187e-01],\n",
       "       [-1.44542274e+00, -1.53776691e+00],\n",
       "       [-1.87089985e-01,  1.09041654e+00],\n",
       "       [-1.00374794e+00, -2.23675187e-01]])"
      ]
     },
     "execution_count": 24,
     "metadata": {},
     "output_type": "execute_result"
    }
   ],
   "source": [
    "X_norm\n"
   ]
  },
  {
   "cell_type": "code",
   "execution_count": 22,
   "metadata": {},
   "outputs": [
    {
     "data": {
      "text/plain": [
       "array([[2000.68085106,    3.17021277]])"
      ]
     },
     "execution_count": 22,
     "metadata": {},
     "output_type": "execute_result"
    }
   ],
   "source": [
    "mu"
   ]
  },
  {
   "cell_type": "code",
   "execution_count": 23,
   "metadata": {},
   "outputs": [
    {
     "data": {
      "text/plain": [
       "array([[7.94702354e+02, 7.60981887e-01]])"
      ]
     },
     "execution_count": 23,
     "metadata": {},
     "output_type": "execute_result"
    }
   ],
   "source": [
    "sigma"
   ]
  },
  {
   "cell_type": "markdown",
   "metadata": {},
   "source": [
    "<table>\n",
    "    <tr>\n",
    "        <th>mu1</th>\n",
    "        <th>mu2</th>\n",
    "    </tr>\n",
    "    <tr>\n",
    "        <td>44.82978723</td>\n",
    "        <td>34.10638298</td>\n",
    "    </tr>\n",
    "</table>"
   ]
  },
  {
   "cell_type": "code",
   "execution_count": 70,
   "metadata": {},
   "outputs": [],
   "source": [
    "X = np.hstack((np.ones((X.shape[0],1)),X_norm))"
   ]
  },
  {
   "cell_type": "code",
   "execution_count": 26,
   "metadata": {},
   "outputs": [
    {
     "data": {
      "text/plain": [
       "array([[ 1.00000000e+00,  1.30009869e-01, -2.23675187e-01],\n",
       "       [ 1.00000000e+00, -5.04189838e-01, -2.23675187e-01],\n",
       "       [ 1.00000000e+00,  5.02476364e-01, -2.23675187e-01],\n",
       "       [ 1.00000000e+00, -7.35723065e-01, -1.53776691e+00],\n",
       "       [ 1.00000000e+00,  1.25747602e+00,  1.09041654e+00],\n",
       "       [ 1.00000000e+00, -1.97317285e-02,  1.09041654e+00],\n",
       "       [ 1.00000000e+00, -5.87239800e-01, -2.23675187e-01],\n",
       "       [ 1.00000000e+00, -7.21881404e-01, -2.23675187e-01],\n",
       "       [ 1.00000000e+00, -7.81023044e-01, -2.23675187e-01],\n",
       "       [ 1.00000000e+00, -6.37573110e-01, -2.23675187e-01],\n",
       "       [ 1.00000000e+00, -7.63567023e-02,  1.09041654e+00],\n",
       "       [ 1.00000000e+00, -8.56737193e-04, -2.23675187e-01],\n",
       "       [ 1.00000000e+00, -1.39273340e-01, -2.23675187e-01],\n",
       "       [ 1.00000000e+00,  3.11729182e+00,  2.40450826e+00],\n",
       "       [ 1.00000000e+00, -9.21956312e-01, -2.23675187e-01],\n",
       "       [ 1.00000000e+00,  3.76643089e-01,  1.09041654e+00],\n",
       "       [ 1.00000000e+00, -8.56523009e-01, -1.53776691e+00],\n",
       "       [ 1.00000000e+00, -9.62222960e-01, -2.23675187e-01],\n",
       "       [ 1.00000000e+00,  7.65467909e-01,  1.09041654e+00],\n",
       "       [ 1.00000000e+00,  1.29648433e+00,  1.09041654e+00],\n",
       "       [ 1.00000000e+00, -2.94048269e-01, -2.23675187e-01],\n",
       "       [ 1.00000000e+00, -1.41790005e-01, -1.53776691e+00],\n",
       "       [ 1.00000000e+00, -4.99156507e-01, -2.23675187e-01],\n",
       "       [ 1.00000000e+00, -4.86733818e-02,  1.09041654e+00],\n",
       "       [ 1.00000000e+00,  2.37739217e+00, -2.23675187e-01],\n",
       "       [ 1.00000000e+00, -1.13335621e+00, -2.23675187e-01],\n",
       "       [ 1.00000000e+00, -6.82873089e-01, -2.23675187e-01],\n",
       "       [ 1.00000000e+00,  6.61026291e-01, -2.23675187e-01],\n",
       "       [ 1.00000000e+00,  2.50809813e-01, -2.23675187e-01],\n",
       "       [ 1.00000000e+00,  8.00701226e-01, -2.23675187e-01],\n",
       "       [ 1.00000000e+00, -2.03448310e-01, -1.53776691e+00],\n",
       "       [ 1.00000000e+00, -1.25918949e+00, -2.85185864e+00],\n",
       "       [ 1.00000000e+00,  4.94765729e-02,  1.09041654e+00],\n",
       "       [ 1.00000000e+00,  1.42986760e+00, -2.23675187e-01],\n",
       "       [ 1.00000000e+00, -2.38681627e-01,  1.09041654e+00],\n",
       "       [ 1.00000000e+00, -7.09298077e-01, -2.23675187e-01],\n",
       "       [ 1.00000000e+00, -9.58447962e-01, -2.23675187e-01],\n",
       "       [ 1.00000000e+00,  1.65243186e-01,  1.09041654e+00],\n",
       "       [ 1.00000000e+00,  2.78635031e+00,  1.09041654e+00],\n",
       "       [ 1.00000000e+00,  2.02993169e-01,  1.09041654e+00],\n",
       "       [ 1.00000000e+00, -4.23656542e-01, -1.53776691e+00],\n",
       "       [ 1.00000000e+00,  2.98626458e-01, -2.23675187e-01],\n",
       "       [ 1.00000000e+00,  7.12617934e-01,  1.09041654e+00],\n",
       "       [ 1.00000000e+00, -1.00752294e+00, -2.23675187e-01],\n",
       "       [ 1.00000000e+00, -1.44542274e+00, -1.53776691e+00],\n",
       "       [ 1.00000000e+00, -1.87089985e-01,  1.09041654e+00],\n",
       "       [ 1.00000000e+00, -1.00374794e+00, -2.23675187e-01]])"
      ]
     },
     "execution_count": 26,
     "metadata": {},
     "output_type": "execute_result"
    }
   ],
   "source": [
    "X"
   ]
  },
  {
   "cell_type": "code",
   "execution_count": 27,
   "metadata": {
    "scrolled": true
   },
   "outputs": [],
   "source": [
    "def plot_feature_output(X):\n",
    "    plt.figure()\n",
    "    plt.plot(X[:,1],Y, 'o')\n",
    "    plt.xlabel('X1')\n",
    "    plt.ylabel('Y')\n",
    "    plt.title('X1 Vs Y')\n",
    "    plt.show()\n",
    "    plt.figure()\n",
    "    plt.plot(X[:,2],Y, 'o')\n",
    "    plt.xlabel('X2')\n",
    "    plt.ylabel('Y')\n",
    "    plt.title('X2 Vs Y')\n",
    "    plt.show()"
   ]
  },
  {
   "cell_type": "code",
   "execution_count": 29,
   "metadata": {},
   "outputs": [
    {
     "data": {
      "image/png": "[encoded data removed]",
      "text/plain": [
       "<Figure size 432x288 with 1 Axes>"
      ]
     },
     "metadata": {
      "needs_background": "light"
     },
     "output_type": "display_data"
    },
    {
     "data": {
      "image/png": "[encoded data removed]",
      "text/plain": [
       "<Figure size 432x288 with 1 Axes>"
      ]
     },
     "metadata": {
      "needs_background": "light"
     },
     "output_type": "display_data"
    }
   ],
   "source": [
    "plot_feature_output(X)"
   ]
  },
  {
   "cell_type": "code",
   "execution_count": 30,
   "metadata": {},
   "outputs": [],
   "source": [
    "def plot_feature_feature(X):\n",
    "    plt.figure()\n",
    "    plt.scatter(X[:,1],X[:,2])\n",
    "    plt.xlabel('X1')\n",
    "    plt.ylabel('X2')\n",
    "    plt.title('X1 Vs X2')\n",
    "    plt.show()"
   ]
  },
  {
   "cell_type": "code",
   "execution_count": 31,
   "metadata": {},
   "outputs": [
    {
     "data": {
      "image/png": "[encoded data removed]",
      "text/plain": [
       "<Figure size 432x288 with 1 Axes>"
      ]
     },
     "metadata": {
      "needs_background": "light"
     },
     "output_type": "display_data"
    }
   ],
   "source": [
    "plot_feature_feature(X)"
   ]
  },
  {
   "cell_type": "code",
   "execution_count": 32,
   "metadata": {},
   "outputs": [],
   "source": [
    "def initialise_theta(shape):\n",
    "    theta = np.zeros(shape)\n",
    "    return theta"
   ]
  },
  {
   "cell_type": "code",
   "execution_count": 55,
   "metadata": {},
   "outputs": [],
   "source": [
    "theta = initialise_theta((X.shape[1],1))"
   ]
  },
  {
   "cell_type": "code",
   "execution_count": 34,
   "metadata": {},
   "outputs": [
    {
     "data": {
      "text/plain": [
       "array([[0.],\n",
       "       [0.],\n",
       "       [0.]])"
      ]
     },
     "execution_count": 34,
     "metadata": {},
     "output_type": "execute_result"
    }
   ],
   "source": [
    "theta"
   ]
  },
  {
   "cell_type": "code",
   "execution_count": 35,
   "metadata": {},
   "outputs": [
    {
     "data": {
      "text/plain": [
       "(3, 1)"
      ]
     },
     "execution_count": 35,
     "metadata": {},
     "output_type": "execute_result"
    }
   ],
   "source": [
    "theta.shape"
   ]
  },
  {
   "cell_type": "code",
   "execution_count": 36,
   "metadata": {},
   "outputs": [
    {
     "data": {
      "text/plain": [
       "(47,)"
      ]
     },
     "execution_count": 36,
     "metadata": {},
     "output_type": "execute_result"
    }
   ],
   "source": [
    "Y.shape"
   ]
  },
  {
   "cell_type": "code",
   "execution_count": 37,
   "metadata": {},
   "outputs": [],
   "source": [
    "Y = Y.reshape(Y.shape[0], 1)"
   ]
  },
  {
   "cell_type": "code",
   "execution_count": 38,
   "metadata": {},
   "outputs": [
    {
     "data": {
      "text/plain": [
       "(47, 1)"
      ]
     },
     "execution_count": 38,
     "metadata": {},
     "output_type": "execute_result"
    }
   ],
   "source": [
    "Y.shape"
   ]
  },
  {
   "cell_type": "code",
   "execution_count": 41,
   "metadata": {},
   "outputs": [],
   "source": [
    "def computeCost(X, Y, theta):\n",
    "    m = Y.shape[0]\n",
    "    cost = np.sum(np.square(np.subtract((np.dot(X, theta)), Y)))/(2*m)\n",
    "    return cost"
   ]
  },
  {
   "cell_type": "code",
   "execution_count": 42,
   "metadata": {},
   "outputs": [],
   "source": [
    "J = computeCost(X, Y, theta)"
   ]
  },
  {
   "cell_type": "code",
   "execution_count": 43,
   "metadata": {},
   "outputs": [
    {
     "data": {
      "text/plain": [
       "65591548106.45744"
      ]
     },
     "execution_count": 43,
     "metadata": {},
     "output_type": "execute_result"
    }
   ],
   "source": [
    "J"
   ]
  },
  {
   "cell_type": "code",
   "execution_count": 46,
   "metadata": {},
   "outputs": [],
   "source": [
    "alpha = 0.01\n",
    "num_of_iterations = 400"
   ]
  },
  {
   "cell_type": "code",
   "execution_count": 47,
   "metadata": {},
   "outputs": [],
   "source": [
    "def gradientDescentMulti(X, Y, theta, alpha, num_of_iterations):\n",
    "    m = Y.shape[0]\n",
    "    cost_array = np.zeros((num_of_iterations,1))\n",
    "    for i in range(num_of_iterations):\n",
    "        cost = computeCost(X, Y, theta)\n",
    "        cost_array[i] = cost\n",
    "        theta = theta - (alpha/m)*(np.dot(X.T,(np.dot(X,theta) - Y)))\n",
    "    return (theta, cost_array)"
   ]
  },
  {
   "cell_type": "code",
   "execution_count": 48,
   "metadata": {},
   "outputs": [],
   "source": [
    "theta, cost_array = gradientDescentMulti(X, Y, theta, alpha, num_of_iterations)"
   ]
  },
  {
   "cell_type": "code",
   "execution_count": 49,
   "metadata": {},
   "outputs": [
    {
     "data": {
      "text/plain": [
       "array([[334302.06399328],\n",
       "       [100087.11600585],\n",
       "       [  3673.54845093]])"
      ]
     },
     "execution_count": 49,
     "metadata": {},
     "output_type": "execute_result"
    }
   ],
   "source": [
    "theta"
   ]
  },
  {
   "cell_type": "code",
   "execution_count": 50,
   "metadata": {},
   "outputs": [
    {
     "data": {
      "text/plain": [
       "array([[6.55915481e+10],\n",
       "       [6.43007496e+10],\n",
       "       [6.30367950e+10],\n",
       "       [6.17991118e+10],\n",
       "       [6.05871404e+10],\n",
       "       [5.94003332e+10],\n",
       "       [5.82381546e+10],\n",
       "       [5.71000810e+10],\n",
       "       [5.59856000e+10],\n",
       "       [5.48942105e+10],\n",
       "       [5.38254223e+10],\n",
       "       [5.27787561e+10],\n",
       "       [5.17537429e+10],\n",
       "       [5.07499240e+10],\n",
       "       [4.97668505e+10],\n",
       "       [4.88040836e+10],\n",
       "       [4.78611938e+10],\n",
       "       [4.69377610e+10],\n",
       "       [4.60333743e+10],\n",
       "       [4.51476316e+10],\n",
       "       [4.42801397e+10],\n",
       "       [4.34305137e+10],\n",
       "       [4.25983772e+10],\n",
       "       [4.17833619e+10],\n",
       "       [4.09851074e+10],\n",
       "       [4.02032613e+10],\n",
       "       [3.94374785e+10],\n",
       "       [3.86874216e+10],\n",
       "       [3.79527603e+10],\n",
       "       [3.72331717e+10],\n",
       "       [3.65283394e+10],\n",
       "       [3.58379543e+10],\n",
       "       [3.51617135e+10],\n",
       "       [3.44993210e+10],\n",
       "       [3.38504869e+10],\n",
       "       [3.32149275e+10],\n",
       "       [3.25923655e+10],\n",
       "       [3.19825292e+10],\n",
       "       [3.13851529e+10],\n",
       "       [3.07999764e+10],\n",
       "       [3.02267454e+10],\n",
       "       [2.96652106e+10],\n",
       "       [2.91151285e+10],\n",
       "       [2.85762604e+10],\n",
       "       [2.80483728e+10],\n",
       "       [2.75312374e+10],\n",
       "       [2.70246304e+10],\n",
       "       [2.65283331e+10],\n",
       "       [2.60421313e+10],\n",
       "       [2.55658153e+10],\n",
       "       [2.50991798e+10],\n",
       "       [2.46420242e+10],\n",
       "       [2.41941518e+10],\n",
       "       [2.37553703e+10],\n",
       "       [2.33254912e+10],\n",
       "       [2.29043304e+10],\n",
       "       [2.24917073e+10],\n",
       "       [2.20874453e+10],\n",
       "       [2.16913717e+10],\n",
       "       [2.13033171e+10],\n",
       "       [2.09231159e+10],\n",
       "       [2.05506060e+10],\n",
       "       [2.01856286e+10],\n",
       "       [1.98280283e+10],\n",
       "       [1.94776531e+10],\n",
       "       [1.91343541e+10],\n",
       "       [1.87979854e+10],\n",
       "       [1.84684044e+10],\n",
       "       [1.81454713e+10],\n",
       "       [1.78290494e+10],\n",
       "       [1.75190049e+10],\n",
       "       [1.72152065e+10],\n",
       "       [1.69175261e+10],\n",
       "       [1.66258378e+10],\n",
       "       [1.63400188e+10],\n",
       "       [1.60599486e+10],\n",
       "       [1.57855093e+10],\n",
       "       [1.55165854e+10],\n",
       "       [1.52530639e+10],\n",
       "       [1.49948341e+10],\n",
       "       [1.47417878e+10],\n",
       "       [1.44938187e+10],\n",
       "       [1.42508230e+10],\n",
       "       [1.40126990e+10],\n",
       "       [1.37793471e+10],\n",
       "       [1.35506698e+10],\n",
       "       [1.33265716e+10],\n",
       "       [1.31069590e+10],\n",
       "       [1.28917404e+10],\n",
       "       [1.26808262e+10],\n",
       "       [1.24741286e+10],\n",
       "       [1.22715617e+10],\n",
       "       [1.20730413e+10],\n",
       "       [1.18784849e+10],\n",
       "       [1.16878119e+10],\n",
       "       [1.15009431e+10],\n",
       "       [1.13178013e+10],\n",
       "       [1.11383105e+10],\n",
       "       [1.09623965e+10],\n",
       "       [1.07899868e+10],\n",
       "       [1.06210099e+10],\n",
       "       [1.04553964e+10],\n",
       "       [1.02930778e+10],\n",
       "       [1.01339873e+10],\n",
       "       [9.97805946e+09],\n",
       "       [9.82523010e+09],\n",
       "       [9.67543643e+09],\n",
       "       [9.52861692e+09],\n",
       "       [9.38471134e+09],\n",
       "       [9.24366069e+09],\n",
       "       [9.10540718e+09],\n",
       "       [8.96989420e+09],\n",
       "       [8.83706634e+09],\n",
       "       [8.70686930e+09],\n",
       "       [8.57924990e+09],\n",
       "       [8.45415606e+09],\n",
       "       [8.33153678e+09],\n",
       "       [8.21134209e+09],\n",
       "       [8.09352306e+09],\n",
       "       [7.97803175e+09],\n",
       "       [7.86482121e+09],\n",
       "       [7.75384547e+09],\n",
       "       [7.64505947e+09],\n",
       "       [7.53841910e+09],\n",
       "       [7.43388115e+09],\n",
       "       [7.33140328e+09],\n",
       "       [7.23094403e+09],\n",
       "       [7.13246279e+09],\n",
       "       [7.03591977e+09],\n",
       "       [6.94127601e+09],\n",
       "       [6.84849332e+09],\n",
       "       [6.75753432e+09],\n",
       "       [6.66836237e+09],\n",
       "       [6.58094160e+09],\n",
       "       [6.49523685e+09],\n",
       "       [6.41121370e+09],\n",
       "       [6.32883841e+09],\n",
       "       [6.24807794e+09],\n",
       "       [6.16889993e+09],\n",
       "       [6.09127266e+09],\n",
       "       [6.01516507e+09],\n",
       "       [5.94054674e+09],\n",
       "       [5.86738785e+09],\n",
       "       [5.79565919e+09],\n",
       "       [5.72533216e+09],\n",
       "       [5.65637873e+09],\n",
       "       [5.58877144e+09],\n",
       "       [5.52248339e+09],\n",
       "       [5.45748823e+09],\n",
       "       [5.39376013e+09],\n",
       "       [5.33127381e+09],\n",
       "       [5.27000448e+09],\n",
       "       [5.20992786e+09],\n",
       "       [5.15102016e+09],\n",
       "       [5.09325809e+09],\n",
       "       [5.03661880e+09],\n",
       "       [4.98107994e+09],\n",
       "       [4.92661958e+09],\n",
       "       [4.87321626e+09],\n",
       "       [4.82084893e+09],\n",
       "       [4.76949698e+09],\n",
       "       [4.71914022e+09],\n",
       "       [4.66975887e+09],\n",
       "       [4.62133353e+09],\n",
       "       [4.57384521e+09],\n",
       "       [4.52727530e+09],\n",
       "       [4.48160557e+09],\n",
       "       [4.43681814e+09],\n",
       "       [4.39289552e+09],\n",
       "       [4.34982055e+09],\n",
       "       [4.30757642e+09],\n",
       "       [4.26614666e+09],\n",
       "       [4.22551514e+09],\n",
       "       [4.18566605e+09],\n",
       "       [4.14658390e+09],\n",
       "       [4.10825350e+09],\n",
       "       [4.07065998e+09],\n",
       "       [4.03378877e+09],\n",
       "       [3.99762559e+09],\n",
       "       [3.96215643e+09],\n",
       "       [3.92736760e+09],\n",
       "       [3.89324564e+09],\n",
       "       [3.85977740e+09],\n",
       "       [3.82694997e+09],\n",
       "       [3.79475071e+09],\n",
       "       [3.76316723e+09],\n",
       "       [3.73218738e+09],\n",
       "       [3.70179928e+09],\n",
       "       [3.67199126e+09],\n",
       "       [3.64275191e+09],\n",
       "       [3.61407001e+09],\n",
       "       [3.58593461e+09],\n",
       "       [3.55833496e+09],\n",
       "       [3.53126051e+09],\n",
       "       [3.50470094e+09],\n",
       "       [3.47864614e+09],\n",
       "       [3.45308620e+09],\n",
       "       [3.42801138e+09],\n",
       "       [3.40341218e+09],\n",
       "       [3.37927926e+09],\n",
       "       [3.35560348e+09],\n",
       "       [3.33237587e+09],\n",
       "       [3.30958765e+09],\n",
       "       [3.28723021e+09],\n",
       "       [3.26529512e+09],\n",
       "       [3.24377411e+09],\n",
       "       [3.22265908e+09],\n",
       "       [3.20194208e+09],\n",
       "       [3.18161535e+09],\n",
       "       [3.16167124e+09],\n",
       "       [3.14210228e+09],\n",
       "       [3.12290116e+09],\n",
       "       [3.10406068e+09],\n",
       "       [3.08557381e+09],\n",
       "       [3.06743366e+09],\n",
       "       [3.04963347e+09],\n",
       "       [3.03216661e+09],\n",
       "       [3.01502659e+09],\n",
       "       [2.99820704e+09],\n",
       "       [2.98170173e+09],\n",
       "       [2.96550455e+09],\n",
       "       [2.94960950e+09],\n",
       "       [2.93401072e+09],\n",
       "       [2.91870244e+09],\n",
       "       [2.90367902e+09],\n",
       "       [2.88893494e+09],\n",
       "       [2.87446478e+09],\n",
       "       [2.86026322e+09],\n",
       "       [2.84632506e+09],\n",
       "       [2.83264519e+09],\n",
       "       [2.81921861e+09],\n",
       "       [2.80604042e+09],\n",
       "       [2.79310582e+09],\n",
       "       [2.78041008e+09],\n",
       "       [2.76794860e+09],\n",
       "       [2.75571685e+09],\n",
       "       [2.74371039e+09],\n",
       "       [2.73192487e+09],\n",
       "       [2.72035604e+09],\n",
       "       [2.70899970e+09],\n",
       "       [2.69785178e+09],\n",
       "       [2.68690824e+09],\n",
       "       [2.67616516e+09],\n",
       "       [2.66561868e+09],\n",
       "       [2.65526501e+09],\n",
       "       [2.64510046e+09],\n",
       "       [2.63512138e+09],\n",
       "       [2.62532422e+09],\n",
       "       [2.61570548e+09],\n",
       "       [2.60626174e+09],\n",
       "       [2.59698964e+09],\n",
       "       [2.58788589e+09],\n",
       "       [2.57894728e+09],\n",
       "       [2.57017064e+09],\n",
       "       [2.56155286e+09],\n",
       "       [2.55309092e+09],\n",
       "       [2.54478183e+09],\n",
       "       [2.53662267e+09],\n",
       "       [2.52861058e+09],\n",
       "       [2.52074277e+09],\n",
       "       [2.51301646e+09],\n",
       "       [2.50542898e+09],\n",
       "       [2.49797766e+09],\n",
       "       [2.49065993e+09],\n",
       "       [2.48347325e+09],\n",
       "       [2.47641511e+09],\n",
       "       [2.46948307e+09],\n",
       "       [2.46267476e+09],\n",
       "       [2.45598780e+09],\n",
       "       [2.44941991e+09],\n",
       "       [2.44296883e+09],\n",
       "       [2.43663234e+09],\n",
       "       [2.43040828e+09],\n",
       "       [2.42429451e+09],\n",
       "       [2.41828896e+09],\n",
       "       [2.41238958e+09],\n",
       "       [2.40659436e+09],\n",
       "       [2.40090134e+09],\n",
       "       [2.39530859e+09],\n",
       "       [2.38981423e+09],\n",
       "       [2.38441639e+09],\n",
       "       [2.37911327e+09],\n",
       "       [2.37390309e+09],\n",
       "       [2.36878409e+09],\n",
       "       [2.36375457e+09],\n",
       "       [2.35881284e+09],\n",
       "       [2.35395726e+09],\n",
       "       [2.34918622e+09],\n",
       "       [2.34449813e+09],\n",
       "       [2.33989144e+09],\n",
       "       [2.33536463e+09],\n",
       "       [2.33091621e+09],\n",
       "       [2.32654471e+09],\n",
       "       [2.32224871e+09],\n",
       "       [2.31802678e+09],\n",
       "       [2.31387755e+09],\n",
       "       [2.30979968e+09],\n",
       "       [2.30579183e+09],\n",
       "       [2.30185270e+09],\n",
       "       [2.29798101e+09],\n",
       "       [2.29417552e+09],\n",
       "       [2.29043500e+09],\n",
       "       [2.28675824e+09],\n",
       "       [2.28314406e+09],\n",
       "       [2.27959131e+09],\n",
       "       [2.27609886e+09],\n",
       "       [2.27266558e+09],\n",
       "       [2.26929040e+09],\n",
       "       [2.26597223e+09],\n",
       "       [2.26271003e+09],\n",
       "       [2.25950276e+09],\n",
       "       [2.25634943e+09],\n",
       "       [2.25324903e+09],\n",
       "       [2.25020061e+09],\n",
       "       [2.24720319e+09],\n",
       "       [2.24425586e+09],\n",
       "       [2.24135769e+09],\n",
       "       [2.23850779e+09],\n",
       "       [2.23570527e+09],\n",
       "       [2.23294928e+09],\n",
       "       [2.23023895e+09],\n",
       "       [2.22757347e+09],\n",
       "       [2.22495201e+09],\n",
       "       [2.22237378e+09],\n",
       "       [2.21983798e+09],\n",
       "       [2.21734386e+09],\n",
       "       [2.21489065e+09],\n",
       "       [2.21247761e+09],\n",
       "       [2.21010403e+09],\n",
       "       [2.20776918e+09],\n",
       "       [2.20547237e+09],\n",
       "       [2.20321290e+09],\n",
       "       [2.20099012e+09],\n",
       "       [2.19880335e+09],\n",
       "       [2.19665196e+09],\n",
       "       [2.19453530e+09],\n",
       "       [2.19245275e+09],\n",
       "       [2.19040371e+09],\n",
       "       [2.18838757e+09],\n",
       "       [2.18640375e+09],\n",
       "       [2.18445166e+09],\n",
       "       [2.18253075e+09],\n",
       "       [2.18064045e+09],\n",
       "       [2.17878023e+09],\n",
       "       [2.17694955e+09],\n",
       "       [2.17514787e+09],\n",
       "       [2.17337470e+09],\n",
       "       [2.17162952e+09],\n",
       "       [2.16991185e+09],\n",
       "       [2.16822118e+09],\n",
       "       [2.16655705e+09],\n",
       "       [2.16491900e+09],\n",
       "       [2.16330655e+09],\n",
       "       [2.16171927e+09],\n",
       "       [2.16015670e+09],\n",
       "       [2.15861842e+09],\n",
       "       [2.15710400e+09],\n",
       "       [2.15561302e+09],\n",
       "       [2.15414507e+09],\n",
       "       [2.15269976e+09],\n",
       "       [2.15127668e+09],\n",
       "       [2.14987546e+09],\n",
       "       [2.14849570e+09],\n",
       "       [2.14713704e+09],\n",
       "       [2.14579912e+09],\n",
       "       [2.14448157e+09],\n",
       "       [2.14318404e+09],\n",
       "       [2.14190618e+09],\n",
       "       [2.14064767e+09],\n",
       "       [2.13940815e+09],\n",
       "       [2.13818732e+09],\n",
       "       [2.13698484e+09],\n",
       "       [2.13580040e+09],\n",
       "       [2.13463370e+09],\n",
       "       [2.13348443e+09],\n",
       "       [2.13235229e+09],\n",
       "       [2.13123699e+09],\n",
       "       [2.13013825e+09],\n",
       "       [2.12905578e+09],\n",
       "       [2.12798931e+09],\n",
       "       [2.12693856e+09],\n",
       "       [2.12590327e+09],\n",
       "       [2.12488319e+09],\n",
       "       [2.12387804e+09],\n",
       "       [2.12288759e+09],\n",
       "       [2.12191159e+09],\n",
       "       [2.12094978e+09],\n",
       "       [2.12000194e+09],\n",
       "       [2.11906783e+09],\n",
       "       [2.11814722e+09],\n",
       "       [2.11723989e+09],\n",
       "       [2.11634561e+09],\n",
       "       [2.11546417e+09],\n",
       "       [2.11459536e+09],\n",
       "       [2.11373896e+09],\n",
       "       [2.11289477e+09],\n",
       "       [2.11206259e+09],\n",
       "       [2.11124222e+09],\n",
       "       [2.11043347e+09],\n",
       "       [2.10963615e+09]])"
      ]
     },
     "execution_count": 50,
     "metadata": {},
     "output_type": "execute_result"
    }
   ],
   "source": [
    "cost_array"
   ]
  },
  {
   "cell_type": "code",
   "execution_count": 53,
   "metadata": {
    "scrolled": true
   },
   "outputs": [
    {
     "data": {
      "image/png": "[encoded data removed]",
      "text/plain": [
       "<Figure size 432x288 with 1 Axes>"
      ]
     },
     "metadata": {
      "needs_background": "light"
     },
     "output_type": "display_data"
    }
   ],
   "source": [
    "plt.figure()\n",
    "plt.plot(cost_array)\n",
    "plt.xlabel('Number of iterations')\n",
    "plt.ylabel('Cost')\n",
    "plt.title('Iterations Vs Cost')\n",
    "plt.show()"
   ]
  },
  {
   "cell_type": "code",
   "execution_count": 65,
   "metadata": {},
   "outputs": [],
   "source": [
    "def normalEqn(X, Y):\n",
    "    theta = np.dot(np.linalg.inv(np.dot(X.T, X)) , np.dot(X.T, Y))\n",
    "    return theta"
   ]
  },
  {
   "cell_type": "code",
   "execution_count": 75,
   "metadata": {},
   "outputs": [],
   "source": [
    "theta = normalEqn(X, Y)    # without Normalising and with normalising giving same results"
   ]
  },
  {
   "cell_type": "code",
   "execution_count": 76,
   "metadata": {},
   "outputs": [
    {
     "data": {
      "text/plain": [
       "array([340412.65957447, 110631.05027885,  -6649.47427082])"
      ]
     },
     "execution_count": 76,
     "metadata": {},
     "output_type": "execute_result"
    }
   ],
   "source": [
    "theta"
   ]
  },
  {
   "cell_type": "code",
   "execution_count": 77,
   "metadata": {},
   "outputs": [],
   "source": [
    "J = computeCost(X, Y, theta)"
   ]
  },
  {
   "cell_type": "code",
   "execution_count": 78,
   "metadata": {},
   "outputs": [
    {
     "data": {
      "text/plain": [
       "2043280050.6028287"
      ]
     },
     "execution_count": 78,
     "metadata": {},
     "output_type": "execute_result"
    }
   ],
   "source": [
    "J"
   ]
  },
  {
   "cell_type": "code",
   "execution_count": 81,
   "metadata": {},
   "outputs": [
    {
     "data": {
      "image/png": "[encoded data removed]",
      "text/plain": [
       "<Figure size 432x288 with 1 Axes>"
      ]
     },
     "metadata": {
      "needs_background": "light"
     },
     "output_type": "display_data"
    }
   ],
   "source": [
    "plt.figure()\n",
    "plt.scatter(X[:,1], Y)\n",
    "plt.plot(X[:,1], np.dot(X, theta))\n",
    "plt.show()"
   ]
  },
  {
   "cell_type": "code",
   "execution_count": 84,
   "metadata": {},
   "outputs": [
    {
     "data": {
      "image/png": "[encoded data removed]",
      "text/plain": [
       "<Figure size 432x288 with 1 Axes>"
      ]
     },
     "metadata": {
      "needs_background": "light"
     },
     "output_type": "display_data"
    }
   ],
   "source": [
    "plt.figure()\n",
    "plt.scatter(X[:,2], Y)\n",
    "plt.plot(X[:,2], np.dot(X, theta))\n",
    "plt.show()"
   ]
  },
  {
   "cell_type": "code",
   "execution_count": null,
   "metadata": {},
   "outputs": [],
   "source": []
  }
 ],
 "metadata": {
  "kernelspec": {
   "display_name": "Python 3",
   "language": "python",
   "name": "python3"
  },
  "language_info": {
   "codemirror_mode": {
    "name": "ipython",
    "version": 3
   },
   "file_extension": ".py",
   "mimetype": "text/x-python",
   "name": "python",
   "nbconvert_exporter": "python",
   "pygments_lexer": "ipython3",
   "version": "3.7.1"
  }
 },
 "nbformat": 4,
 "nbformat_minor": 2
}
