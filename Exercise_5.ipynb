{
 "cells": [
  {
   "cell_type": "markdown",
   "metadata": {},
   "source": [
    "Problem :- Predict amount of water flowing out of dam using the change\n",
    "of water level in a reservoir."
   ]
  },
  {
   "cell_type": "code",
   "execution_count": 1,
   "metadata": {},
   "outputs": [],
   "source": [
    "%matplotlib inline"
   ]
  },
  {
   "cell_type": "code",
   "execution_count": 2,
   "metadata": {},
   "outputs": [],
   "source": [
    "import pandas as pd\n",
    "import numpy as np\n",
    "import matplotlib.pyplot as plt\n",
    "from scipy.io import loadmat\n",
    "import scipy.optimize as opt"
   ]
  },
  {
   "cell_type": "markdown",
   "metadata": {},
   "source": [
    "## Load Data"
   ]
  },
  {
   "cell_type": "code",
   "execution_count": 3,
   "metadata": {},
   "outputs": [],
   "source": [
    "data = loadmat('./data/ex5data1.mat')"
   ]
  },
  {
   "cell_type": "code",
   "execution_count": 4,
   "metadata": {},
   "outputs": [
    {
     "data": {
      "text/plain": [
       "{'__header__': b'MATLAB 5.0 MAT-file, Platform: GLNXA64, Created on: Fri Nov  4 22:27:26 2011',\n",
       " '__version__': '1.0',\n",
       " '__globals__': [],\n",
       " 'X': array([[-15.93675813],\n",
       "        [-29.15297922],\n",
       "        [ 36.18954863],\n",
       "        [ 37.49218733],\n",
       "        [-48.05882945],\n",
       "        [ -8.94145794],\n",
       "        [ 15.30779289],\n",
       "        [-34.70626581],\n",
       "        [  1.38915437],\n",
       "        [-44.38375985],\n",
       "        [  7.01350208],\n",
       "        [ 22.76274892]]),\n",
       " 'y': array([[ 2.13431051],\n",
       "        [ 1.17325668],\n",
       "        [34.35910918],\n",
       "        [36.83795516],\n",
       "        [ 2.80896507],\n",
       "        [ 2.12107248],\n",
       "        [14.71026831],\n",
       "        [ 2.61418439],\n",
       "        [ 3.74017167],\n",
       "        [ 3.73169131],\n",
       "        [ 7.62765885],\n",
       "        [22.7524283 ]]),\n",
       " 'Xtest': array([[-33.31800399],\n",
       "        [-37.91216403],\n",
       "        [-51.20693795],\n",
       "        [ -6.13259585],\n",
       "        [ 21.26118327],\n",
       "        [-40.31952949],\n",
       "        [-14.54153167],\n",
       "        [ 32.55976024],\n",
       "        [ 13.39343255],\n",
       "        [ 44.20988595],\n",
       "        [ -1.14267768],\n",
       "        [-12.76686065],\n",
       "        [ 34.05450539],\n",
       "        [ 39.22350028],\n",
       "        [  1.97449674],\n",
       "        [ 29.6217551 ],\n",
       "        [-23.66962971],\n",
       "        [ -9.01180139],\n",
       "        [-55.94057091],\n",
       "        [-35.70859752],\n",
       "        [  9.51020533]]),\n",
       " 'ytest': array([[ 3.31688953],\n",
       "        [ 5.39768952],\n",
       "        [ 0.13042984],\n",
       "        [ 6.1925982 ],\n",
       "        [17.08848712],\n",
       "        [ 0.79950805],\n",
       "        [ 2.82479183],\n",
       "        [28.62123334],\n",
       "        [17.04639081],\n",
       "        [55.38437334],\n",
       "        [ 4.07936733],\n",
       "        [ 8.27039793],\n",
       "        [31.32355102],\n",
       "        [39.15906103],\n",
       "        [ 8.08727989],\n",
       "        [24.11134389],\n",
       "        [ 2.4773548 ],\n",
       "        [ 6.56606472],\n",
       "        [ 6.0380888 ],\n",
       "        [ 4.69273956],\n",
       "        [10.83004606]]),\n",
       " 'Xval': array([[-16.74653578],\n",
       "        [-14.57747075],\n",
       "        [ 34.51575866],\n",
       "        [-47.01007574],\n",
       "        [ 36.97511905],\n",
       "        [-40.68611002],\n",
       "        [ -4.47201098],\n",
       "        [ 26.53363489],\n",
       "        [-42.7976831 ],\n",
       "        [ 25.37409938],\n",
       "        [-31.10955398],\n",
       "        [ 27.31176864],\n",
       "        [ -3.26386201],\n",
       "        [ -1.81827649],\n",
       "        [-40.7196624 ],\n",
       "        [-50.01324365],\n",
       "        [-17.41177155],\n",
       "        [  3.5881937 ],\n",
       "        [  7.08548026],\n",
       "        [ 46.28236902],\n",
       "        [ 14.61228909]]),\n",
       " 'yval': array([[ 4.17020201e+00],\n",
       "        [ 4.06726280e+00],\n",
       "        [ 3.18730676e+01],\n",
       "        [ 1.06236562e+01],\n",
       "        [ 3.18360213e+01],\n",
       "        [ 4.95936972e+00],\n",
       "        [ 4.45159880e+00],\n",
       "        [ 2.22763185e+01],\n",
       "        [-4.38738274e-05],\n",
       "        [ 2.05038016e+01],\n",
       "        [ 3.85834476e+00],\n",
       "        [ 1.93650529e+01],\n",
       "        [ 4.88376281e+00],\n",
       "        [ 1.10971588e+01],\n",
       "        [ 7.46170827e+00],\n",
       "        [ 1.47693464e+00],\n",
       "        [ 2.71916388e+00],\n",
       "        [ 1.09269007e+01],\n",
       "        [ 8.34871235e+00],\n",
       "        [ 5.27819280e+01],\n",
       "        [ 1.33573396e+01]])}"
      ]
     },
     "execution_count": 4,
     "metadata": {},
     "output_type": "execute_result"
    }
   ],
   "source": [
    "data"
   ]
  },
  {
   "cell_type": "code",
   "execution_count": 5,
   "metadata": {},
   "outputs": [],
   "source": [
    "X = data['X']  #training set for learning the model\n",
    "y = data['y']"
   ]
  },
  {
   "cell_type": "code",
   "execution_count": 6,
   "metadata": {},
   "outputs": [],
   "source": [
    "X_val = data['Xval']  # CV set to find out the regularisation parameter\n",
    "y_val = data['yval']"
   ]
  },
  {
   "cell_type": "code",
   "execution_count": 7,
   "metadata": {},
   "outputs": [],
   "source": [
    "X_test = data['Xtest']  # test set for evaluating the performance \n",
    "y_test = data['ytest']"
   ]
  },
  {
   "cell_type": "markdown",
   "metadata": {},
   "source": [
    "## Visualize Data"
   ]
  },
  {
   "cell_type": "code",
   "execution_count": 8,
   "metadata": {},
   "outputs": [],
   "source": [
    "def displayData(X, y):\n",
    "    plt.figure(figsize=(5,5))\n",
    "    plt.plot(X, y, 'rx', linewidth=1.5, markersize=10)\n",
    "    plt.xlabel('Change of Water Level')\n",
    "    plt.ylabel('Amount of Water flowing out')\n",
    "    plt.show()"
   ]
  },
  {
   "cell_type": "code",
   "execution_count": 9,
   "metadata": {},
   "outputs": [
    {
     "data": {
      "image/png": "[encoded data removed]",
      "text/plain": [
       "<Figure size 360x360 with 1 Axes>"
      ]
     },
     "metadata": {
      "needs_background": "light"
     },
     "output_type": "display_data"
    }
   ],
   "source": [
    "displayData(X, y)"
   ]
  },
  {
   "cell_type": "markdown",
   "metadata": {},
   "source": [
    "## Initialise theta"
   ]
  },
  {
   "cell_type": "code",
   "execution_count": 10,
   "metadata": {},
   "outputs": [],
   "source": [
    "def initialiseTheta(shape):\n",
    "    theta = np.ones(shape)\n",
    "    return theta"
   ]
  },
  {
   "cell_type": "code",
   "execution_count": 11,
   "metadata": {},
   "outputs": [],
   "source": [
    "X = np.hstack((np.ones((X.shape[0],1)), X))"
   ]
  },
  {
   "cell_type": "code",
   "execution_count": 12,
   "metadata": {},
   "outputs": [
    {
     "data": {
      "text/plain": [
       "(12, 2)"
      ]
     },
     "execution_count": 12,
     "metadata": {},
     "output_type": "execute_result"
    }
   ],
   "source": [
    "X.shape   # x0, x1"
   ]
  },
  {
   "cell_type": "code",
   "execution_count": 61,
   "metadata": {},
   "outputs": [],
   "source": [
    "theta = initialiseTheta((X.shape[1],1))"
   ]
  },
  {
   "cell_type": "code",
   "execution_count": 62,
   "metadata": {},
   "outputs": [
    {
     "data": {
      "text/plain": [
       "array([[1.],\n",
       "       [1.]])"
      ]
     },
     "execution_count": 62,
     "metadata": {},
     "output_type": "execute_result"
    }
   ],
   "source": [
    "theta"
   ]
  },
  {
   "cell_type": "markdown",
   "metadata": {},
   "source": [
    "## Cost"
   ]
  },
  {
   "cell_type": "code",
   "execution_count": 190,
   "metadata": {},
   "outputs": [],
   "source": [
    "def computecost(theta, X, y, reg_parameter):\n",
    "    m = y.shape[0]\n",
    "    J = 0\n",
    "    grad = np.zeros(theta.shape)\n",
    "#     print(X.shape)\n",
    "#     print(X)\n",
    "#     print(theta)\n",
    "    hx = np.dot(X, theta)\n",
    "#     print(hx)\n",
    "#     print((np.sum(np.power((hx-y),2))/(2*m)))\n",
    "#     hx = hx.reshape((hx.shape[0],1))\n",
    "    J = np.sum(np.power((hx - y),2))/(2*m) + (reg_parameter/(2*m))*(np.sum(np.power(theta[1:],2)))\n",
    "#     print(hx.shape)\n",
    "#     print((((X[:,0].reshape((-1,1)).T).shape)))\n",
    "#     print(y.shape)\n",
    "#     print((hx-y).shape)\n",
    "    grad[0] = (1/m)*(np.dot(X[:,0].T, hx - y))\n",
    "    grad[1:] = (1/m)*(np.dot(X[:,1:].T, hx - y)) + (reg_parameter/m)*(theta[1:])\n",
    "    return (J, grad)\n",
    "    \n",
    "                                                                "
   ]
  },
  {
   "cell_type": "code",
   "execution_count": 191,
   "metadata": {},
   "outputs": [
    {
     "data": {
      "text/plain": [
       "(303.9931922202643, array([[-15.30301567],\n",
       "        [598.25074417]]))"
      ]
     },
     "execution_count": 191,
     "metadata": {},
     "output_type": "execute_result"
    }
   ],
   "source": [
    "computecost(theta, X, y, 1)"
   ]
  },
  {
   "cell_type": "markdown",
   "metadata": {},
   "source": [
    "## Training the Model"
   ]
  },
  {
   "cell_type": "code",
   "execution_count": 166,
   "metadata": {},
   "outputs": [],
   "source": [
    "def gradient(theta, X, y, reg_parameter):\n",
    "    temp = opt.fmin_tnc(func= computecost, x0=theta.flatten(), args=(X, y.flatten(),reg_parameter))\n",
    "    theta = temp[0]\n",
    "    return theta"
   ]
  },
  {
   "cell_type": "code",
   "execution_count": 167,
   "metadata": {},
   "outputs": [],
   "source": [
    "theta_optimised = gradient(theta, X, y, 0)"
   ]
  },
  {
   "cell_type": "markdown",
   "metadata": {},
   "source": [
    "Theta needs to be reshaped after optimising otherwise hx - y will be a **21 x 21 matrix**"
   ]
  },
  {
   "cell_type": "code",
   "execution_count": 168,
   "metadata": {},
   "outputs": [
    {
     "data": {
      "text/plain": [
       "array([13.08790313,  0.36777923])"
      ]
     },
     "execution_count": 168,
     "metadata": {},
     "output_type": "execute_result"
    }
   ],
   "source": [
    "theta_optimised"
   ]
  },
  {
   "cell_type": "markdown",
   "metadata": {},
   "source": [
    "## Display Fitted Model"
   ]
  },
  {
   "cell_type": "code",
   "execution_count": 169,
   "metadata": {
    "scrolled": false
   },
   "outputs": [],
   "source": [
    "def displayFittedModel(theta, X, y):\n",
    "    plt.figure()\n",
    "    plt.plot(X[:,1], y, 'ro', markersize=2, linewidth=1.5)\n",
    "    plt.plot(X[:,1], np.dot(X,theta), linewidth=1.5)\n",
    "    plt.show()"
   ]
  },
  {
   "cell_type": "code",
   "execution_count": 170,
   "metadata": {},
   "outputs": [
    {
     "data": {
      "image/png": "[encoded data removed]",
      "text/plain": [
       "<Figure size 432x288 with 1 Axes>"
      ]
     },
     "metadata": {
      "needs_background": "light"
     },
     "output_type": "display_data"
    }
   ],
   "source": [
    "displayFittedModel(theta_optimised, X, y)"
   ]
  },
  {
   "cell_type": "markdown",
   "metadata": {},
   "source": [
    "**This is Underfit**"
   ]
  },
  {
   "cell_type": "markdown",
   "metadata": {},
   "source": [
    "The best fit line tells us that the model is\n",
    "not a good fit to the data because the data has a non-linear pattern. While\n",
    "visualizing the best fit as shown is one possible way to debug your learning\n",
    "algorithm, it is not always easy to visualize the data and model."
   ]
  },
  {
   "cell_type": "markdown",
   "metadata": {},
   "source": [
    "## Errors"
   ]
  },
  {
   "cell_type": "markdown",
   "metadata": {},
   "source": [
    "This function will return the train_error and validation_error array which can be plotted against training set size "
   ]
  },
  {
   "cell_type": "code",
   "execution_count": 22,
   "metadata": {},
   "outputs": [],
   "source": [
    "def learningCurve(X, y, X_val, y_val, reg_parameter):\n",
    "    m = y.shape[0]\n",
    "    error_train = np.zeros((m,1))\n",
    "    error_val = np.zeros((m,1))\n",
    "    X_val = np.hstack((np.ones((X_val.shape[0],1)), X_val))\n",
    "    m_val = X_val.shape[0]\n",
    "\n",
    "    for i in range(m):\n",
    "\n",
    "        theta = initialiseTheta((X[:i+1].shape[1],1))\n",
    "\n",
    "        \n",
    "        theta_optimised = gradient(theta, X[:i+1], y[:i+1], reg_parameter)\n",
    "        theta_optimised = theta_optimised.reshape((theta_optimised.shape[0],1)) \n",
    "        \n",
    "        #theta_optimised was a rank 1 matrix hence was giving error when calculating hx and hx-y(21 x 21 matrix O/P)\n",
    "        #Thus, very high error was there\n",
    "        \n",
    "#         print(theta_optimised.shape)\n",
    "#         print(theta_optimised.shape)\n",
    "        hx_train = np.dot(X[:i+1], theta_optimised)\n",
    "\n",
    "        error_train[i] = np.sum(np.power((hx_train - y[:i+1]),2))/(2*(i+1))\n",
    "#         error_train[i] = computecost(theta_optimised, X[:i+1], y[:i+1], reg_parameter)[0]\n",
    "        hx_val = np.dot(X_val, theta_optimised)\n",
    "#         print((np.sum(np.power((hx_val - y_val),2))).shape)\n",
    "        error_val[i] = np.sum(np.power((hx_val - y_val),2))/(2*m_val)\n",
    "#         error_val[i] = computecost(theta_optimised, X_val, y_val, reg_parameter)[0]\n",
    "        \n",
    "    return (error_train, error_val)"
   ]
  },
  {
   "cell_type": "code",
   "execution_count": 23,
   "metadata": {},
   "outputs": [],
   "source": [
    "X_val_1 = np.hstack((np.ones((X_val.shape[0],1)), X_val))"
   ]
  },
  {
   "cell_type": "code",
   "execution_count": 24,
   "metadata": {},
   "outputs": [
    {
     "data": {
      "text/plain": [
       "(21, 2)"
      ]
     },
     "execution_count": 24,
     "metadata": {},
     "output_type": "execute_result"
    }
   ],
   "source": [
    "X_val_1.shape"
   ]
  },
  {
   "cell_type": "code",
   "execution_count": 26,
   "metadata": {},
   "outputs": [
    {
     "data": {
      "text/plain": [
       "array([[  2.75867313,   3.55641019,  21.61188018,  -8.37162822,\n",
       "         22.51638185,  -6.04580499,   7.27298838,  18.67622087,\n",
       "         -6.8223977 ,  18.2497678 ,  -2.5237466 ,  18.9624023 ,\n",
       "          7.71732048,   8.2489768 ,  -6.05814486,  -9.47613099,\n",
       "          2.51401324,  10.23736423,  11.52359358,  25.93939505,\n",
       "         14.29179752],\n",
       "       [  2.86161234,   3.6593494 ,  21.71481939,  -8.26868901,\n",
       "         22.61932105,  -5.94286578,   7.37592759,  18.77916008,\n",
       "         -6.7194585 ,  18.352707  ,  -2.4208074 ,  19.0653415 ,\n",
       "          7.82025968,   8.35191601,  -5.95520565,  -9.37319178,\n",
       "          2.61695244,  10.34030344,  11.62653279,  26.04233426,\n",
       "         14.39473673],\n",
       "       [-24.94419243, -24.14645537,  -6.09098538, -36.07449378,\n",
       "         -5.18648372, -33.74867055, -20.42987718,  -9.0266447 ,\n",
       "        -34.52526327,  -9.45309777, -30.22661217,  -8.74046327,\n",
       "        -19.98554509, -19.45388876, -33.76101042, -37.17899655,\n",
       "        -25.18885233, -17.46550134, -16.17927198,  -1.76347052,\n",
       "        -13.41106805],\n",
       "       [ -3.69478105,  -2.89704399,  15.158426  , -14.8250824 ,\n",
       "         16.06292767, -12.49925917,   0.8195342 ,  12.22276669,\n",
       "        -13.27585188,  11.79631362,  -8.97720079,  12.50894812,\n",
       "          1.2638663 ,   1.79552262, -12.51159904, -15.92958517,\n",
       "         -3.93944094,   3.78391005,   5.0701394 ,  19.48594087,\n",
       "          7.83834334],\n",
       "       [-24.90714614, -24.10940908,  -6.05393909, -36.03744749,\n",
       "         -5.14943743, -33.71162426, -20.39283089,  -8.9895984 ,\n",
       "        -34.48821698,  -9.41605148, -30.18956588,  -8.70341698,\n",
       "        -19.9484988 , -19.41684247, -33.72396413, -37.14195026,\n",
       "        -25.15180604, -17.42845504, -16.14222569,  -1.72642422,\n",
       "        -13.37402175],\n",
       "       [  1.96950542,   2.76724248,  20.82271247,  -9.16079593,\n",
       "         21.72721413,  -6.8349727 ,   6.48382067,  17.88705316,\n",
       "         -7.61156542,  17.46060008,  -3.31291432,  18.17323458,\n",
       "          6.92815276,   7.45980909,  -6.84731257, -10.2652987 ,\n",
       "          1.72484552,   9.44819652,  10.73442587,  25.15022734,\n",
       "         13.50262981],\n",
       "       [  2.47727634,   3.2750134 ,  21.33048339,  -8.65302501,\n",
       "         22.23498505,  -6.32720178,   6.99159159,  18.39482408,\n",
       "         -7.1037945 ,  17.968371  ,  -2.8051434 ,  18.6810055 ,\n",
       "          7.43592368,   7.96758001,  -6.33954165,  -9.75752778,\n",
       "          2.23261644,   9.95596744,  11.24219679,  25.65799826,\n",
       "         14.01040073],\n",
       "       [-15.34744331, -14.54970625,   3.50576373, -26.47774466,\n",
       "          4.4102654 , -24.15192143, -10.83312806,   0.57010442,\n",
       "        -24.92851415,   0.14365135, -20.62986305,   0.85628585,\n",
       "        -10.38879597,  -9.85713964, -24.16426131, -27.58224744,\n",
       "        -15.59210321,  -7.86875222,  -6.58252287,   7.8332786 ,\n",
       "         -3.81431893],\n",
       "       [  6.92891902,   7.72665608,  25.78212606,  -4.20138233,\n",
       "         26.68662773,  -1.8755591 ,  11.44323427,  22.84646675,\n",
       "         -2.65215182,  22.42001368,   1.64649928,  23.13264818,\n",
       "         11.88756636,  12.41922269,  -1.88789897,  -5.3058851 ,\n",
       "          6.68425912,  14.40761011,  15.69383947,  30.10964093,\n",
       "         18.4620434 ],\n",
       "       [-13.57492644, -12.77718938,   5.27828061, -24.70522779,\n",
       "          6.18278228, -22.37940456,  -9.06061119,   2.3426213 ,\n",
       "        -23.15599727,   1.91616823, -18.85734617,   2.62880273,\n",
       "         -8.61627909,  -8.08462277, -22.39174443, -25.80973056,\n",
       "        -13.81958633,  -6.09623534,  -4.81000599,   9.60579548,\n",
       "         -2.04180205],\n",
       "       [  3.07053038,   3.86826744,  21.92373743,  -8.05977097,\n",
       "         22.82823909,  -5.73394774,   7.58484563,  18.98807812,\n",
       "         -6.51054046,  18.56162504,  -2.21188936,  19.27425954,\n",
       "          8.02917772,   8.56083405,  -5.74628761,  -9.16427374,\n",
       "          2.82587048,  10.54922148,  11.83545083,  26.2512523 ,\n",
       "         14.60365477],\n",
       "       [-12.43617777, -11.63844071,   6.41702928, -23.56647912,\n",
       "          7.32153094, -21.24065589,  -7.92186252,   3.48136996,\n",
       "        -22.01724861,   3.05491689, -17.71859751,   3.76755139,\n",
       "         -7.47753043,  -6.9458741 , -21.25299576, -24.67098189,\n",
       "        -12.68083767,  -4.95748667,  -3.67125732,  10.74454414,\n",
       "         -0.90305339],\n",
       "       [  2.04511234,   2.8428494 ,  20.89831939,  -9.08518901,\n",
       "         21.80282105,  -6.75936578,   6.55942759,  17.96266007,\n",
       "         -7.5359585 ,  17.536207  ,  -3.2373074 ,  18.2488415 ,\n",
       "          7.00375968,   7.53541601,  -6.77170565, -10.18969178,\n",
       "          1.80045244,   9.52380344,  10.81003279,  25.22583425,\n",
       "         13.57823672],\n",
       "       [ -4.16828371,  -3.37054664,  14.68492334, -15.29858506,\n",
       "         15.58942501, -12.97276183,   0.34603154,  11.74926403,\n",
       "        -13.74935454,  11.32281096,  -9.45070344,  12.03544546,\n",
       "          0.79036364,   1.32201996, -12.9851017 , -16.40308783,\n",
       "         -4.4129436 ,   3.31040739,   4.59663674,  19.01243821,\n",
       "          7.36484068],\n",
       "       [ -0.53283312,   0.26490394,  18.32037392, -11.66313447,\n",
       "         19.22487559,  -9.33731124,   3.98148213,  15.38471461,\n",
       "        -10.11390396,  14.95826154,  -5.81525286,  15.67089604,\n",
       "          4.42581422,   4.95747055,  -9.34965111, -12.76763724,\n",
       "         -0.77749302,   6.94585797,   8.23208733,  22.64788879,\n",
       "         11.00029126],\n",
       "       [  5.4519405 ,   6.24967756,  24.30514755,  -5.67836085,\n",
       "         25.20964921,  -3.35253762,   9.96625575,  21.36948824,\n",
       "         -4.12913034,  20.94303516,   0.16952076,  21.65566966,\n",
       "         10.41058784,  10.94224417,  -3.36487749,  -6.78286362,\n",
       "          5.2072806 ,  12.9306316 ,  14.21686095,  28.63266242,\n",
       "         16.98506489],\n",
       "       [  4.20971127,   5.00744833,  23.06291831,  -6.92059009,\n",
       "         23.96741998,  -4.59476685,   8.72402652,  20.127259  ,\n",
       "         -5.37135957,  19.70080593,  -1.07270847,  20.41344043,\n",
       "          9.16835861,   9.70001494,  -4.60710673,  -8.02509286,\n",
       "          3.96505137,  11.68840236,  12.97463171,  27.39043318,\n",
       "         15.74283565],\n",
       "       [ -3.99802551,  -3.20028845,  14.85518154, -15.12832686,\n",
       "         15.7596832 , -12.80250363,   0.51628974,  11.91952222,\n",
       "        -13.57909635,  11.49306915,  -9.28044525,  12.20570365,\n",
       "          0.96062183,   1.49227816, -12.8148435 , -16.23282963,\n",
       "         -4.24268541,   3.48066559,   4.76689494,  19.1826964 ,\n",
       "          7.53509887],\n",
       "       [ -1.4198372 ,  -0.62210014,  17.43336984, -12.55013855,\n",
       "         18.33787151, -10.22431532,   3.09447805,  14.49771053,\n",
       "        -11.00090804,  14.07125746,  -6.70225694,  14.78389196,\n",
       "          3.53881014,   4.07046647, -10.23665519, -13.65464132,\n",
       "         -1.6644971 ,   6.05885389,   7.34508325,  21.76088471,\n",
       "         10.11328718],\n",
       "       [-45.85305284, -45.05531578, -26.99984579, -56.98335419,\n",
       "        -26.09534412, -54.65753096, -41.33873759, -29.9355051 ,\n",
       "        -55.43412367, -30.36195817, -51.13547257, -29.64932367,\n",
       "        -40.89440549, -40.36274917, -54.66987083, -58.08785696,\n",
       "        -46.09771273, -38.37436174, -37.08813239, -22.67233092,\n",
       "        -34.31992845],\n",
       "       [ -6.42846446,  -5.6307274 ,  12.42474258, -17.55876581,\n",
       "         13.32924425, -15.23294258,  -1.91414921,   9.48908327,\n",
       "        -16.0095353 ,   9.0626302 , -11.7108842 ,   9.7752647 ,\n",
       "         -1.46981712,  -0.93816079, -15.24528245, -18.66326858,\n",
       "         -6.67312436,   1.05022663,   2.33645599,  16.75225745,\n",
       "          5.10465992]])"
      ]
     },
     "execution_count": 26,
     "metadata": {},
     "output_type": "execute_result"
    }
   ],
   "source": [
    "hx1 = np.dot(X_val_1, theta_optimised)\n",
    "(hx1 - y_val)"
   ]
  },
  {
   "cell_type": "code",
   "execution_count": 28,
   "metadata": {},
   "outputs": [],
   "source": [
    "error_train, error_val = learningCurve(X, y, X_val, y_val, 0)\n"
   ]
  },
  {
   "cell_type": "code",
   "execution_count": 27,
   "metadata": {},
   "outputs": [
    {
     "data": {
      "text/plain": [
       "(21,)"
      ]
     },
     "execution_count": 27,
     "metadata": {},
     "output_type": "execute_result"
    }
   ],
   "source": [
    "hx1.shape"
   ]
  },
  {
   "cell_type": "code",
   "execution_count": 29,
   "metadata": {},
   "outputs": [
    {
     "data": {
      "text/plain": [
       "array([[8.63153419e-18],\n",
       "       [8.37104465e-18],\n",
       "       [3.28659505e+00],\n",
       "       [2.84267769e+00],\n",
       "       [1.31540488e+01],\n",
       "       [1.94439625e+01],\n",
       "       [2.00985217e+01],\n",
       "       [1.81728587e+01],\n",
       "       [2.26094054e+01],\n",
       "       [2.32614616e+01],\n",
       "       [2.43172496e+01],\n",
       "       [2.23739065e+01]])"
      ]
     },
     "execution_count": 29,
     "metadata": {},
     "output_type": "execute_result"
    }
   ],
   "source": [
    "error_train"
   ]
  },
  {
   "cell_type": "code",
   "execution_count": 30,
   "metadata": {
    "scrolled": true
   },
   "outputs": [
    {
     "data": {
      "text/plain": [
       "array([[169.87070841],\n",
       "       [110.30036585],\n",
       "       [ 45.01023126],\n",
       "       [ 48.36891125],\n",
       "       [ 35.86516519],\n",
       "       [ 33.82996146],\n",
       "       [ 31.97098576],\n",
       "       [ 30.86244639],\n",
       "       [ 31.1359978 ],\n",
       "       [ 28.93620739],\n",
       "       [ 29.55143161],\n",
       "       [ 29.43381859]])"
      ]
     },
     "execution_count": 30,
     "metadata": {},
     "output_type": "execute_result"
    }
   ],
   "source": [
    "error_val"
   ]
  },
  {
   "cell_type": "code",
   "execution_count": 31,
   "metadata": {
    "scrolled": true
   },
   "outputs": [
    {
     "data": {
      "text/plain": [
       "Text(0.5, 1.0, 'Error Vs training set size')"
      ]
     },
     "execution_count": 31,
     "metadata": {},
     "output_type": "execute_result"
    },
    {
     "data": {
      "image/png": "[encoded data removed]",
      "text/plain": [
       "<Figure size 432x288 with 1 Axes>"
      ]
     },
     "metadata": {
      "needs_background": "light"
     },
     "output_type": "display_data"
    }
   ],
   "source": [
    "m = len(y)\n",
    "plt.plot(list(range(1,m+1)), error_train, list(range(1,m+1)), error_val)\n",
    "plt.legend(labels = ['Train Error', 'Test Error'])\n",
    "plt.xlabel('Training set size 1-m')\n",
    "plt.ylabel('Error')\n",
    "plt.title('Error Vs training set size')"
   ]
  },
  {
   "cell_type": "markdown",
   "metadata": {},
   "source": [
    "Since with increase in number of examples train error is increasing and also after a certain point Validation Error becomes a plateau this imples high bias, the linear regression model is too simple and is unable to \f",
    "t our dataset well."
   ]
  },
  {
   "cell_type": "markdown",
   "metadata": {},
   "source": [
    "## Polynomial Regression"
   ]
  },
  {
   "cell_type": "markdown",
   "metadata": {},
   "source": [
    "![regression.png](images/polynomialregression.png)"
   ]
  },
  {
   "cell_type": "markdown",
   "metadata": {},
   "source": [
    "This function takes input parameter X and returns a polynomial feature vector X_poly where each column in X_poly is equal to X to the power p "
   ]
  },
  {
   "cell_type": "code",
   "execution_count": 171,
   "metadata": {},
   "outputs": [],
   "source": [
    "def polyfeature(X, p):\n",
    "    X = X.reshape((X.shape[0],1))\n",
    "    X_poly = np.ones((X.shape[0], p))\n",
    "    for i in range(p):\n",
    "        if (i==0):\n",
    "            X_poly = X\n",
    "        else:\n",
    "            X_poly = np.hstack((X_poly, np.power(X,i+1)))\n",
    "#     X_poly = np.hstack((np.ones((X_poly.shape[0],1)), X_poly))\n",
    "        \n",
    "    return X_poly"
   ]
  },
  {
   "cell_type": "code",
   "execution_count": 227,
   "metadata": {},
   "outputs": [],
   "source": [
    "X_poly = polyfeature(X[:,1], 8)"
   ]
  },
  {
   "cell_type": "markdown",
   "metadata": {},
   "source": [
    "## Feature Normailsation"
   ]
  },
  {
   "cell_type": "code",
   "execution_count": 228,
   "metadata": {},
   "outputs": [],
   "source": [
    "def featureNormalize(X):\n",
    "    n = X.shape[1]  #Number of features\n",
    "    m = X.shape[0] #Number of rows\n",
    "    mu = np.mean(X, axis=0)\n",
    "    sigma = np.std(X,axis=0, ddof=1)\n",
    "    X_norm = (X - np.mean(X, axis=0))/np.std(X, axis=0, ddof =1)\n",
    "    return (X_norm, mu, sigma)\n",
    "    "
   ]
  },
  {
   "cell_type": "code",
   "execution_count": 229,
   "metadata": {},
   "outputs": [],
   "source": [
    "X_norm, mu, sigma = featureNormalize(X_poly)"
   ]
  },
  {
   "cell_type": "code",
   "execution_count": 232,
   "metadata": {},
   "outputs": [],
   "source": [
    "X_norm = np.hstack((np.ones((X_norm.shape[0],1)), X_norm))"
   ]
  },
  {
   "cell_type": "code",
   "execution_count": 260,
   "metadata": {},
   "outputs": [],
   "source": [
    "X_poly_test = polyfeature(X_test, 8)\n",
    "X_norm_test = (X_poly_test - mu)/sigma\n",
    "X_norm_test = np.hstack((np.ones((X_norm_test.shape[0],1)), X_norm_test))"
   ]
  },
  {
   "cell_type": "code",
   "execution_count": 233,
   "metadata": {},
   "outputs": [],
   "source": [
    "X_poly_val = polyfeature(X_val, 8)\n",
    "X_norm_val = (X_poly_val - mu)/sigma\n",
    "X_norm_val = np.hstack((np.ones((X_norm_val.shape[0],1)),X_norm_val))"
   ]
  },
  {
   "cell_type": "code",
   "execution_count": 196,
   "metadata": {
    "scrolled": false
   },
   "outputs": [
    {
     "data": {
      "text/plain": [
       "array([[ 11.21749854],\n",
       "       [ 11.20618836],\n",
       "       [ 19.66956061],\n",
       "       [ 14.26046043],\n",
       "       [-34.92706048],\n",
       "       [-32.65741363],\n",
       "       [ 31.91326082],\n",
       "       [ 24.88959204],\n",
       "       [ -5.14985282]])"
      ]
     },
     "execution_count": 196,
     "metadata": {},
     "output_type": "execute_result"
    }
   ],
   "source": [
    "initial_theta = initialiseTheta((X_norm.shape[1],1))\n",
    "theta_optimised = gradient(initial_theta, X_norm, y,0)\n",
    "theta_optimised = theta_optimised.reshape((theta_optimised.shape[0],1))\n",
    "cost , grad = computecost(theta_optimised, X_norm, y, 0)\n",
    "theta_optimised"
   ]
  },
  {
   "cell_type": "code",
   "execution_count": 197,
   "metadata": {},
   "outputs": [
    {
     "data": {
      "text/plain": [
       "0.055794205521501855"
      ]
     },
     "execution_count": 197,
     "metadata": {},
     "output_type": "execute_result"
    }
   ],
   "source": [
    "cost"
   ]
  },
  {
   "cell_type": "code",
   "execution_count": 202,
   "metadata": {
    "scrolled": true
   },
   "outputs": [],
   "source": [
    "def displayPolynomialFittedModel(min_x, max_x, X, y, theta, p, mu, sigma, reg_parameter):\n",
    "    X = X.reshape((X.shape[0],1))\n",
    "    x = np.arange(min_x-15, max_x +25, 0.05)\n",
    "    x  = x.reshape((x.shape[0],1))\n",
    "    X_poly = polyfeature(x, p) #giving right result\n",
    "    X_poly = X_poly - mu   #giving right result\n",
    "    X_poly = np.divide(X_poly, sigma)\n",
    "#     print(X_poly)\n",
    "#     X_poly = (X_poly-mu)/sigma\n",
    "    X_poly = np.hstack((np.ones((X_poly.shape[0],1)), X_poly))\n",
    "    plt.figure()\n",
    "    plt.plot(X, y, 'rx')\n",
    "    plt.plot(x, np.dot(X_poly, theta), 'b--')\n",
    "    plt.legend(labels=['Training Data', 'Fitted Model'])\n",
    "    plt.xlabel('Change in Water Level(x)')\n",
    "    plt.ylabel('Water Flowing out of dam(y)')\n",
    "    plt.title('Fitted Model lamba='+ str(reg_parameter))\n",
    "    plt.show()"
   ]
  },
  {
   "cell_type": "code",
   "execution_count": 203,
   "metadata": {
    "scrolled": true
   },
   "outputs": [
    {
     "data": {
      "image/png": "[encoded data removed]",
      "text/plain": [
       "<Figure size 432x288 with 1 Axes>"
      ]
     },
     "metadata": {
      "needs_background": "light"
     },
     "output_type": "display_data"
    }
   ],
   "source": [
    "displayPolynomialFittedModel(np.min(X[:,1]), np.max(X[:,1]), X[:,1], y, theta_optimised, 8, mu, sigma, 0)"
   ]
  },
  {
   "cell_type": "code",
   "execution_count": 207,
   "metadata": {},
   "outputs": [
    {
     "data": {
      "text/plain": [
       "(21, 9)"
      ]
     },
     "execution_count": 207,
     "metadata": {},
     "output_type": "execute_result"
    }
   ],
   "source": [
    "X_norm_val.shape"
   ]
  },
  {
   "cell_type": "code",
   "execution_count": 210,
   "metadata": {},
   "outputs": [],
   "source": [
    "error_train, error_val = learningCurve(X_norm, y, X_norm_val, y_val, 0)"
   ]
  },
  {
   "cell_type": "code",
   "execution_count": 214,
   "metadata": {
    "scrolled": true
   },
   "outputs": [
    {
     "data": {
      "image/png": "[encoded data removed]",
      "text/plain": [
       "<Figure size 432x288 with 1 Axes>"
      ]
     },
     "metadata": {
      "needs_background": "light"
     },
     "output_type": "display_data"
    }
   ],
   "source": [
    "m = len(y)\n",
    "plt.plot(list(range(1,m+1)), error_train, list(range(1,m+1)), error_val)\n",
    "plt.legend(labels = ['Train Error', 'Val Error'])\n",
    "plt.xlabel('Training set size 1-m')\n",
    "plt.ylabel('Error')\n",
    "plt.title('Error Vs training set size for lamda = 0')\n",
    "plt.show()"
   ]
  },
  {
   "cell_type": "markdown",
   "metadata": {},
   "source": [
    "**Overfitting**"
   ]
  },
  {
   "cell_type": "markdown",
   "metadata": {},
   "source": [
    "Since training is almost zero and validation error is not that much decreasing this implies Overfitting"
   ]
  },
  {
   "cell_type": "code",
   "execution_count": 215,
   "metadata": {},
   "outputs": [
    {
     "data": {
      "text/plain": [
       "array([[11.21759117],\n",
       "       [ 8.58517788],\n",
       "       [ 5.21269488],\n",
       "       [ 3.59111712],\n",
       "       [ 2.28294417],\n",
       "       [ 1.76030056],\n",
       "       [ 1.06813175],\n",
       "       [ 1.10762819],\n",
       "       [ 0.39399264]])"
      ]
     },
     "execution_count": 215,
     "metadata": {},
     "output_type": "execute_result"
    }
   ],
   "source": [
    "initial_theta = initialiseTheta((X_norm.shape[1],1))\n",
    "theta_optimised = gradient(initial_theta, X_norm, y,1)\n",
    "theta_optimised = theta_optimised.reshape((theta_optimised.shape[0],1))\n",
    "cost , grad = computecost(theta_optimised, X_norm, y, 0)\n",
    "theta_optimised"
   ]
  },
  {
   "cell_type": "code",
   "execution_count": 216,
   "metadata": {},
   "outputs": [
    {
     "data": {
      "image/png": "[encoded data removed]",
      "text/plain": [
       "<Figure size 432x288 with 1 Axes>"
      ]
     },
     "metadata": {
      "needs_background": "light"
     },
     "output_type": "display_data"
    }
   ],
   "source": [
    "displayPolynomialFittedModel(np.min(X[:,1]), np.max(X[:,1]), X[:,1], y, theta_optimised, 8, mu, sigma, 1)"
   ]
  },
  {
   "cell_type": "code",
   "execution_count": 219,
   "metadata": {},
   "outputs": [],
   "source": [
    "error_train, error_val = learningCurve(X_norm, y, X_norm_val, y_val, 1)"
   ]
  },
  {
   "cell_type": "code",
   "execution_count": 221,
   "metadata": {},
   "outputs": [
    {
     "data": {
      "image/png": "[encoded data removed]",
      "text/plain": [
       "<Figure size 432x288 with 1 Axes>"
      ]
     },
     "metadata": {
      "needs_background": "light"
     },
     "output_type": "display_data"
    }
   ],
   "source": [
    "m = len(y)\n",
    "plt.plot(list(range(1,m+1)), error_train, list(range(1,m+1)), error_val)\n",
    "plt.legend(labels = ['Train Error', 'Val Error'])\n",
    "plt.xlabel('Training set size 1-m')\n",
    "plt.ylabel('Error')\n",
    "plt.title('Error Vs training set size for lamda = 1')\n",
    "plt.show()"
   ]
  },
  {
   "cell_type": "code",
   "execution_count": 222,
   "metadata": {},
   "outputs": [
    {
     "data": {
      "image/png": "[encoded data removed]",
      "text/plain": [
       "<Figure size 432x288 with 1 Axes>"
      ]
     },
     "metadata": {
      "needs_background": "light"
     },
     "output_type": "display_data"
    },
    {
     "data": {
      "image/png": "[encoded data removed]",
      "text/plain": [
       "<Figure size 432x288 with 1 Axes>"
      ]
     },
     "metadata": {
      "needs_background": "light"
     },
     "output_type": "display_data"
    }
   ],
   "source": [
    "initial_theta = initialiseTheta((X_norm.shape[1],1))\n",
    "theta_optimised = gradient(initial_theta, X_norm, y,100)\n",
    "theta_optimised = theta_optimised.reshape((theta_optimised.shape[0],1))\n",
    "cost , grad = computecost(theta_optimised, X_norm, y, 0)\n",
    "displayPolynomialFittedModel(np.min(X[:,1]), np.max(X[:,1]), X[:,1], y, theta_optimised, 8, mu, sigma, 100)\n",
    "error_train, error_val = learningCurve(X_norm, y, X_norm_val, y_val, 100)\n",
    "m = len(y)\n",
    "plt.plot(list(range(1,m+1)), error_train, list(range(1,m+1)), error_val)\n",
    "plt.legend(labels = ['Train Error', 'Val Error'])\n",
    "plt.xlabel('Training set size 1-m')\n",
    "plt.ylabel('Error')\n",
    "plt.title('Error Vs training set size for lamda = 100')\n",
    "plt.show()"
   ]
  },
  {
   "cell_type": "markdown",
   "metadata": {},
   "source": [
    "In particular, a model without regularization (lambda = 0) fits the training set well, but does not generalize. Conversely, a model with too much regularization (lambda = 100) does not fit the training set and testing set well. A good choice of lambda (e.g., lambda = 1) can provide a good fit\n",
    "to the data."
   ]
  },
  {
   "cell_type": "markdown",
   "metadata": {},
   "source": [
    "After selecting the best lambda value using the cross validation set, we can then evaluate the model on the test set to estimate how well the model will perform on actual unseen data."
   ]
  },
  {
   "cell_type": "markdown",
   "metadata": {},
   "source": [
    "Creating a function to calculate error on train set and validation set for different values of lambda"
   ]
  },
  {
   "cell_type": "code",
   "execution_count": 251,
   "metadata": {},
   "outputs": [],
   "source": [
    "def validationCurve(X, y, X_val, y_val):\n",
    "    lambda_vec = [0, 0.001, 0.003, 0.01, 0.03, 0.1, 0.3, 1, 3, 10]\n",
    "    error_train = np.zeros((len(lambda_vec),1))\n",
    "    error_val = np.zeros((len(lambda_vec),1))\n",
    "    for i in range(len(lambda_vec)):\n",
    "        theta = initialiseTheta((X.shape[1],1))\n",
    "        theta_optimised = gradient(theta, X, y, lambda_vec[i])\n",
    "        theta_optimised = theta_optimised.reshape((theta_optimised.shape[0],1)) #While computing error regularisation term is kept zero\n",
    "        error_train[i] = computecost(theta_optimised, X, y, 0)[0]   #While computing error regularisation term is kept zero\n",
    "        error_val[i] = computecost(theta_optimised, X_val, y_val, 0)[0]\n",
    "    \n",
    "    return (lambda_vec, error_train, error_val)\n",
    "    "
   ]
  },
  {
   "cell_type": "code",
   "execution_count": 252,
   "metadata": {},
   "outputs": [],
   "source": [
    "lambda_vec, error_train, error_val = validationCurve(X_norm, y, X_norm_val, y_val)"
   ]
  },
  {
   "cell_type": "code",
   "execution_count": 253,
   "metadata": {},
   "outputs": [
    {
     "data": {
      "text/plain": [
       "array([[ 0.05579421],\n",
       "       [ 0.112132  ],\n",
       "       [ 0.17088119],\n",
       "       [ 0.22149488],\n",
       "       [ 0.2818306 ],\n",
       "       [ 0.45933018],\n",
       "       [ 0.92168993],\n",
       "       [ 2.07618738],\n",
       "       [ 4.90134205],\n",
       "       [16.09221725]])"
      ]
     },
     "execution_count": 253,
     "metadata": {},
     "output_type": "execute_result"
    }
   ],
   "source": [
    "error_train"
   ]
  },
  {
   "cell_type": "code",
   "execution_count": 254,
   "metadata": {},
   "outputs": [
    {
     "data": {
      "text/plain": [
       "array([[10.24865179],\n",
       "       [ 9.96209997],\n",
       "       [16.28970232],\n",
       "       [16.96340734],\n",
       "       [12.82983873],\n",
       "       [ 7.58677977],\n",
       "       [ 4.63696555],\n",
       "       [ 4.2606231 ],\n",
       "       [ 3.82291046],\n",
       "       [ 9.94551083]])"
      ]
     },
     "execution_count": 254,
     "metadata": {},
     "output_type": "execute_result"
    }
   ],
   "source": [
    "error_val"
   ]
  },
  {
   "cell_type": "code",
   "execution_count": 255,
   "metadata": {},
   "outputs": [
    {
     "data": {
      "text/plain": [
       "[0, 0.001, 0.003, 0.01, 0.03, 0.1, 0.3, 1, 3, 10]"
      ]
     },
     "execution_count": 255,
     "metadata": {},
     "output_type": "execute_result"
    }
   ],
   "source": [
    "lambda_vec"
   ]
  },
  {
   "cell_type": "code",
   "execution_count": 256,
   "metadata": {},
   "outputs": [
    {
     "data": {
      "image/png": "[encoded data removed]",
      "text/plain": [
       "<Figure size 432x288 with 1 Axes>"
      ]
     },
     "metadata": {
      "needs_background": "light"
     },
     "output_type": "display_data"
    }
   ],
   "source": [
    "plt.plot(lambda_vec, error_train, lambda_vec, error_val)\n",
    "plt.legend(labels= ['Train Error', 'Validation Error'])\n",
    "plt.xlabel('Lambda')\n",
    "plt.ylabel('Error')\n",
    "plt.title('Error vs Regularisation Parameter')\n",
    "plt.show()"
   ]
  },
  {
   "cell_type": "markdown",
   "metadata": {},
   "source": [
    "From this graph the point where error_train == error_val is considered to be optimum value of lambda i.e near to 3"
   ]
  },
  {
   "cell_type": "markdown",
   "metadata": {},
   "source": [
    "Create equation of two lines and solve for intersection"
   ]
  },
  {
   "cell_type": "markdown",
   "metadata": {},
   "source": [
    "Taking lambda = 3"
   ]
  },
  {
   "cell_type": "code",
   "execution_count": 265,
   "metadata": {},
   "outputs": [],
   "source": [
    "reg_parameter = 3\n",
    "theta = initialiseTheta((X_norm.shape[1],1))\n",
    "theta_optimised = gradient(theta, X_norm, y, reg_parameter)\n",
    "theta_optimised = theta_optimised.reshape((theta_optimised.shape[0],1))\n",
    "error_test = computecost(theta_optimised, X_norm_test, y_test, 0)[0]"
   ]
  },
  {
   "cell_type": "code",
   "execution_count": 266,
   "metadata": {},
   "outputs": [
    {
     "data": {
      "text/plain": [
       "3.8598786815014514"
      ]
     },
     "execution_count": 266,
     "metadata": {},
     "output_type": "execute_result"
    }
   ],
   "source": [
    "error_test"
   ]
  },
  {
   "cell_type": "code",
   "execution_count": 43,
   "metadata": {},
   "outputs": [
    {
     "data": {
      "text/plain": [
       "-48.058829452570066"
      ]
     },
     "execution_count": 43,
     "metadata": {},
     "output_type": "execute_result"
    }
   ],
   "source": [
    "np.min(X)"
   ]
  },
  {
   "cell_type": "code",
   "execution_count": 44,
   "metadata": {},
   "outputs": [
    {
     "data": {
      "text/plain": [
       "37.49218733199513"
      ]
     },
     "execution_count": 44,
     "metadata": {},
     "output_type": "execute_result"
    }
   ],
   "source": [
    "np.max(X)"
   ]
  },
  {
   "cell_type": "code",
   "execution_count": 45,
   "metadata": {},
   "outputs": [
    {
     "data": {
      "text/plain": [
       "array([[  1.        , -15.93675813],\n",
       "       [  1.        , -29.15297922],\n",
       "       [  1.        ,  36.18954863],\n",
       "       [  1.        ,  37.49218733],\n",
       "       [  1.        , -48.05882945],\n",
       "       [  1.        ,  -8.94145794],\n",
       "       [  1.        ,  15.30779289],\n",
       "       [  1.        , -34.70626581],\n",
       "       [  1.        ,   1.38915437],\n",
       "       [  1.        , -44.38375985],\n",
       "       [  1.        ,   7.01350208],\n",
       "       [  1.        ,  22.76274892]])"
      ]
     },
     "execution_count": 45,
     "metadata": {},
     "output_type": "execute_result"
    }
   ],
   "source": [
    "X"
   ]
  },
  {
   "cell_type": "code",
   "execution_count": 46,
   "metadata": {},
   "outputs": [
    {
     "data": {
      "text/plain": [
       "array([-5.08542635e+00,  8.48904834e+02, -1.28290173e+04,  1.28967789e+06,\n",
       "       -2.98314592e+07,  2.29330301e+09, -6.84527284e+10,  4.42233759e+12])"
      ]
     },
     "execution_count": 46,
     "metadata": {},
     "output_type": "execute_result"
    }
   ],
   "source": [
    "mu"
   ]
  },
  {
   "cell_type": "code",
   "execution_count": 47,
   "metadata": {},
   "outputs": [
    {
     "data": {
      "text/plain": [
       "array([2.99644020e+01, 7.87889103e+02, 4.81896178e+04, 1.73490431e+06,\n",
       "       9.39392040e+07, 3.85345373e+09, 1.97934705e+11, 8.68896800e+12])"
      ]
     },
     "execution_count": 47,
     "metadata": {},
     "output_type": "execute_result"
    }
   ],
   "source": [
    "sigma"
   ]
  },
  {
   "cell_type": "code",
   "execution_count": null,
   "metadata": {},
   "outputs": [],
   "source": []
  }
 ],
 "metadata": {
  "kernelspec": {
   "display_name": "Python 3",
   "language": "python",
   "name": "python3"
  },
  "language_info": {
   "codemirror_mode": {
    "name": "ipython",
    "version": 3
   },
   "file_extension": ".py",
   "mimetype": "text/x-python",
   "name": "python",
   "nbconvert_exporter": "python",
   "pygments_lexer": "ipython3",
   "version": "3.7.1"
  }
 },
 "nbformat": 4,
 "nbformat_minor": 2
}
