{
 "cells": [
  {
   "cell_type": "code",
   "execution_count": 1,
   "metadata": {},
   "outputs": [
    {
     "ename": "ImportError",
     "evalue": "DLL load failed: %1 is not a valid Win32 application.",
     "output_type": "error",
     "traceback": [
      "\u001b[1;31m---------------------------------------------------------------------------\u001b[0m",
      "\u001b[1;31mImportError\u001b[0m                               Traceback (most recent call last)",
      "\u001b[1;32m<ipython-input-1-9e3324102725>\u001b[0m in \u001b[0;36m<module>\u001b[1;34m\u001b[0m\n\u001b[1;32m----> 1\u001b[1;33m \u001b[0mget_ipython\u001b[0m\u001b[1;33m(\u001b[0m\u001b[1;33m)\u001b[0m\u001b[1;33m.\u001b[0m\u001b[0mrun_line_magic\u001b[0m\u001b[1;33m(\u001b[0m\u001b[1;34m'matplotlib'\u001b[0m\u001b[1;33m,\u001b[0m \u001b[1;34m'inline'\u001b[0m\u001b[1;33m)\u001b[0m\u001b[1;33m\u001b[0m\u001b[1;33m\u001b[0m\u001b[0m\n\u001b[0m",
      "\u001b[1;32mC:\\ProgramData\\Anaconda3\\lib\\site-packages\\IPython\\core\\interactiveshell.py\u001b[0m in \u001b[0;36mrun_line_magic\u001b[1;34m(self, magic_name, line, _stack_depth)\u001b[0m\n\u001b[0;32m   2285\u001b[0m                 \u001b[0mkwargs\u001b[0m\u001b[1;33m[\u001b[0m\u001b[1;34m'local_ns'\u001b[0m\u001b[1;33m]\u001b[0m \u001b[1;33m=\u001b[0m \u001b[0msys\u001b[0m\u001b[1;33m.\u001b[0m\u001b[0m_getframe\u001b[0m\u001b[1;33m(\u001b[0m\u001b[0mstack_depth\u001b[0m\u001b[1;33m)\u001b[0m\u001b[1;33m.\u001b[0m\u001b[0mf_locals\u001b[0m\u001b[1;33m\u001b[0m\u001b[1;33m\u001b[0m\u001b[0m\n\u001b[0;32m   2286\u001b[0m             \u001b[1;32mwith\u001b[0m \u001b[0mself\u001b[0m\u001b[1;33m.\u001b[0m\u001b[0mbuiltin_trap\u001b[0m\u001b[1;33m:\u001b[0m\u001b[1;33m\u001b[0m\u001b[1;33m\u001b[0m\u001b[0m\n\u001b[1;32m-> 2287\u001b[1;33m                 \u001b[0mresult\u001b[0m \u001b[1;33m=\u001b[0m \u001b[0mfn\u001b[0m\u001b[1;33m(\u001b[0m\u001b[1;33m*\u001b[0m\u001b[0margs\u001b[0m\u001b[1;33m,\u001b[0m\u001b[1;33m**\u001b[0m\u001b[0mkwargs\u001b[0m\u001b[1;33m)\u001b[0m\u001b[1;33m\u001b[0m\u001b[1;33m\u001b[0m\u001b[0m\n\u001b[0m\u001b[0;32m   2288\u001b[0m             \u001b[1;32mreturn\u001b[0m \u001b[0mresult\u001b[0m\u001b[1;33m\u001b[0m\u001b[1;33m\u001b[0m\u001b[0m\n\u001b[0;32m   2289\u001b[0m \u001b[1;33m\u001b[0m\u001b[0m\n",
      "\u001b[1;32m<decorator-gen-108>\u001b[0m in \u001b[0;36mmatplotlib\u001b[1;34m(self, line)\u001b[0m\n",
      "\u001b[1;32mC:\\ProgramData\\Anaconda3\\lib\\site-packages\\IPython\\core\\magic.py\u001b[0m in \u001b[0;36m<lambda>\u001b[1;34m(f, *a, **k)\u001b[0m\n\u001b[0;32m    185\u001b[0m     \u001b[1;31m# but it's overkill for just that one bit of state.\u001b[0m\u001b[1;33m\u001b[0m\u001b[1;33m\u001b[0m\u001b[1;33m\u001b[0m\u001b[0m\n\u001b[0;32m    186\u001b[0m     \u001b[1;32mdef\u001b[0m \u001b[0mmagic_deco\u001b[0m\u001b[1;33m(\u001b[0m\u001b[0marg\u001b[0m\u001b[1;33m)\u001b[0m\u001b[1;33m:\u001b[0m\u001b[1;33m\u001b[0m\u001b[1;33m\u001b[0m\u001b[0m\n\u001b[1;32m--> 187\u001b[1;33m         \u001b[0mcall\u001b[0m \u001b[1;33m=\u001b[0m \u001b[1;32mlambda\u001b[0m \u001b[0mf\u001b[0m\u001b[1;33m,\u001b[0m \u001b[1;33m*\u001b[0m\u001b[0ma\u001b[0m\u001b[1;33m,\u001b[0m \u001b[1;33m**\u001b[0m\u001b[0mk\u001b[0m\u001b[1;33m:\u001b[0m \u001b[0mf\u001b[0m\u001b[1;33m(\u001b[0m\u001b[1;33m*\u001b[0m\u001b[0ma\u001b[0m\u001b[1;33m,\u001b[0m \u001b[1;33m**\u001b[0m\u001b[0mk\u001b[0m\u001b[1;33m)\u001b[0m\u001b[1;33m\u001b[0m\u001b[1;33m\u001b[0m\u001b[0m\n\u001b[0m\u001b[0;32m    188\u001b[0m \u001b[1;33m\u001b[0m\u001b[0m\n\u001b[0;32m    189\u001b[0m         \u001b[1;32mif\u001b[0m \u001b[0mcallable\u001b[0m\u001b[1;33m(\u001b[0m\u001b[0marg\u001b[0m\u001b[1;33m)\u001b[0m\u001b[1;33m:\u001b[0m\u001b[1;33m\u001b[0m\u001b[1;33m\u001b[0m\u001b[0m\n",
      "\u001b[1;32mC:\\ProgramData\\Anaconda3\\lib\\site-packages\\IPython\\core\\magics\\pylab.py\u001b[0m in \u001b[0;36mmatplotlib\u001b[1;34m(self, line)\u001b[0m\n\u001b[0;32m     97\u001b[0m             \u001b[0mprint\u001b[0m\u001b[1;33m(\u001b[0m\u001b[1;34m\"Available matplotlib backends: %s\"\u001b[0m \u001b[1;33m%\u001b[0m \u001b[0mbackends_list\u001b[0m\u001b[1;33m)\u001b[0m\u001b[1;33m\u001b[0m\u001b[1;33m\u001b[0m\u001b[0m\n\u001b[0;32m     98\u001b[0m         \u001b[1;32melse\u001b[0m\u001b[1;33m:\u001b[0m\u001b[1;33m\u001b[0m\u001b[1;33m\u001b[0m\u001b[0m\n\u001b[1;32m---> 99\u001b[1;33m             \u001b[0mgui\u001b[0m\u001b[1;33m,\u001b[0m \u001b[0mbackend\u001b[0m \u001b[1;33m=\u001b[0m \u001b[0mself\u001b[0m\u001b[1;33m.\u001b[0m\u001b[0mshell\u001b[0m\u001b[1;33m.\u001b[0m\u001b[0menable_matplotlib\u001b[0m\u001b[1;33m(\u001b[0m\u001b[0margs\u001b[0m\u001b[1;33m.\u001b[0m\u001b[0mgui\u001b[0m\u001b[1;33m)\u001b[0m\u001b[1;33m\u001b[0m\u001b[1;33m\u001b[0m\u001b[0m\n\u001b[0m\u001b[0;32m    100\u001b[0m             \u001b[0mself\u001b[0m\u001b[1;33m.\u001b[0m\u001b[0m_show_matplotlib_backend\u001b[0m\u001b[1;33m(\u001b[0m\u001b[0margs\u001b[0m\u001b[1;33m.\u001b[0m\u001b[0mgui\u001b[0m\u001b[1;33m,\u001b[0m \u001b[0mbackend\u001b[0m\u001b[1;33m)\u001b[0m\u001b[1;33m\u001b[0m\u001b[1;33m\u001b[0m\u001b[0m\n\u001b[0;32m    101\u001b[0m \u001b[1;33m\u001b[0m\u001b[0m\n",
      "\u001b[1;32mC:\\ProgramData\\Anaconda3\\lib\\site-packages\\IPython\\core\\interactiveshell.py\u001b[0m in \u001b[0;36menable_matplotlib\u001b[1;34m(self, gui)\u001b[0m\n\u001b[0;32m   3353\u001b[0m                 \u001b[0mgui\u001b[0m\u001b[1;33m,\u001b[0m \u001b[0mbackend\u001b[0m \u001b[1;33m=\u001b[0m \u001b[0mpt\u001b[0m\u001b[1;33m.\u001b[0m\u001b[0mfind_gui_and_backend\u001b[0m\u001b[1;33m(\u001b[0m\u001b[0mself\u001b[0m\u001b[1;33m.\u001b[0m\u001b[0mpylab_gui_select\u001b[0m\u001b[1;33m)\u001b[0m\u001b[1;33m\u001b[0m\u001b[1;33m\u001b[0m\u001b[0m\n\u001b[0;32m   3354\u001b[0m \u001b[1;33m\u001b[0m\u001b[0m\n\u001b[1;32m-> 3355\u001b[1;33m         \u001b[0mpt\u001b[0m\u001b[1;33m.\u001b[0m\u001b[0mactivate_matplotlib\u001b[0m\u001b[1;33m(\u001b[0m\u001b[0mbackend\u001b[0m\u001b[1;33m)\u001b[0m\u001b[1;33m\u001b[0m\u001b[1;33m\u001b[0m\u001b[0m\n\u001b[0m\u001b[0;32m   3356\u001b[0m         \u001b[0mpt\u001b[0m\u001b[1;33m.\u001b[0m\u001b[0mconfigure_inline_support\u001b[0m\u001b[1;33m(\u001b[0m\u001b[0mself\u001b[0m\u001b[1;33m,\u001b[0m \u001b[0mbackend\u001b[0m\u001b[1;33m)\u001b[0m\u001b[1;33m\u001b[0m\u001b[1;33m\u001b[0m\u001b[0m\n\u001b[0;32m   3357\u001b[0m \u001b[1;33m\u001b[0m\u001b[0m\n",
      "\u001b[1;32mC:\\ProgramData\\Anaconda3\\lib\\site-packages\\IPython\\core\\pylabtools.py\u001b[0m in \u001b[0;36mactivate_matplotlib\u001b[1;34m(backend)\u001b[0m\n\u001b[0;32m    311\u001b[0m     \u001b[0mmatplotlib\u001b[0m\u001b[1;33m.\u001b[0m\u001b[0mrcParams\u001b[0m\u001b[1;33m[\u001b[0m\u001b[1;34m'backend'\u001b[0m\u001b[1;33m]\u001b[0m \u001b[1;33m=\u001b[0m \u001b[0mbackend\u001b[0m\u001b[1;33m\u001b[0m\u001b[1;33m\u001b[0m\u001b[0m\n\u001b[0;32m    312\u001b[0m \u001b[1;33m\u001b[0m\u001b[0m\n\u001b[1;32m--> 313\u001b[1;33m     \u001b[1;32mimport\u001b[0m \u001b[0mmatplotlib\u001b[0m\u001b[1;33m.\u001b[0m\u001b[0mpyplot\u001b[0m\u001b[1;33m\u001b[0m\u001b[1;33m\u001b[0m\u001b[0m\n\u001b[0m\u001b[0;32m    314\u001b[0m     \u001b[0mmatplotlib\u001b[0m\u001b[1;33m.\u001b[0m\u001b[0mpyplot\u001b[0m\u001b[1;33m.\u001b[0m\u001b[0mswitch_backend\u001b[0m\u001b[1;33m(\u001b[0m\u001b[0mbackend\u001b[0m\u001b[1;33m)\u001b[0m\u001b[1;33m\u001b[0m\u001b[1;33m\u001b[0m\u001b[0m\n\u001b[0;32m    315\u001b[0m \u001b[1;33m\u001b[0m\u001b[0m\n",
      "\u001b[1;32mC:\\ProgramData\\Anaconda3\\lib\\site-packages\\matplotlib\\pyplot.py\u001b[0m in \u001b[0;36m<module>\u001b[1;34m\u001b[0m\n\u001b[0;32m     30\u001b[0m \u001b[1;32mfrom\u001b[0m \u001b[0mcycler\u001b[0m \u001b[1;32mimport\u001b[0m \u001b[0mcycler\u001b[0m\u001b[1;33m\u001b[0m\u001b[1;33m\u001b[0m\u001b[0m\n\u001b[0;32m     31\u001b[0m \u001b[1;32mimport\u001b[0m \u001b[0mmatplotlib\u001b[0m\u001b[1;33m\u001b[0m\u001b[1;33m\u001b[0m\u001b[0m\n\u001b[1;32m---> 32\u001b[1;33m \u001b[1;32mimport\u001b[0m \u001b[0mmatplotlib\u001b[0m\u001b[1;33m.\u001b[0m\u001b[0mcolorbar\u001b[0m\u001b[1;33m\u001b[0m\u001b[1;33m\u001b[0m\u001b[0m\n\u001b[0m\u001b[0;32m     33\u001b[0m \u001b[1;32mimport\u001b[0m \u001b[0mmatplotlib\u001b[0m\u001b[1;33m.\u001b[0m\u001b[0mimage\u001b[0m\u001b[1;33m\u001b[0m\u001b[1;33m\u001b[0m\u001b[0m\n\u001b[0;32m     34\u001b[0m \u001b[1;32mfrom\u001b[0m \u001b[0mmatplotlib\u001b[0m \u001b[1;32mimport\u001b[0m \u001b[0mrcsetup\u001b[0m\u001b[1;33m,\u001b[0m \u001b[0mstyle\u001b[0m\u001b[1;33m\u001b[0m\u001b[1;33m\u001b[0m\u001b[0m\n",
      "\u001b[1;32mC:\\ProgramData\\Anaconda3\\lib\\site-packages\\matplotlib\\colorbar.py\u001b[0m in \u001b[0;36m<module>\u001b[1;34m\u001b[0m\n\u001b[0;32m     30\u001b[0m \u001b[1;32mimport\u001b[0m \u001b[0mmatplotlib\u001b[0m\u001b[1;33m.\u001b[0m\u001b[0mcollections\u001b[0m \u001b[1;32mas\u001b[0m \u001b[0mcollections\u001b[0m\u001b[1;33m\u001b[0m\u001b[1;33m\u001b[0m\u001b[0m\n\u001b[0;32m     31\u001b[0m \u001b[1;32mimport\u001b[0m \u001b[0mmatplotlib\u001b[0m\u001b[1;33m.\u001b[0m\u001b[0mcolors\u001b[0m \u001b[1;32mas\u001b[0m \u001b[0mcolors\u001b[0m\u001b[1;33m\u001b[0m\u001b[1;33m\u001b[0m\u001b[0m\n\u001b[1;32m---> 32\u001b[1;33m \u001b[1;32mimport\u001b[0m \u001b[0mmatplotlib\u001b[0m\u001b[1;33m.\u001b[0m\u001b[0mcontour\u001b[0m \u001b[1;32mas\u001b[0m \u001b[0mcontour\u001b[0m\u001b[1;33m\u001b[0m\u001b[1;33m\u001b[0m\u001b[0m\n\u001b[0m\u001b[0;32m     33\u001b[0m \u001b[1;32mimport\u001b[0m \u001b[0mmatplotlib\u001b[0m\u001b[1;33m.\u001b[0m\u001b[0mcm\u001b[0m \u001b[1;32mas\u001b[0m \u001b[0mcm\u001b[0m\u001b[1;33m\u001b[0m\u001b[1;33m\u001b[0m\u001b[0m\n\u001b[0;32m     34\u001b[0m \u001b[1;32mimport\u001b[0m \u001b[0mmatplotlib\u001b[0m\u001b[1;33m.\u001b[0m\u001b[0mgridspec\u001b[0m \u001b[1;32mas\u001b[0m \u001b[0mgridspec\u001b[0m\u001b[1;33m\u001b[0m\u001b[1;33m\u001b[0m\u001b[0m\n",
      "\u001b[1;32mC:\\ProgramData\\Anaconda3\\lib\\site-packages\\matplotlib\\contour.py\u001b[0m in \u001b[0;36m<module>\u001b[1;34m\u001b[0m\n\u001b[0;32m     16\u001b[0m \u001b[1;32mimport\u001b[0m \u001b[0mmatplotlib\u001b[0m\u001b[1;33m.\u001b[0m\u001b[0mcolors\u001b[0m \u001b[1;32mas\u001b[0m \u001b[0mmcolors\u001b[0m\u001b[1;33m\u001b[0m\u001b[1;33m\u001b[0m\u001b[0m\n\u001b[0;32m     17\u001b[0m \u001b[1;32mimport\u001b[0m \u001b[0mmatplotlib\u001b[0m\u001b[1;33m.\u001b[0m\u001b[0mcollections\u001b[0m \u001b[1;32mas\u001b[0m \u001b[0mmcoll\u001b[0m\u001b[1;33m\u001b[0m\u001b[1;33m\u001b[0m\u001b[0m\n\u001b[1;32m---> 18\u001b[1;33m \u001b[1;32mimport\u001b[0m \u001b[0mmatplotlib\u001b[0m\u001b[1;33m.\u001b[0m\u001b[0mfont_manager\u001b[0m \u001b[1;32mas\u001b[0m \u001b[0mfont_manager\u001b[0m\u001b[1;33m\u001b[0m\u001b[1;33m\u001b[0m\u001b[0m\n\u001b[0m\u001b[0;32m     19\u001b[0m \u001b[1;32mimport\u001b[0m \u001b[0mmatplotlib\u001b[0m\u001b[1;33m.\u001b[0m\u001b[0mtext\u001b[0m \u001b[1;32mas\u001b[0m \u001b[0mtext\u001b[0m\u001b[1;33m\u001b[0m\u001b[1;33m\u001b[0m\u001b[0m\n\u001b[0;32m     20\u001b[0m \u001b[1;32mimport\u001b[0m \u001b[0mmatplotlib\u001b[0m\u001b[1;33m.\u001b[0m\u001b[0mcbook\u001b[0m \u001b[1;32mas\u001b[0m \u001b[0mcbook\u001b[0m\u001b[1;33m\u001b[0m\u001b[1;33m\u001b[0m\u001b[0m\n",
      "\u001b[1;32mC:\\ProgramData\\Anaconda3\\lib\\site-packages\\matplotlib\\font_manager.py\u001b[0m in \u001b[0;36m<module>\u001b[1;34m\u001b[0m\n\u001b[0;32m     46\u001b[0m \u001b[1;33m\u001b[0m\u001b[0m\n\u001b[0;32m     47\u001b[0m \u001b[1;32mimport\u001b[0m \u001b[0mmatplotlib\u001b[0m \u001b[1;32mas\u001b[0m \u001b[0mmpl\u001b[0m\u001b[1;33m\u001b[0m\u001b[1;33m\u001b[0m\u001b[0m\n\u001b[1;32m---> 48\u001b[1;33m \u001b[1;32mfrom\u001b[0m \u001b[0mmatplotlib\u001b[0m \u001b[1;32mimport\u001b[0m \u001b[0mafm\u001b[0m\u001b[1;33m,\u001b[0m \u001b[0mcbook\u001b[0m\u001b[1;33m,\u001b[0m \u001b[0mft2font\u001b[0m\u001b[1;33m,\u001b[0m \u001b[0mrcParams\u001b[0m\u001b[1;33m,\u001b[0m \u001b[0mget_cachedir\u001b[0m\u001b[1;33m\u001b[0m\u001b[1;33m\u001b[0m\u001b[0m\n\u001b[0m\u001b[0;32m     49\u001b[0m from matplotlib.fontconfig_pattern import (\n\u001b[0;32m     50\u001b[0m     parse_fontconfig_pattern, generate_fontconfig_pattern)\n",
      "\u001b[1;31mImportError\u001b[0m: DLL load failed: %1 is not a valid Win32 application."
     ]
    }
   ],
   "source": [
    "%matplotlib inline"
   ]
  },
  {
   "cell_type": "code",
   "execution_count": 2,
   "metadata": {},
   "outputs": [
    {
     "ename": "ImportError",
     "evalue": "DLL load failed: %1 is not a valid Win32 application.",
     "output_type": "error",
     "traceback": [
      "\u001b[1;31m---------------------------------------------------------------------------\u001b[0m",
      "\u001b[1;31mImportError\u001b[0m                               Traceback (most recent call last)",
      "\u001b[1;32m<ipython-input-2-2e5874d21b86>\u001b[0m in \u001b[0;36m<module>\u001b[1;34m\u001b[0m\n\u001b[0;32m      1\u001b[0m \u001b[1;32mimport\u001b[0m \u001b[0mpandas\u001b[0m \u001b[1;32mas\u001b[0m \u001b[0mpd\u001b[0m\u001b[1;33m\u001b[0m\u001b[1;33m\u001b[0m\u001b[0m\n\u001b[0;32m      2\u001b[0m \u001b[1;32mimport\u001b[0m \u001b[0mnumpy\u001b[0m \u001b[1;32mas\u001b[0m \u001b[0mnp\u001b[0m\u001b[1;33m\u001b[0m\u001b[1;33m\u001b[0m\u001b[0m\n\u001b[1;32m----> 3\u001b[1;33m \u001b[1;32mimport\u001b[0m \u001b[0mmatplotlib\u001b[0m\u001b[1;33m.\u001b[0m\u001b[0mpyplot\u001b[0m \u001b[1;32mas\u001b[0m \u001b[0mplt\u001b[0m\u001b[1;33m\u001b[0m\u001b[1;33m\u001b[0m\u001b[0m\n\u001b[0m\u001b[0;32m      4\u001b[0m \u001b[1;32mimport\u001b[0m \u001b[0mscipy\u001b[0m\u001b[1;33m.\u001b[0m\u001b[0moptimize\u001b[0m \u001b[1;32mas\u001b[0m \u001b[0mopt\u001b[0m\u001b[1;33m\u001b[0m\u001b[1;33m\u001b[0m\u001b[0m\n\u001b[0;32m      5\u001b[0m \u001b[1;32mfrom\u001b[0m \u001b[0mscipy\u001b[0m\u001b[1;33m.\u001b[0m\u001b[0mio\u001b[0m \u001b[1;32mimport\u001b[0m \u001b[0mloadmat\u001b[0m\u001b[1;33m\u001b[0m\u001b[1;33m\u001b[0m\u001b[0m\n",
      "\u001b[1;32mC:\\ProgramData\\Anaconda3\\lib\\site-packages\\matplotlib\\pyplot.py\u001b[0m in \u001b[0;36m<module>\u001b[1;34m\u001b[0m\n\u001b[0;32m     30\u001b[0m \u001b[1;32mfrom\u001b[0m \u001b[0mcycler\u001b[0m \u001b[1;32mimport\u001b[0m \u001b[0mcycler\u001b[0m\u001b[1;33m\u001b[0m\u001b[1;33m\u001b[0m\u001b[0m\n\u001b[0;32m     31\u001b[0m \u001b[1;32mimport\u001b[0m \u001b[0mmatplotlib\u001b[0m\u001b[1;33m\u001b[0m\u001b[1;33m\u001b[0m\u001b[0m\n\u001b[1;32m---> 32\u001b[1;33m \u001b[1;32mimport\u001b[0m \u001b[0mmatplotlib\u001b[0m\u001b[1;33m.\u001b[0m\u001b[0mcolorbar\u001b[0m\u001b[1;33m\u001b[0m\u001b[1;33m\u001b[0m\u001b[0m\n\u001b[0m\u001b[0;32m     33\u001b[0m \u001b[1;32mimport\u001b[0m \u001b[0mmatplotlib\u001b[0m\u001b[1;33m.\u001b[0m\u001b[0mimage\u001b[0m\u001b[1;33m\u001b[0m\u001b[1;33m\u001b[0m\u001b[0m\n\u001b[0;32m     34\u001b[0m \u001b[1;32mfrom\u001b[0m \u001b[0mmatplotlib\u001b[0m \u001b[1;32mimport\u001b[0m \u001b[0mrcsetup\u001b[0m\u001b[1;33m,\u001b[0m \u001b[0mstyle\u001b[0m\u001b[1;33m\u001b[0m\u001b[1;33m\u001b[0m\u001b[0m\n",
      "\u001b[1;32mC:\\ProgramData\\Anaconda3\\lib\\site-packages\\matplotlib\\colorbar.py\u001b[0m in \u001b[0;36m<module>\u001b[1;34m\u001b[0m\n\u001b[0;32m     30\u001b[0m \u001b[1;32mimport\u001b[0m \u001b[0mmatplotlib\u001b[0m\u001b[1;33m.\u001b[0m\u001b[0mcollections\u001b[0m \u001b[1;32mas\u001b[0m \u001b[0mcollections\u001b[0m\u001b[1;33m\u001b[0m\u001b[1;33m\u001b[0m\u001b[0m\n\u001b[0;32m     31\u001b[0m \u001b[1;32mimport\u001b[0m \u001b[0mmatplotlib\u001b[0m\u001b[1;33m.\u001b[0m\u001b[0mcolors\u001b[0m \u001b[1;32mas\u001b[0m \u001b[0mcolors\u001b[0m\u001b[1;33m\u001b[0m\u001b[1;33m\u001b[0m\u001b[0m\n\u001b[1;32m---> 32\u001b[1;33m \u001b[1;32mimport\u001b[0m \u001b[0mmatplotlib\u001b[0m\u001b[1;33m.\u001b[0m\u001b[0mcontour\u001b[0m \u001b[1;32mas\u001b[0m \u001b[0mcontour\u001b[0m\u001b[1;33m\u001b[0m\u001b[1;33m\u001b[0m\u001b[0m\n\u001b[0m\u001b[0;32m     33\u001b[0m \u001b[1;32mimport\u001b[0m \u001b[0mmatplotlib\u001b[0m\u001b[1;33m.\u001b[0m\u001b[0mcm\u001b[0m \u001b[1;32mas\u001b[0m \u001b[0mcm\u001b[0m\u001b[1;33m\u001b[0m\u001b[1;33m\u001b[0m\u001b[0m\n\u001b[0;32m     34\u001b[0m \u001b[1;32mimport\u001b[0m \u001b[0mmatplotlib\u001b[0m\u001b[1;33m.\u001b[0m\u001b[0mgridspec\u001b[0m \u001b[1;32mas\u001b[0m \u001b[0mgridspec\u001b[0m\u001b[1;33m\u001b[0m\u001b[1;33m\u001b[0m\u001b[0m\n",
      "\u001b[1;32mC:\\ProgramData\\Anaconda3\\lib\\site-packages\\matplotlib\\contour.py\u001b[0m in \u001b[0;36m<module>\u001b[1;34m\u001b[0m\n\u001b[0;32m     16\u001b[0m \u001b[1;32mimport\u001b[0m \u001b[0mmatplotlib\u001b[0m\u001b[1;33m.\u001b[0m\u001b[0mcolors\u001b[0m \u001b[1;32mas\u001b[0m \u001b[0mmcolors\u001b[0m\u001b[1;33m\u001b[0m\u001b[1;33m\u001b[0m\u001b[0m\n\u001b[0;32m     17\u001b[0m \u001b[1;32mimport\u001b[0m \u001b[0mmatplotlib\u001b[0m\u001b[1;33m.\u001b[0m\u001b[0mcollections\u001b[0m \u001b[1;32mas\u001b[0m \u001b[0mmcoll\u001b[0m\u001b[1;33m\u001b[0m\u001b[1;33m\u001b[0m\u001b[0m\n\u001b[1;32m---> 18\u001b[1;33m \u001b[1;32mimport\u001b[0m \u001b[0mmatplotlib\u001b[0m\u001b[1;33m.\u001b[0m\u001b[0mfont_manager\u001b[0m \u001b[1;32mas\u001b[0m \u001b[0mfont_manager\u001b[0m\u001b[1;33m\u001b[0m\u001b[1;33m\u001b[0m\u001b[0m\n\u001b[0m\u001b[0;32m     19\u001b[0m \u001b[1;32mimport\u001b[0m \u001b[0mmatplotlib\u001b[0m\u001b[1;33m.\u001b[0m\u001b[0mtext\u001b[0m \u001b[1;32mas\u001b[0m \u001b[0mtext\u001b[0m\u001b[1;33m\u001b[0m\u001b[1;33m\u001b[0m\u001b[0m\n\u001b[0;32m     20\u001b[0m \u001b[1;32mimport\u001b[0m \u001b[0mmatplotlib\u001b[0m\u001b[1;33m.\u001b[0m\u001b[0mcbook\u001b[0m \u001b[1;32mas\u001b[0m \u001b[0mcbook\u001b[0m\u001b[1;33m\u001b[0m\u001b[1;33m\u001b[0m\u001b[0m\n",
      "\u001b[1;32mC:\\ProgramData\\Anaconda3\\lib\\site-packages\\matplotlib\\font_manager.py\u001b[0m in \u001b[0;36m<module>\u001b[1;34m\u001b[0m\n\u001b[0;32m     46\u001b[0m \u001b[1;33m\u001b[0m\u001b[0m\n\u001b[0;32m     47\u001b[0m \u001b[1;32mimport\u001b[0m \u001b[0mmatplotlib\u001b[0m \u001b[1;32mas\u001b[0m \u001b[0mmpl\u001b[0m\u001b[1;33m\u001b[0m\u001b[1;33m\u001b[0m\u001b[0m\n\u001b[1;32m---> 48\u001b[1;33m \u001b[1;32mfrom\u001b[0m \u001b[0mmatplotlib\u001b[0m \u001b[1;32mimport\u001b[0m \u001b[0mafm\u001b[0m\u001b[1;33m,\u001b[0m \u001b[0mcbook\u001b[0m\u001b[1;33m,\u001b[0m \u001b[0mft2font\u001b[0m\u001b[1;33m,\u001b[0m \u001b[0mrcParams\u001b[0m\u001b[1;33m,\u001b[0m \u001b[0mget_cachedir\u001b[0m\u001b[1;33m\u001b[0m\u001b[1;33m\u001b[0m\u001b[0m\n\u001b[0m\u001b[0;32m     49\u001b[0m from matplotlib.fontconfig_pattern import (\n\u001b[0;32m     50\u001b[0m     parse_fontconfig_pattern, generate_fontconfig_pattern)\n",
      "\u001b[1;31mImportError\u001b[0m: DLL load failed: %1 is not a valid Win32 application."
     ]
    }
   ],
   "source": [
    "import pandas as pd\n",
    "import numpy as np\n",
    "import matplotlib.pyplot as plt\n",
    "import scipy.optimize as opt\n",
    "from scipy.io import loadmat\n",
    "from sklearn.svm import SVC\n",
    "from sklearn.svm import NuSVC"
   ]
  },
  {
   "cell_type": "code",
   "execution_count": 3,
   "metadata": {},
   "outputs": [],
   "source": [
    "data1 = loadmat('./data/ex6/ex6data1.mat')"
   ]
  },
  {
   "cell_type": "code",
   "execution_count": 4,
   "metadata": {},
   "outputs": [
    {
     "data": {
      "text/plain": [
       "{'__header__': b'MATLAB 5.0 MAT-file, Platform: GLNXA64, Created on: Sun Nov 13 14:28:43 2011',\n",
       " '__version__': '1.0',\n",
       " '__globals__': [],\n",
       " 'X': array([[1.9643  , 4.5957  ],\n",
       "        [2.2753  , 3.8589  ],\n",
       "        [2.9781  , 4.5651  ],\n",
       "        [2.932   , 3.5519  ],\n",
       "        [3.5772  , 2.856   ],\n",
       "        [4.015   , 3.1937  ],\n",
       "        [3.3814  , 3.4291  ],\n",
       "        [3.9113  , 4.1761  ],\n",
       "        [2.7822  , 4.0431  ],\n",
       "        [2.5518  , 4.6162  ],\n",
       "        [3.3698  , 3.9101  ],\n",
       "        [3.1048  , 3.0709  ],\n",
       "        [1.9182  , 4.0534  ],\n",
       "        [2.2638  , 4.3706  ],\n",
       "        [2.6555  , 3.5008  ],\n",
       "        [3.1855  , 4.2888  ],\n",
       "        [3.6579  , 3.8692  ],\n",
       "        [3.9113  , 3.4291  ],\n",
       "        [3.6002  , 3.1221  ],\n",
       "        [3.0357  , 3.3165  ],\n",
       "        [1.5841  , 3.3575  ],\n",
       "        [2.0103  , 3.2039  ],\n",
       "        [1.9527  , 2.7843  ],\n",
       "        [2.2753  , 2.7127  ],\n",
       "        [2.3099  , 2.9584  ],\n",
       "        [2.8283  , 2.6309  ],\n",
       "        [3.0473  , 2.2931  ],\n",
       "        [2.4827  , 2.0373  ],\n",
       "        [2.5057  , 2.3853  ],\n",
       "        [1.8721  , 2.0577  ],\n",
       "        [2.0103  , 2.3546  ],\n",
       "        [1.2269  , 2.3239  ],\n",
       "        [1.8951  , 2.9174  ],\n",
       "        [1.561   , 3.0709  ],\n",
       "        [1.5495  , 2.6923  ],\n",
       "        [1.6878  , 2.4057  ],\n",
       "        [1.4919  , 2.0271  ],\n",
       "        [0.962   , 2.682   ],\n",
       "        [1.1693  , 2.9276  ],\n",
       "        [0.8122  , 2.9992  ],\n",
       "        [0.9735  , 3.3881  ],\n",
       "        [1.25    , 3.1937  ],\n",
       "        [1.3191  , 3.5109  ],\n",
       "        [2.2292  , 2.201   ],\n",
       "        [2.4482  , 2.6411  ],\n",
       "        [2.7938  , 1.9656  ],\n",
       "        [2.091   , 1.6177  ],\n",
       "        [2.5403  , 2.8867  ],\n",
       "        [0.9044  , 3.0198  ],\n",
       "        [0.76615 , 2.5899  ],\n",
       "        [0.086405, 4.1045  ]]),\n",
       " 'y': array([[1],\n",
       "        [1],\n",
       "        [1],\n",
       "        [1],\n",
       "        [1],\n",
       "        [1],\n",
       "        [1],\n",
       "        [1],\n",
       "        [1],\n",
       "        [1],\n",
       "        [1],\n",
       "        [1],\n",
       "        [1],\n",
       "        [1],\n",
       "        [1],\n",
       "        [1],\n",
       "        [1],\n",
       "        [1],\n",
       "        [1],\n",
       "        [1],\n",
       "        [0],\n",
       "        [0],\n",
       "        [0],\n",
       "        [0],\n",
       "        [0],\n",
       "        [0],\n",
       "        [0],\n",
       "        [0],\n",
       "        [0],\n",
       "        [0],\n",
       "        [0],\n",
       "        [0],\n",
       "        [0],\n",
       "        [0],\n",
       "        [0],\n",
       "        [0],\n",
       "        [0],\n",
       "        [0],\n",
       "        [0],\n",
       "        [0],\n",
       "        [0],\n",
       "        [0],\n",
       "        [0],\n",
       "        [0],\n",
       "        [0],\n",
       "        [0],\n",
       "        [0],\n",
       "        [0],\n",
       "        [0],\n",
       "        [0],\n",
       "        [1]], dtype=uint8)}"
      ]
     },
     "execution_count": 4,
     "metadata": {},
     "output_type": "execute_result"
    }
   ],
   "source": [
    "data1"
   ]
  },
  {
   "cell_type": "code",
   "execution_count": 5,
   "metadata": {},
   "outputs": [],
   "source": [
    "X = data1['X']\n",
    "y = data1['y']"
   ]
  },
  {
   "cell_type": "markdown",
   "metadata": {},
   "source": [
    "Changing the data type of y to int64 originally it was uint8 and thus was not able to set y value as -1 (taking that as 255)"
   ]
  },
  {
   "cell_type": "code",
   "execution_count": 6,
   "metadata": {},
   "outputs": [],
   "source": [
    "y = y.astype('int64')"
   ]
  },
  {
   "cell_type": "markdown",
   "metadata": {},
   "source": [
    "## Plot Train Data"
   ]
  },
  {
   "cell_type": "code",
   "execution_count": 7,
   "metadata": {},
   "outputs": [],
   "source": [
    "def plot_2d_data(X, y):\n",
    "    positive_indices = np.where(y==1)[0]  #since y is a 2D matrix result is a tuple with two values\n",
    "#     print(positive_indices)\n",
    "    negative_indices = np.where(y==0)[0]\n",
    "    plt.figure()\n",
    "    a = plt.plot(X[positive_indices,0],X[positive_indices,1], 'k+')\n",
    "    b = plt.plot(X[negative_indices,0], X[negative_indices,1], 'yo')\n",
    "    plt.legend((a[0], b[0]), ('Positive', 'Negative') )\n",
    "    plt.xlabel('X1')\n",
    "    plt.ylabel('X2')\n",
    "    plt.show()"
   ]
  },
  {
   "cell_type": "code",
   "execution_count": 8,
   "metadata": {},
   "outputs": [
    {
     "data": {
      "image/png": "[encoded data removed]",
      "text/plain": [
       "<Figure size 432x288 with 1 Axes>"
      ]
     },
     "metadata": {
      "needs_background": "light"
     },
     "output_type": "display_data"
    }
   ],
   "source": [
    "plot_2d_data(X,y)"
   ]
  },
  {
   "cell_type": "markdown",
   "metadata": {},
   "source": [
    "##  Model Fitting"
   ]
  },
  {
   "cell_type": "code",
   "execution_count": 9,
   "metadata": {},
   "outputs": [
    {
     "data": {
      "text/plain": [
       "SVC(C=100, cache_size=200, class_weight=None, coef0=0.0,\n",
       "  decision_function_shape='ovr', degree=3, gamma='auto_deprecated',\n",
       "  kernel='linear', max_iter=-1, probability=False, random_state=None,\n",
       "  shrinking=True, tol=0.001, verbose=False)"
      ]
     },
     "execution_count": 9,
     "metadata": {},
     "output_type": "execute_result"
    }
   ],
   "source": [
    "clf = SVC(kernel='linear', C=100, tol=0.001)\n",
    "clf.fit(X,y.flatten())"
   ]
  },
  {
   "cell_type": "markdown",
   "metadata": {},
   "source": [
    "Checking accuracy on train data"
   ]
  },
  {
   "cell_type": "code",
   "execution_count": 10,
   "metadata": {},
   "outputs": [
    {
     "data": {
      "text/plain": [
       "100.0"
      ]
     },
     "execution_count": 10,
     "metadata": {},
     "output_type": "execute_result"
    }
   ],
   "source": [
    "np.mean(np.double(y.flatten()==clf.predict(X)))*100 # 100% trainig accuracy"
   ]
  },
  {
   "cell_type": "markdown",
   "metadata": {},
   "source": [
    "## Visualizing Decision Boundary"
   ]
  },
  {
   "cell_type": "markdown",
   "metadata": {},
   "source": [
    "$\\theta_0$ in clf is intercept_ term <br>\n",
    "coef_ gives the learned value of weights/theta for features"
   ]
  },
  {
   "cell_type": "code",
   "execution_count": 11,
   "metadata": {},
   "outputs": [],
   "source": [
    "# plot_x = np.array([[X[0,0], X[-1,0]]])\n",
    "# plot_y = X2\n",
    "# # plt.plot(plot_x, plot_y, '--')\n",
    "def plotDecisionBoundary(X, y, clf):\n",
    "\n",
    "    positive_indices = np.where(y==1)[0]  #since y is a 2D matrix result is a tuple with two values\n",
    "    #     print(positive_indices)\n",
    "    negative_indices = np.where(y==0)[0]\n",
    "    plt.figure()\n",
    "    a = plt.plot(X[positive_indices,0],X[positive_indices,1], 'k+')\n",
    "    b = plt.plot(X[negative_indices,0], X[negative_indices,1], 'yo')\n",
    "    plt.xlabel('X1')\n",
    "    plt.ylabel('X2')\n",
    "    theta = clf.coef_\n",
    "    theta0 = clf.intercept_\n",
    "    X2 = np.zeros((1,2))\n",
    "    X2[0][0] = ((-theta0) - theta[0][0]*X[0,0])/theta[0][1]  #creating the equation of line to plot the data\n",
    "    X2[0][1] = ((-theta0) - theta[0][0]*X[-1,0])/theta[0][1]\n",
    "    plot_x = [X[0,0], X[-1,0], 4] # taking third point as X1=4, X2= ((-theta0) - theta[0][0]*X[-1,0])/theta[0][1]\n",
    "    plot_y  = [X2[0][0], X2[0][1], ((-theta0) - theta[0][0]*4)/theta[0][1]]\n",
    "    c = plt.plot(plot_x, plot_y)\n",
    "    plt.legend((a[0], b[0], c[0]), ('Positive', 'Negative', 'Decision Boundary') )\n",
    "    plt.show()"
   ]
  },
  {
   "cell_type": "code",
   "execution_count": 12,
   "metadata": {},
   "outputs": [
    {
     "data": {
      "image/png": "[encoded data removed]",
      "text/plain": [
       "<Figure size 432x288 with 1 Axes>"
      ]
     },
     "metadata": {
      "needs_background": "light"
     },
     "output_type": "display_data"
    }
   ],
   "source": [
    "plotDecisionBoundary(X, y, clf)"
   ]
  },
  {
   "cell_type": "code",
   "execution_count": 13,
   "metadata": {},
   "outputs": [
    {
     "data": {
      "text/plain": [
       "array([[1.3191  , 3.5109  ],\n",
       "       [3.5772  , 2.856   ],\n",
       "       [0.086405, 4.1045  ]])"
      ]
     },
     "execution_count": 13,
     "metadata": {},
     "output_type": "execute_result"
    }
   ],
   "source": [
    "clf.support_vectors_"
   ]
  },
  {
   "cell_type": "code",
   "execution_count": 14,
   "metadata": {},
   "outputs": [
    {
     "data": {
      "text/plain": [
       "array([42,  4, 50])"
      ]
     },
     "execution_count": 14,
     "metadata": {},
     "output_type": "execute_result"
    }
   ],
   "source": [
    "clf.support_"
   ]
  },
  {
   "cell_type": "markdown",
   "metadata": {},
   "source": [
    "## Gaussian Kernel"
   ]
  },
  {
   "cell_type": "markdown",
   "metadata": {},
   "source": [
    "Using another data for gaussian kernel"
   ]
  },
  {
   "cell_type": "code",
   "execution_count": 15,
   "metadata": {},
   "outputs": [],
   "source": [
    "data2 = loadmat('./data/ex6/ex6data2.mat')"
   ]
  },
  {
   "cell_type": "code",
   "execution_count": 16,
   "metadata": {},
   "outputs": [],
   "source": [
    "X_2 = data2['X']\n",
    "y_2 = data2['y']"
   ]
  },
  {
   "cell_type": "code",
   "execution_count": 28,
   "metadata": {},
   "outputs": [],
   "source": [
    "y_2 = y_2.astype('int64')"
   ]
  },
  {
   "cell_type": "code",
   "execution_count": 29,
   "metadata": {},
   "outputs": [
    {
     "data": {
      "image/png": "[encoded data removed]",
      "text/plain": [
       "<Figure size 432x288 with 1 Axes>"
      ]
     },
     "metadata": {
      "needs_background": "light"
     },
     "output_type": "display_data"
    }
   ],
   "source": [
    "plot_2d_data(X_2, y_2)"
   ]
  },
  {
   "cell_type": "markdown",
   "metadata": {},
   "source": [
    "Gaussian Kernel uses a gaussian similarity function which determines the similarity between two points"
   ]
  },
  {
   "cell_type": "markdown",
   "metadata": {},
   "source": [
    "$$K_{gaussian}(x^{(i)}, x^{(j)})=exp\\biggl({-\\frac{||x^{(i)}-x^{(j)}||^{2}}{2\\sigma^{2}}}\\biggr)$$"
   ]
  },
  {
   "cell_type": "markdown",
   "metadata": {},
   "source": [
    "$$K_{gaussian}(x^{(i)}, x^{(j)})=exp\\biggl({-\\frac{\\sum_{k=1}^{n}(x_{k}^{(i)}-x_{k}^{(j)})^{2}}{2\\sigma^{2}}}\\biggr)$$"
   ]
  },
  {
   "cell_type": "markdown",
   "metadata": {},
   "source": [
    "Writing Equations in Markdown <a href= https://tex.stackexchange.com/questions/78736/bigger-parentheses-in-equations > \n",
    "    Check here</a>\n",
    "    <a href = https://jupyter-notebook.readthedocs.io/en/stable/examples/Notebook/Working%20With%20Markdown%20Cells.html>\n",
    "    And here </a>:\n",
    "<ol>\n",
    "<li>_ :- subscript </li>\n",
    "<li>\\frac = fraction</li>\n",
    "<li>\\sigma = sigma symbol</li>\n",
    "<li>\\lambda = lambda symbol</li>\n",
    "</ol>"
   ]
  },
  {
   "cell_type": "code",
   "execution_count": 30,
   "metadata": {},
   "outputs": [],
   "source": [
    "def gaussianKernel(x1, x2, sigma):\n",
    "    K = np.exp(-(np.sum(np.power(x1-x2,2)))/(2*(sigma**2))) # similarity measure\n",
    "    return K"
   ]
  },
  {
   "cell_type": "code",
   "execution_count": 31,
   "metadata": {},
   "outputs": [],
   "source": [
    "x1 = np.array([[1],[2],[1]])\n",
    "x2 = np.array([[0],[4],[-1]])\n",
    "sigma = 2\n",
    "K = gaussianKernel(x1,x2,sigma)"
   ]
  },
  {
   "cell_type": "code",
   "execution_count": 32,
   "metadata": {},
   "outputs": [
    {
     "data": {
      "text/plain": [
       "0.32465246735834974"
      ]
     },
     "execution_count": 32,
     "metadata": {},
     "output_type": "execute_result"
    }
   ],
   "source": [
    "K"
   ]
  },
  {
   "cell_type": "markdown",
   "metadata": {},
   "source": [
    "**We set the tolerance and max_passes low here so that the code will run**"
   ]
  },
  {
   "cell_type": "code",
   "execution_count": 160,
   "metadata": {},
   "outputs": [
    {
     "data": {
      "text/plain": [
       "49.99999999999999"
      ]
     },
     "execution_count": 160,
     "metadata": {},
     "output_type": "execute_result"
    }
   ],
   "source": [
    "sigma = 0.1\n",
    "gamma = 1/(2*(sigma**2))\n",
    "gamma"
   ]
  },
  {
   "cell_type": "code",
   "execution_count": 164,
   "metadata": {},
   "outputs": [
    {
     "data": {
      "text/plain": [
       "SVC(C=1, cache_size=200, class_weight=None, coef0=0.0,\n",
       "  decision_function_shape='ovr', degree=3, gamma=49.99999999999999,\n",
       "  kernel='rbf', max_iter=-1, probability=False, random_state=None,\n",
       "  shrinking=True, tol=0.001, verbose=False)"
      ]
     },
     "execution_count": 164,
     "metadata": {},
     "output_type": "execute_result"
    }
   ],
   "source": [
    "clf_gaussian = SVC(kernel='rbf', degree=3, C=1, gamma=gamma)\n",
    "clf_gaussian.fit(X_2, y_2.flatten())"
   ]
  },
  {
   "cell_type": "code",
   "execution_count": 165,
   "metadata": {},
   "outputs": [
    {
     "data": {
      "text/plain": [
       "'rbf'"
      ]
     },
     "execution_count": 165,
     "metadata": {},
     "output_type": "execute_result"
    }
   ],
   "source": [
    "clf_gaussian.kernel"
   ]
  },
  {
   "cell_type": "code",
   "execution_count": 166,
   "metadata": {},
   "outputs": [
    {
     "data": {
      "text/plain": [
       "98.95712630359212"
      ]
     },
     "execution_count": 166,
     "metadata": {},
     "output_type": "execute_result"
    }
   ],
   "source": [
    "np.mean(np.double(y_2.flatten() == clf_gaussian.predict(X_2)))*100"
   ]
  },
  {
   "cell_type": "code",
   "execution_count": 167,
   "metadata": {},
   "outputs": [],
   "source": [
    "def plotGaussianBoundary(X,y, clf):\n",
    "    plt.figure()\n",
    "    x1plot = np.linspace(np.min(X[:,0]), np.max(X[:,0]), 100).reshape((-1,1))\n",
    "    x2plot = np.linspace(np.min(X[:,1]), np.max(X[:,1]),100).reshape((-1,1))\n",
    "    X1, X2 = np.meshgrid(x1plot, x2plot)\n",
    "#     print(\"X1 shape\", X1.shape)\n",
    "#     print(\"X2 shape\", X2.shape)\n",
    "    vals =  np.zeros(X1.shape)\n",
    "    for i in range(x1plot.shape[0]):\n",
    "#         print(\"X1 shape\", X1[:,i].reshape((-1,1)).shape)\n",
    "        this_X = np.array([X1[:,i], X2[:,i]]).T\n",
    "#         print(\"This_X shape\", this_X.shape)\n",
    "        vals[:,i] = clf.predict(this_X)\n",
    "    plt.contour(X1, X2, vals)\n",
    "    positive_indices = np.where(y==1)[0]  #since y is a 2D matrix result is a tuple with two values\n",
    "    negative_indices = np.where(y==0)[0]\n",
    "    a = plt.plot(X[positive_indices,0],X[positive_indices,1], 'k+')\n",
    "    b = plt.plot(X[negative_indices,0], X[negative_indices,1], 'o')\n",
    "    plt.xlabel('X1')\n",
    "    plt.ylabel('X2')\n",
    "    plt.legend((a[0], b[0]), ('Positive', 'Negative'))"
   ]
  },
  {
   "cell_type": "code",
   "execution_count": 168,
   "metadata": {},
   "outputs": [
    {
     "data": {
      "image/png": "[encoded data removed]",
      "text/plain": [
       "<Figure size 432x288 with 1 Axes>"
      ]
     },
     "metadata": {
      "needs_background": "light"
     },
     "output_type": "display_data"
    }
   ],
   "source": [
    "plotGaussianBoundary(X_2, y_2, clf_gaussian)"
   ]
  },
  {
   "cell_type": "code",
   "execution_count": 26,
   "metadata": {},
   "outputs": [],
   "source": [
    "data3 = loadmat('./data/ex6/ex6data3.mat')"
   ]
  },
  {
   "cell_type": "code",
   "execution_count": 27,
   "metadata": {},
   "outputs": [
    {
     "data": {
      "text/plain": [
       "{'__header__': b'MATLAB 5.0 MAT-file, Platform: GLNXA64, Created on: Sun Nov 13 14:29:06 2011',\n",
       " '__version__': '1.0',\n",
       " '__globals__': [],\n",
       " 'X': array([[-1.58986e-01,  4.23977e-01],\n",
       "        [-3.47926e-01,  4.70760e-01],\n",
       "        [-5.04608e-01,  3.53801e-01],\n",
       "        [-5.96774e-01,  1.14035e-01],\n",
       "        [-5.18433e-01, -1.72515e-01],\n",
       "        [-2.92627e-01, -2.07602e-01],\n",
       "        [-1.58986e-01, -4.38596e-02],\n",
       "        [-5.76037e-02,  1.43275e-01],\n",
       "        [-7.14286e-02,  2.71930e-01],\n",
       "        [-2.97235e-01,  3.47953e-01],\n",
       "        [-4.17051e-01,  2.01754e-01],\n",
       "        [-4.40092e-01,  8.77193e-03],\n",
       "        [-3.24885e-01, -3.21637e-02],\n",
       "        [-2.46544e-01,  5.55556e-02],\n",
       "        [-2.18894e-01,  2.01754e-01],\n",
       "        [-3.43318e-01,  1.60819e-01],\n",
       "        [-5.09217e-01,  7.89474e-02],\n",
       "        [-3.84793e-01, -9.06433e-02],\n",
       "        [-1.49770e-01,  1.25731e-01],\n",
       "        [-1.95853e-01,  3.24561e-01],\n",
       "        [-3.91705e-02, -2.19298e-01],\n",
       "        [-1.08295e-01, -3.01170e-01],\n",
       "        [-1.86636e-01, -3.30409e-01],\n",
       "        [-2.18894e-01, -4.23977e-01],\n",
       "        [-8.06452e-02, -5.64327e-01],\n",
       "        [ 6.68203e-02, -5.17544e-01],\n",
       "        [ 9.44700e-02, -3.24561e-01],\n",
       "        [ 1.86636e-01, -1.66667e-01],\n",
       "        [ 6.22120e-02, -7.30994e-02],\n",
       "        [ 2.07373e-02, -1.95906e-01],\n",
       "        [ 2.99539e-02, -3.42105e-01],\n",
       "        [-9.90783e-02, -3.77193e-01],\n",
       "        [-6.91244e-03, -4.64912e-01],\n",
       "        [ 1.31336e-01, -4.29825e-01],\n",
       "        [ 2.32719e-01, -1.95906e-01],\n",
       "        [ 8.52535e-02, -8.47953e-02],\n",
       "        [-1.31336e-01, -2.36842e-01],\n",
       "        [ 2.30415e-03, -1.25731e-01],\n",
       "        [ 1.22120e-01, -2.92398e-03],\n",
       "        [-3.47926e-01, -3.12865e-01],\n",
       "        [-2.28111e-01, -1.25731e-01],\n",
       "        [-7.60369e-02,  1.46199e-02],\n",
       "        [ 4.37788e-02,  2.04678e-02],\n",
       "        [ 1.15207e-02,  1.54971e-01],\n",
       "        [-4.17051e-01, -1.60819e-01],\n",
       "        [-3.15668e-01, -3.18713e-01],\n",
       "        [ 1.26728e-01, -2.19298e-01],\n",
       "        [ 2.05069e-01, -3.12865e-01],\n",
       "        [ 2.18894e-01, -4.59064e-01],\n",
       "        [ 7.14286e-02, -6.46199e-01],\n",
       "        [-1.31336e-01, -6.05263e-01],\n",
       "        [-2.09677e-01, -5.81871e-01],\n",
       "        [-2.28111e-01, -4.29825e-01],\n",
       "        [-1.45161e-01, -4.12281e-01],\n",
       "        [-6.68203e-02, -4.82456e-01],\n",
       "        [ 1.35945e-01, -5.11696e-01],\n",
       "        [ 2.69585e-01, -4.06433e-01],\n",
       "        [ 2.97235e-01, -2.95322e-01],\n",
       "        [ 2.74194e-01, -1.72515e-01],\n",
       "        [ 2.55760e-01, -4.97076e-02],\n",
       "        [ 2.23502e-01, -4.97076e-02],\n",
       "        [ 1.82028e-01, -8.47953e-02],\n",
       "        [ 1.58986e-01, -1.54971e-01],\n",
       "        [ 7.14286e-02, -2.13450e-01],\n",
       "        [ 1.61290e-02, -2.66082e-01],\n",
       "        [-2.53456e-02, -3.83041e-01],\n",
       "        [-1.15207e-02, -4.82456e-01],\n",
       "        [-2.30415e-03, -5.05848e-01],\n",
       "        [ 2.53456e-02, -5.11696e-01],\n",
       "        [ 2.53456e-02, -5.58480e-01],\n",
       "        [ 1.15207e-02, -6.57895e-01],\n",
       "        [-4.83871e-02, -6.46199e-01],\n",
       "        [-8.52535e-02, -5.52632e-01],\n",
       "        [-9.90783e-02, -5.00000e-01],\n",
       "        [-1.61290e-02, -4.23977e-01],\n",
       "        [ 1.31336e-01, -3.59649e-01],\n",
       "        [ 2.23502e-01, -3.71345e-01],\n",
       "        [ 2.92627e-01, -3.01170e-01],\n",
       "        [ 2.60369e-01, -2.07602e-01],\n",
       "        [ 2.00461e-01, -2.25146e-01],\n",
       "        [ 1.72811e-01, -2.71930e-01],\n",
       "        [-1.31336e-01,  9.06433e-02],\n",
       "        [-1.49770e-01,  7.30994e-02],\n",
       "        [-2.41935e-01,  6.14035e-02],\n",
       "        [-3.01843e-01,  1.78363e-01],\n",
       "        [-2.97235e-01,  1.95906e-01],\n",
       "        [-2.74194e-01,  3.07018e-01],\n",
       "        [-3.24885e-01,  2.95322e-01],\n",
       "        [-3.98618e-01,  2.66082e-01],\n",
       "        [-4.35484e-01,  1.60819e-01],\n",
       "        [-4.72350e-01,  7.89474e-02],\n",
       "        [-3.38710e-01,  4.38596e-02],\n",
       "        [-2.69585e-01,  4.38596e-02],\n",
       "        [-2.55760e-01,  1.02339e-01],\n",
       "        [-1.68203e-01,  2.66082e-01],\n",
       "        [-1.12903e-01,  3.01170e-01],\n",
       "        [-3.91705e-02,  3.47953e-01],\n",
       "        [-1.26728e-01,  4.41520e-01],\n",
       "        [-2.32719e-01,  4.41520e-01],\n",
       "        [-3.38710e-01,  4.18129e-01],\n",
       "        [-4.12442e-01,  3.53801e-01],\n",
       "        [-5.09217e-01,  2.19298e-01],\n",
       "        [-5.41475e-01,  1.46199e-02],\n",
       "        [-5.04608e-01, -1.25731e-01],\n",
       "        [-4.90783e-01, -1.43275e-01],\n",
       "        [-3.61751e-01, -1.37427e-01],\n",
       "        [-2.69585e-01, -8.47953e-02],\n",
       "        [-2.23502e-01, -7.89474e-02],\n",
       "        [-1.86636e-01, -3.80117e-02],\n",
       "        [-1.54378e-01, -8.77193e-03],\n",
       "        [-1.12903e-01,  5.55556e-02],\n",
       "        [-8.52535e-02,  1.37427e-01],\n",
       "        [-8.52535e-02,  2.77778e-01],\n",
       "        [-1.68203e-01,  3.01170e-01],\n",
       "        [-1.91244e-01,  1.95906e-01],\n",
       "        [-1.40553e-01, -4.97076e-02],\n",
       "        [-2.99539e-02,  6.72515e-02],\n",
       "        [-2.00461e-01, -2.30994e-01],\n",
       "        [-1.08295e-01, -8.47953e-02],\n",
       "        [ 3.45622e-02,  6.72515e-02],\n",
       "        [ 8.06452e-02,  1.19883e-01],\n",
       "        [-3.85369e-01,  3.30409e-02],\n",
       "        [-3.81221e-01,  1.31287e-01],\n",
       "        [-3.52189e-01,  2.58187e-01],\n",
       "        [-3.54263e-01,  3.64620e-01],\n",
       "        [-4.14401e-01, -6.92982e-02],\n",
       "        [-4.99424e-01, -3.24561e-02],\n",
       "        [-2.98272e-01, -9.79532e-02],\n",
       "        [-3.16935e-01, -1.83918e-01],\n",
       "        [-3.68779e-01, -2.90351e-01],\n",
       "        [-3.56336e-01, -3.96784e-01],\n",
       "        [-2.71313e-01,  4.38596e-03],\n",
       "        [-1.77995e-01,  8.62573e-02],\n",
       "        [-2.46429e-01,  1.43567e-01],\n",
       "        [-2.50576e-01,  2.29532e-01],\n",
       "        [-2.21544e-01,  3.76901e-01],\n",
       "        [-2.15323e-01,  2.95029e-01],\n",
       "        [-1.30300e-01,  2.17251e-01],\n",
       "        [-2.07028e-01,  2.89474e-02],\n",
       "        [-9.71198e-02,  2.13158e-01],\n",
       "        [-3.90553e-02,  2.58187e-01],\n",
       "        [ 1.90092e-02,  4.01462e-01],\n",
       "        [-3.69816e-02,  4.21930e-01],\n",
       "        [-6.39401e-02,  3.31871e-01],\n",
       "        [-1.30300e-01,  3.76901e-01],\n",
       "        [-3.75000e-01, -4.37719e-01],\n",
       "        [-3.95737e-01, -3.51754e-01],\n",
       "        [-3.54263e-01, -2.08480e-01],\n",
       "        [-4.37212e-01, -3.76316e-01],\n",
       "        [-4.80760e-01, -5.03216e-01],\n",
       "        [-4.10253e-01, -4.66374e-01],\n",
       "        [-2.48502e-01, -2.57602e-01],\n",
       "        [-2.27765e-01, -3.14912e-01],\n",
       "        [-2.83756e-01, -3.84503e-01],\n",
       "        [-2.92051e-01, -4.54094e-01],\n",
       "        [-3.37673e-01, -5.19591e-01],\n",
       "        [-2.77535e-01, -5.48246e-01],\n",
       "        [-2.07028e-01, -5.35965e-01],\n",
       "        [-1.86290e-01, -4.78655e-01],\n",
       "        [-1.32373e-01, -5.07310e-01],\n",
       "        [-1.77995e-01, -2.98538e-01],\n",
       "        [-1.65553e-01, -1.75731e-01],\n",
       "        [-1.61406e-01, -1.26608e-01],\n",
       "        [ 3.45622e-04,  2.58187e-01],\n",
       "        [ 7.91475e-02,  3.56433e-01],\n",
       "        [-2.66129e-02,  1.80409e-01],\n",
       "        [-5.35714e-02,  7.80702e-02],\n",
       "        [-1.41705e-02, -5.29240e-02],\n",
       "        [-7.01613e-02, -1.63450e-01],\n",
       "        [-6.39401e-02, -2.94444e-01],\n",
       "        [-3.07604e-02, -4.66374e-01],\n",
       "        [-5.77189e-02, -5.27778e-01],\n",
       "        [-5.35714e-02, -3.96784e-01],\n",
       "        [ 5.21889e-02, -4.17251e-01],\n",
       "        [-1.62442e-02, -1.67544e-01],\n",
       "        [-6.39401e-02, -8.56725e-02],\n",
       "        [-6.18664e-02, -1.60819e-02],\n",
       "        [-3.80184e-03,  4.38596e-03],\n",
       "        [ 4.18203e-02,  2.04971e-01],\n",
       "        [ 7.91475e-02,  1.92690e-01],\n",
       "        [ 4.59677e-02,  2.54094e-01],\n",
       "        [ 1.18548e-01,  1.92690e-01],\n",
       "        [ 1.10253e-01,  8.62573e-02],\n",
       "        [ 1.08180e-01, -6.92982e-02],\n",
       "        [ 1.66244e-01, -2.42690e-02],\n",
       "        [ 1.41359e-01,  6.57895e-02],\n",
       "        [ 1.43433e-01,  1.68129e-01],\n",
       "        [ 1.70392e-01,  1.92690e-01],\n",
       "        [ 1.08180e-01,  2.99123e-01],\n",
       "        [ 1.18548e-01,  3.19591e-01],\n",
       "        [ 1.26843e-01,  3.93275e-01],\n",
       "        [-8.67512e-02,  4.21930e-01],\n",
       "        [-4.73502e-02,  5.07895e-01],\n",
       "        [ 2.52304e-02,  5.20175e-01],\n",
       "        [ 6.25576e-02,  5.52924e-01],\n",
       "        [-5.87558e-03,  4.42398e-01],\n",
       "        [-5.14977e-02,  5.73392e-01],\n",
       "        [-8.05300e-02,  5.07895e-01],\n",
       "        [-1.53111e-01,  5.52924e-01],\n",
       "        [-1.11636e-01,  5.48830e-01],\n",
       "        [-1.63479e-01,  4.91520e-01],\n",
       "        [-2.52650e-01, -1.88012e-01],\n",
       "        [-2.46429e-01, -3.65497e-02],\n",
       "        [-3.21083e-01, -4.33626e-01],\n",
       "        [-3.31452e-01, -6.05556e-01],\n",
       "        [-3.85369e-01, -5.15497e-01],\n",
       "        [-3.99885e-01, -6.21930e-01],\n",
       "        [-1.24078e-01, -1.26608e-01],\n",
       "        [-3.16935e-01, -2.28947e-01],\n",
       "        [-2.94124e-01, -1.34795e-01],\n",
       "        [-1.53111e-01,  1.84503e-01]]),\n",
       " 'y': array([[1],\n",
       "        [1],\n",
       "        [1],\n",
       "        [1],\n",
       "        [1],\n",
       "        [1],\n",
       "        [1],\n",
       "        [1],\n",
       "        [1],\n",
       "        [1],\n",
       "        [1],\n",
       "        [1],\n",
       "        [1],\n",
       "        [1],\n",
       "        [1],\n",
       "        [1],\n",
       "        [1],\n",
       "        [1],\n",
       "        [1],\n",
       "        [1],\n",
       "        [0],\n",
       "        [0],\n",
       "        [0],\n",
       "        [0],\n",
       "        [0],\n",
       "        [0],\n",
       "        [0],\n",
       "        [0],\n",
       "        [0],\n",
       "        [0],\n",
       "        [0],\n",
       "        [0],\n",
       "        [0],\n",
       "        [0],\n",
       "        [0],\n",
       "        [0],\n",
       "        [1],\n",
       "        [1],\n",
       "        [1],\n",
       "        [0],\n",
       "        [0],\n",
       "        [0],\n",
       "        [0],\n",
       "        [0],\n",
       "        [0],\n",
       "        [0],\n",
       "        [0],\n",
       "        [0],\n",
       "        [0],\n",
       "        [0],\n",
       "        [0],\n",
       "        [0],\n",
       "        [0],\n",
       "        [0],\n",
       "        [0],\n",
       "        [0],\n",
       "        [0],\n",
       "        [0],\n",
       "        [0],\n",
       "        [0],\n",
       "        [0],\n",
       "        [0],\n",
       "        [0],\n",
       "        [0],\n",
       "        [0],\n",
       "        [0],\n",
       "        [0],\n",
       "        [0],\n",
       "        [0],\n",
       "        [0],\n",
       "        [0],\n",
       "        [0],\n",
       "        [0],\n",
       "        [0],\n",
       "        [0],\n",
       "        [0],\n",
       "        [0],\n",
       "        [0],\n",
       "        [0],\n",
       "        [0],\n",
       "        [0],\n",
       "        [1],\n",
       "        [1],\n",
       "        [1],\n",
       "        [1],\n",
       "        [1],\n",
       "        [1],\n",
       "        [1],\n",
       "        [1],\n",
       "        [1],\n",
       "        [1],\n",
       "        [1],\n",
       "        [1],\n",
       "        [1],\n",
       "        [1],\n",
       "        [1],\n",
       "        [1],\n",
       "        [1],\n",
       "        [1],\n",
       "        [1],\n",
       "        [1],\n",
       "        [1],\n",
       "        [1],\n",
       "        [1],\n",
       "        [1],\n",
       "        [1],\n",
       "        [1],\n",
       "        [1],\n",
       "        [1],\n",
       "        [1],\n",
       "        [1],\n",
       "        [1],\n",
       "        [1],\n",
       "        [1],\n",
       "        [1],\n",
       "        [1],\n",
       "        [1],\n",
       "        [0],\n",
       "        [0],\n",
       "        [0],\n",
       "        [0],\n",
       "        [1],\n",
       "        [1],\n",
       "        [1],\n",
       "        [1],\n",
       "        [1],\n",
       "        [1],\n",
       "        [1],\n",
       "        [1],\n",
       "        [1],\n",
       "        [1],\n",
       "        [1],\n",
       "        [1],\n",
       "        [1],\n",
       "        [1],\n",
       "        [1],\n",
       "        [1],\n",
       "        [1],\n",
       "        [1],\n",
       "        [1],\n",
       "        [1],\n",
       "        [1],\n",
       "        [1],\n",
       "        [1],\n",
       "        [1],\n",
       "        [1],\n",
       "        [1],\n",
       "        [1],\n",
       "        [1],\n",
       "        [1],\n",
       "        [1],\n",
       "        [0],\n",
       "        [0],\n",
       "        [0],\n",
       "        [0],\n",
       "        [0],\n",
       "        [0],\n",
       "        [0],\n",
       "        [0],\n",
       "        [0],\n",
       "        [0],\n",
       "        [0],\n",
       "        [0],\n",
       "        [0],\n",
       "        [0],\n",
       "        [0],\n",
       "        [0],\n",
       "        [0],\n",
       "        [0],\n",
       "        [0],\n",
       "        [0],\n",
       "        [0],\n",
       "        [0],\n",
       "        [0],\n",
       "        [0],\n",
       "        [0],\n",
       "        [0],\n",
       "        [0],\n",
       "        [0],\n",
       "        [0],\n",
       "        [0],\n",
       "        [0],\n",
       "        [0],\n",
       "        [0],\n",
       "        [0],\n",
       "        [0],\n",
       "        [0],\n",
       "        [0],\n",
       "        [0],\n",
       "        [0],\n",
       "        [0],\n",
       "        [1],\n",
       "        [1],\n",
       "        [1],\n",
       "        [1],\n",
       "        [1],\n",
       "        [1],\n",
       "        [1],\n",
       "        [1],\n",
       "        [1],\n",
       "        [1],\n",
       "        [1],\n",
       "        [1],\n",
       "        [1],\n",
       "        [0],\n",
       "        [1],\n",
       "        [1],\n",
       "        [1],\n",
       "        [1],\n",
       "        [0],\n",
       "        [0]], dtype=uint8),\n",
       " 'yval': array([[0],\n",
       "        [1],\n",
       "        [0],\n",
       "        [0],\n",
       "        [0],\n",
       "        [0],\n",
       "        [0],\n",
       "        [1],\n",
       "        [1],\n",
       "        [1],\n",
       "        [1],\n",
       "        [1],\n",
       "        [0],\n",
       "        [0],\n",
       "        [1],\n",
       "        [0],\n",
       "        [0],\n",
       "        [1],\n",
       "        [0],\n",
       "        [0],\n",
       "        [0],\n",
       "        [0],\n",
       "        [0],\n",
       "        [1],\n",
       "        [0],\n",
       "        [0],\n",
       "        [0],\n",
       "        [0],\n",
       "        [1],\n",
       "        [0],\n",
       "        [0],\n",
       "        [0],\n",
       "        [0],\n",
       "        [0],\n",
       "        [1],\n",
       "        [1],\n",
       "        [1],\n",
       "        [0],\n",
       "        [0],\n",
       "        [0],\n",
       "        [0],\n",
       "        [1],\n",
       "        [0],\n",
       "        [0],\n",
       "        [0],\n",
       "        [1],\n",
       "        [1],\n",
       "        [0],\n",
       "        [0],\n",
       "        [1],\n",
       "        [0],\n",
       "        [1],\n",
       "        [1],\n",
       "        [1],\n",
       "        [1],\n",
       "        [1],\n",
       "        [1],\n",
       "        [1],\n",
       "        [1],\n",
       "        [1],\n",
       "        [0],\n",
       "        [0],\n",
       "        [0],\n",
       "        [1],\n",
       "        [0],\n",
       "        [1],\n",
       "        [1],\n",
       "        [1],\n",
       "        [1],\n",
       "        [0],\n",
       "        [1],\n",
       "        [1],\n",
       "        [0],\n",
       "        [1],\n",
       "        [0],\n",
       "        [1],\n",
       "        [0],\n",
       "        [0],\n",
       "        [0],\n",
       "        [1],\n",
       "        [0],\n",
       "        [0],\n",
       "        [0],\n",
       "        [1],\n",
       "        [0],\n",
       "        [0],\n",
       "        [1],\n",
       "        [1],\n",
       "        [0],\n",
       "        [0],\n",
       "        [0],\n",
       "        [1],\n",
       "        [0],\n",
       "        [1],\n",
       "        [1],\n",
       "        [0],\n",
       "        [1],\n",
       "        [1],\n",
       "        [0],\n",
       "        [0],\n",
       "        [1],\n",
       "        [1],\n",
       "        [0],\n",
       "        [1],\n",
       "        [1],\n",
       "        [1],\n",
       "        [1],\n",
       "        [1],\n",
       "        [1],\n",
       "        [0],\n",
       "        [1],\n",
       "        [0],\n",
       "        [0],\n",
       "        [1],\n",
       "        [0],\n",
       "        [1],\n",
       "        [0],\n",
       "        [1],\n",
       "        [0],\n",
       "        [0],\n",
       "        [0],\n",
       "        [0],\n",
       "        [0],\n",
       "        [0],\n",
       "        [0],\n",
       "        [0],\n",
       "        [0],\n",
       "        [1],\n",
       "        [1],\n",
       "        [1],\n",
       "        [1],\n",
       "        [0],\n",
       "        [1],\n",
       "        [0],\n",
       "        [1],\n",
       "        [1],\n",
       "        [0],\n",
       "        [0],\n",
       "        [1],\n",
       "        [1],\n",
       "        [0],\n",
       "        [0],\n",
       "        [0],\n",
       "        [0],\n",
       "        [0],\n",
       "        [0],\n",
       "        [1],\n",
       "        [0],\n",
       "        [0],\n",
       "        [1],\n",
       "        [0],\n",
       "        [1],\n",
       "        [1],\n",
       "        [0],\n",
       "        [0],\n",
       "        [1],\n",
       "        [0],\n",
       "        [0],\n",
       "        [1],\n",
       "        [0],\n",
       "        [1],\n",
       "        [0],\n",
       "        [1],\n",
       "        [0],\n",
       "        [0],\n",
       "        [0],\n",
       "        [0],\n",
       "        [0],\n",
       "        [1],\n",
       "        [1],\n",
       "        [0],\n",
       "        [0],\n",
       "        [0],\n",
       "        [0],\n",
       "        [1],\n",
       "        [1],\n",
       "        [0],\n",
       "        [0],\n",
       "        [0],\n",
       "        [1],\n",
       "        [0],\n",
       "        [0],\n",
       "        [1],\n",
       "        [1],\n",
       "        [1],\n",
       "        [0],\n",
       "        [0],\n",
       "        [1],\n",
       "        [0],\n",
       "        [1],\n",
       "        [0],\n",
       "        [0],\n",
       "        [1],\n",
       "        [1],\n",
       "        [1],\n",
       "        [1],\n",
       "        [0],\n",
       "        [0],\n",
       "        [0],\n",
       "        [0]], dtype=uint8),\n",
       " 'Xval': array([[-0.35306235, -0.67390181],\n",
       "        [-0.2271258 ,  0.44731976],\n",
       "        [ 0.09289767, -0.75352419],\n",
       "        [ 0.14824252, -0.71847308],\n",
       "        [-0.00151249,  0.16292786],\n",
       "        [ 0.04533501,  0.20982573],\n",
       "        [ 0.14434613, -0.68720754],\n",
       "        [-0.13807064,  0.55241732],\n",
       "        [-0.16385952,  0.11134314],\n",
       "        [-0.19535742,  0.4011457 ],\n",
       "        [ 0.1863405 ,  0.52186234],\n",
       "        [-0.49340321,  0.06007882],\n",
       "        [-0.0918527 , -0.12178156],\n",
       "        [-0.10428124, -0.54557988],\n",
       "        [-0.20888058,  0.15980217],\n",
       "        [ 0.24239325, -0.44476841],\n",
       "        [ 0.14986252, -0.10482911],\n",
       "        [-0.49949386,  0.01644946],\n",
       "        [ 0.14708703,  0.17669485],\n",
       "        [-0.20265487, -0.18450312],\n",
       "        [ 0.09335189, -0.08481748],\n",
       "        [ 0.11339545,  0.20626961],\n",
       "        [ 0.25152129, -0.24962124],\n",
       "        [-0.07166737,  0.38027844],\n",
       "        [ 0.18055064, -0.49845242],\n",
       "        [-0.18110124, -0.7543908 ],\n",
       "        [ 0.27785389,  0.24844372],\n",
       "        [-0.01327092, -0.48747145],\n",
       "        [-0.01502107,  0.36967342],\n",
       "        [-0.00308691,  0.21570428],\n",
       "        [ 0.2141149 ,  0.4517632 ],\n",
       "        [ 0.04526842, -0.62350648],\n",
       "        [-0.13417062, -0.75042241],\n",
       "        [-0.05519283, -0.08569443],\n",
       "        [-0.45642962,  0.30457343],\n",
       "        [-0.44930938,  0.2521395 ],\n",
       "        [-0.33460047,  0.28108967],\n",
       "        [ 0.14155288, -0.68735638],\n",
       "        [-0.24788379, -0.44652464],\n",
       "        [-0.04867248, -0.79481614],\n",
       "        [-0.19644304, -0.60949512],\n",
       "        [-0.49903366, -0.48378051],\n",
       "        [-0.04108153, -0.33717187],\n",
       "        [-0.28101764, -0.02116391],\n",
       "        [-0.1756489 , -0.16079769],\n",
       "        [-0.46788726, -0.03606064],\n",
       "        [-0.41606452,  0.50923811],\n",
       "        [ 0.29091938,  0.00281817],\n",
       "        [ 0.02219132,  0.10162396],\n",
       "        [-0.42158567,  0.39027243],\n",
       "        [ 0.1312701 , -0.19991088],\n",
       "        [-0.41008228, -0.67280407],\n",
       "        [-0.35553717,  0.27731659],\n",
       "        [-0.35760857,  0.52170388],\n",
       "        [-0.30571571,  0.38303523],\n",
       "        [-0.02607286,  0.37125026],\n",
       "        [-0.11757221, -0.02881462],\n",
       "        [-0.24149786, -0.04582353],\n",
       "        [-0.18033413,  0.00628885],\n",
       "        [ 0.26392833, -0.19920115],\n",
       "        [-0.32814337, -0.62828486],\n",
       "        [-0.29850456, -0.71993032],\n",
       "        [-0.11643577, -0.41548515],\n",
       "        [-0.46780346, -0.11866615],\n",
       "        [ 0.06911927, -0.51905734],\n",
       "        [-0.04271503,  0.33006558],\n",
       "        [-0.3385095 ,  0.07544364],\n",
       "        [-0.16095543,  0.15532539],\n",
       "        [-0.07511389,  0.52723462],\n",
       "        [-0.42933428, -0.32823455],\n",
       "        [-0.16383887,  0.59636143],\n",
       "        [-0.45116398, -0.36885502],\n",
       "        [ 0.0477326 ,  0.08964546],\n",
       "        [-0.20718875,  0.029608  ],\n",
       "        [ 0.12999743, -0.76144357],\n",
       "        [-0.17031431,  0.26024428],\n",
       "        [ 0.16669776, -0.66180432],\n",
       "        [ 0.10966868, -0.02214623],\n",
       "        [ 0.02952713,  0.1205507 ],\n",
       "        [-0.38108519, -0.68066679],\n",
       "        [-0.03730684, -0.16967073],\n",
       "        [ 0.23863706, -0.33979185],\n",
       "        [ 0.1794064 ,  0.36614806],\n",
       "        [-0.44541368,  0.48773358],\n",
       "        [-0.13173944, -0.37301885],\n",
       "        [ 0.25816653,  0.3214765 ],\n",
       "        [-0.17144475, -0.05436293],\n",
       "        [ 0.0223521 ,  0.46044783],\n",
       "        [ 0.2175178 , -0.64838015],\n",
       "        [ 0.16482247, -0.56009307],\n",
       "        [ 0.10561683, -0.47356917],\n",
       "        [-0.4963785 , -0.53039871],\n",
       "        [-0.2907698 ,  0.39282998],\n",
       "        [-0.35518369, -0.19033134],\n",
       "        [-0.11756326,  0.45045063],\n",
       "        [ 0.2124443 ,  0.24409336],\n",
       "        [-0.33588692, -0.42208135],\n",
       "        [-0.21834424,  0.42598976],\n",
       "        [ 0.2664948 , -0.41708775],\n",
       "        [ 0.01073067,  0.1157563 ],\n",
       "        [ 0.14320849,  0.57290223],\n",
       "        [-0.49639587,  0.24764736],\n",
       "        [ 0.01985078, -0.3142498 ],\n",
       "        [-0.49432988,  0.40264768],\n",
       "        [-0.10664757, -0.00867353],\n",
       "        [-0.00319048,  0.50973211],\n",
       "        [-0.42560461,  0.21494326],\n",
       "        [ 0.01205282,  0.43847113],\n",
       "        [-0.42333424, -0.22920959],\n",
       "        [-0.18530875, -0.21966031],\n",
       "        [-0.21421786,  0.57175744],\n",
       "        [-0.31768577, -0.34148012],\n",
       "        [ 0.14291722,  0.08564325],\n",
       "        [-0.32157713,  0.15996528],\n",
       "        [-0.08101309,  0.01944172],\n",
       "        [-0.25938858, -0.05106505],\n",
       "        [-0.01728897, -0.57578078],\n",
       "        [-0.00865689,  0.40091322],\n",
       "        [ 0.0123751 , -0.27619353],\n",
       "        [ 0.2679647 , -0.49294225],\n",
       "        [-0.2220084 , -0.28870081],\n",
       "        [ 0.17236739, -0.47234967],\n",
       "        [ 0.13126105, -0.23841632],\n",
       "        [ 0.24179202, -0.23915142],\n",
       "        [ 0.1222105 , -0.18139411],\n",
       "        [ 0.05346095, -0.05415873],\n",
       "        [-0.2122828 , -0.49059782],\n",
       "        [-0.40454458, -0.53062928],\n",
       "        [-0.37627313, -0.36278139],\n",
       "        [-0.40516269,  0.00920269],\n",
       "        [-0.3576407 , -0.18299568],\n",
       "        [-0.05349795, -0.53677784],\n",
       "        [-0.29150432, -0.03586948],\n",
       "        [ 0.20878861, -0.21603988],\n",
       "        [-0.02555617,  0.26925529],\n",
       "        [-0.44039164, -0.7207657 ],\n",
       "        [ 0.19021425, -0.7314299 ],\n",
       "        [ 0.12623856, -0.4287631 ],\n",
       "        [-0.33099112, -0.01338599],\n",
       "        [-0.31851586,  0.06686597],\n",
       "        [-0.16257604, -0.72654767],\n",
       "        [ 0.00302448, -0.71336776],\n",
       "        [-0.09090669, -0.48357423],\n",
       "        [ 0.16334486,  0.29270667],\n",
       "        [ 0.11745137, -0.10436159],\n",
       "        [ 0.05169295, -0.49777696],\n",
       "        [-0.43946652,  0.24581507],\n",
       "        [ 0.20343101,  0.00870498],\n",
       "        [ 0.24735643,  0.06879417],\n",
       "        [-0.28638208,  0.12963342],\n",
       "        [ 0.03336897, -0.67034231],\n",
       "        [-0.22278369, -0.14869216],\n",
       "        [-0.27930754,  0.43238638],\n",
       "        [ 0.10390813,  0.10306382],\n",
       "        [-0.22047998, -0.76702369],\n",
       "        [-0.22122989,  0.02037055],\n",
       "        [ 0.10595997, -0.12451613],\n",
       "        [ 0.00536441,  0.10208984],\n",
       "        [-0.18630331,  0.08037445],\n",
       "        [ 0.07871049,  0.04847465],\n",
       "        [-0.03904464,  0.18299267],\n",
       "        [ 0.02897219, -0.02251376],\n",
       "        [-0.24701344,  0.35259805],\n",
       "        [ 0.26144865,  0.38051718],\n",
       "        [-0.1457531 , -0.46868559],\n",
       "        [ 0.0298899 ,  0.10126281],\n",
       "        [-0.20212221, -0.3266953 ],\n",
       "        [ 0.13433263, -0.63985405],\n",
       "        [-0.40741669,  0.55315944],\n",
       "        [-0.40943778,  0.46177788],\n",
       "        [ 0.25701656, -0.52299972],\n",
       "        [ 0.11003269, -0.52541811],\n",
       "        [ 0.25896689, -0.45826105],\n",
       "        [ 0.15383051,  0.10749309],\n",
       "        [-0.14735839,  0.44665931],\n",
       "        [ 0.14736828, -0.41425849],\n",
       "        [-0.03874009, -0.48927081],\n",
       "        [ 0.2255192 ,  0.27762013],\n",
       "        [ 0.26950824, -0.66565116],\n",
       "        [ 0.12482879,  0.50814405],\n",
       "        [ 0.17162781, -0.42429453],\n",
       "        [ 0.005052  , -0.04760931],\n",
       "        [-0.35458825,  0.37126309],\n",
       "        [-0.47738659, -0.68693223],\n",
       "        [-0.24116903,  0.28161654],\n",
       "        [ 0.09375793, -0.77221995],\n",
       "        [-0.29988892, -0.67487155],\n",
       "        [-0.16247809,  0.17209416],\n",
       "        [ 0.19682557, -0.14566765],\n",
       "        [-0.34801539, -0.2592839 ],\n",
       "        [ 0.14035793, -0.68428925],\n",
       "        [-0.04634861, -0.14915378],\n",
       "        [-0.23929465,  0.56220974],\n",
       "        [-0.45785597,  0.25374027],\n",
       "        [-0.10819348,  0.59753216],\n",
       "        [ 0.00520265, -0.54444942],\n",
       "        [ 0.17635156, -0.57245363],\n",
       "        [ 0.127651  , -0.34093757],\n",
       "        [ 0.24868221, -0.49750183],\n",
       "        [-0.31689909, -0.42941273]])}"
      ]
     },
     "execution_count": 27,
     "metadata": {},
     "output_type": "execute_result"
    }
   ],
   "source": [
    "data3"
   ]
  },
  {
   "cell_type": "code",
   "execution_count": 43,
   "metadata": {},
   "outputs": [],
   "source": [
    "X_3 = data3['X']\n",
    "y_3 = data3['y']\n",
    "X_3_val = data3['Xval']\n",
    "y_3_val = data3['yval']"
   ]
  },
  {
   "cell_type": "code",
   "execution_count": 44,
   "metadata": {},
   "outputs": [
    {
     "data": {
      "image/png": "[encoded data removed]",
      "text/plain": [
       "<Figure size 432x288 with 1 Axes>"
      ]
     },
     "metadata": {
      "needs_background": "light"
     },
     "output_type": "display_data"
    }
   ],
   "source": [
    "plot_2d_data(X_3, y_3)"
   ]
  },
  {
   "cell_type": "markdown",
   "metadata": {},
   "source": [
    "**gamma is equivalent to** $\\frac{1}{2*{\\sigma^{2}}}$"
   ]
  },
  {
   "cell_type": "markdown",
   "metadata": {},
   "source": [
    "Here we are using cross-validation set to try different value of C and gamma(sigma) and find out the best parameters by calculating accuracies"
   ]
  },
  {
   "cell_type": "code",
   "execution_count": 133,
   "metadata": {},
   "outputs": [
    {
     "data": {
      "text/plain": [
       "SVC(C=1, cache_size=200, class_weight=None, coef0=0.0,\n",
       "  decision_function_shape='ovr', degree=3, gamma=60, kernel='rbf',\n",
       "  max_iter=-1, probability=False, random_state=None, shrinking=True,\n",
       "  tol=0.001, verbose=False)"
      ]
     },
     "execution_count": 133,
     "metadata": {},
     "output_type": "execute_result"
    }
   ],
   "source": [
    "clf_3 = SVC(kernel='rbf', C=1, gamma=60)\n",
    "clf_3.fit(X_3, y_3.flatten())"
   ]
  },
  {
   "cell_type": "code",
   "execution_count": 134,
   "metadata": {},
   "outputs": [
    {
     "data": {
      "text/plain": [
       "94.3127962085308"
      ]
     },
     "execution_count": 134,
     "metadata": {},
     "output_type": "execute_result"
    }
   ],
   "source": [
    "np.mean(np.double(y_3.flatten() == clf_3.predict(X_3)))*100"
   ]
  },
  {
   "cell_type": "code",
   "execution_count": 135,
   "metadata": {
    "scrolled": false
   },
   "outputs": [
    {
     "data": {
      "image/png": "[encoded data removed]",
      "text/plain": [
       "<Figure size 432x288 with 1 Axes>"
      ]
     },
     "metadata": {
      "needs_background": "light"
     },
     "output_type": "display_data"
    }
   ],
   "source": [
    "plotGaussianBoundary(X_3, y_3, clf_3)"
   ]
  },
  {
   "cell_type": "markdown",
   "metadata": {},
   "source": [
    "Defining a function lig=ke grid search CV to find out the best parameters"
   ]
  },
  {
   "cell_type": "code",
   "execution_count": 176,
   "metadata": {},
   "outputs": [],
   "source": [
    "def dataset3Params(X, y, X_val, y_val):\n",
    "    values = [0.01, 0.03, 0.1, 0.3, 1, 3, 10, 30]\n",
    "    accuracy_old = 0\n",
    "    sigma_best = 0\n",
    "    c_best = 0\n",
    "    for c in values:\n",
    "        for sigma in values:\n",
    "            gamma = 1/(2*(sigma**2))\n",
    "            clf = SVC(kernel='rbf', gamma = gamma, C=c)\n",
    "            clf.fit(X,y.flatten())\n",
    "            accuracy_new = np.mean(np.double(y_val.flatten() == clf.predict(X_val)))\n",
    "            print(\"Accuracy New\", accuracy_new)\n",
    "            if accuracy_new > accuracy_old:\n",
    "                accuracy_old = accuracy_new\n",
    "                sigma_best = sigma\n",
    "                c_best = c\n",
    "    return (sigma_best,c_best)\n",
    "    "
   ]
  },
  {
   "cell_type": "code",
   "execution_count": 172,
   "metadata": {},
   "outputs": [],
   "source": [
    "sigma ,  C = dataset3Params(X_3, y_3, X_3_val, y_3_val)"
   ]
  },
  {
   "cell_type": "code",
   "execution_count": 173,
   "metadata": {},
   "outputs": [
    {
     "data": {
      "text/plain": [
       "0.1"
      ]
     },
     "execution_count": 173,
     "metadata": {},
     "output_type": "execute_result"
    }
   ],
   "source": [
    "sigma"
   ]
  },
  {
   "cell_type": "code",
   "execution_count": 175,
   "metadata": {},
   "outputs": [
    {
     "data": {
      "text/plain": [
       "1"
      ]
     },
     "execution_count": 175,
     "metadata": {},
     "output_type": "execute_result"
    }
   ],
   "source": [
    "C"
   ]
  },
  {
   "cell_type": "code",
   "execution_count": 178,
   "metadata": {},
   "outputs": [
    {
     "data": {
      "text/plain": [
       "49.99999999999999"
      ]
     },
     "execution_count": 178,
     "metadata": {},
     "output_type": "execute_result"
    }
   ],
   "source": [
    "gamma = 1/(2*(sigma**2))\n",
    "gamma"
   ]
  },
  {
   "cell_type": "code",
   "execution_count": 179,
   "metadata": {},
   "outputs": [],
   "source": [
    "clf_3 = SVC(kernel='rbf', C=C, gamma=gamma)\n"
   ]
  },
  {
   "cell_type": "code",
   "execution_count": 180,
   "metadata": {},
   "outputs": [
    {
     "data": {
      "text/plain": [
       "SVC(C=1, cache_size=200, class_weight=None, coef0=0.0,\n",
       "  decision_function_shape='ovr', degree=3, gamma=49.99999999999999,\n",
       "  kernel='rbf', max_iter=-1, probability=False, random_state=None,\n",
       "  shrinking=True, tol=0.001, verbose=False)"
      ]
     },
     "execution_count": 180,
     "metadata": {},
     "output_type": "execute_result"
    }
   ],
   "source": [
    "clf_3.fit(X_3, y_3.flatten())"
   ]
  },
  {
   "cell_type": "code",
   "execution_count": 181,
   "metadata": {},
   "outputs": [
    {
     "data": {
      "image/png": "[encoded data removed]",
      "text/plain": [
       "<Figure size 432x288 with 1 Axes>"
      ]
     },
     "metadata": {
      "needs_background": "light"
     },
     "output_type": "display_data"
    }
   ],
   "source": [
    "plotGaussianBoundary(X_3, y_3, clf_3)"
   ]
  },
  {
   "cell_type": "markdown",
   "metadata": {},
   "source": [
    "As per the exercise"
   ]
  },
  {
   "cell_type": "code",
   "execution_count": null,
   "metadata": {},
   "outputs": [],
   "source": []
  }
 ],
 "metadata": {
  "kernelspec": {
   "display_name": "Python 3",
   "language": "python",
   "name": "python3"
  },
  "language_info": {
   "codemirror_mode": {
    "name": "ipython",
    "version": 3
   },
   "file_extension": ".py",
   "mimetype": "text/x-python",
   "name": "python",
   "nbconvert_exporter": "python",
   "pygments_lexer": "ipython3",
   "version": "3.7.1"
  }
 },
 "nbformat": 4,
 "nbformat_minor": 2
}
